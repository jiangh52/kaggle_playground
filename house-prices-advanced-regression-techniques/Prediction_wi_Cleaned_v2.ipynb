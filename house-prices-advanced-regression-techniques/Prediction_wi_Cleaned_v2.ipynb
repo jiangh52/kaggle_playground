{
 "cells": [
  {
   "cell_type": "markdown",
   "metadata": {},
   "source": [
    "Author:  Hao Jiang\n",
    "## Goal for this notebook\n",
    "Use version 2 data cleaning and try prediction"
   ]
  },
  {
   "cell_type": "code",
   "execution_count": 1,
   "metadata": {
    "collapsed": true
   },
   "outputs": [],
   "source": [
    "import pandas as pd\n",
    "import numpy as np\n",
    "import seaborn as sns\n",
    "import matplotlib\n",
    "import matplotlib.pyplot as plt\n",
    "import sklearn\n",
    "\n",
    "from scipy.stats import skew\n",
    "from scipy.stats.stats import pearsonr\n",
    "\n",
    "%config InlineBackend.figure_format = 'retina' #set 'png' here when working on notebook\n",
    "%matplotlib inline"
   ]
  },
  {
   "cell_type": "code",
   "execution_count": 2,
   "metadata": {
    "collapsed": false
   },
   "outputs": [
    {
     "data": {
      "text/html": [
       "<div>\n",
       "<table border=\"1\" class=\"dataframe\">\n",
       "  <thead>\n",
       "    <tr style=\"text-align: right;\">\n",
       "      <th></th>\n",
       "      <th>Id</th>\n",
       "      <th>MSSubClass</th>\n",
       "      <th>MSZoning</th>\n",
       "      <th>LotFrontage</th>\n",
       "      <th>LotArea</th>\n",
       "      <th>Street</th>\n",
       "      <th>Alley</th>\n",
       "      <th>LotShape</th>\n",
       "      <th>LandContour</th>\n",
       "      <th>Utilities</th>\n",
       "      <th>...</th>\n",
       "      <th>PoolArea</th>\n",
       "      <th>PoolQC</th>\n",
       "      <th>Fence</th>\n",
       "      <th>MiscFeature</th>\n",
       "      <th>MiscVal</th>\n",
       "      <th>MoSold</th>\n",
       "      <th>YrSold</th>\n",
       "      <th>SaleType</th>\n",
       "      <th>SaleCondition</th>\n",
       "      <th>SalePrice</th>\n",
       "    </tr>\n",
       "  </thead>\n",
       "  <tbody>\n",
       "    <tr>\n",
       "      <th>0</th>\n",
       "      <td>1</td>\n",
       "      <td>60</td>\n",
       "      <td>RL</td>\n",
       "      <td>65.0</td>\n",
       "      <td>8450</td>\n",
       "      <td>Pave</td>\n",
       "      <td>NaN</td>\n",
       "      <td>Reg</td>\n",
       "      <td>Lvl</td>\n",
       "      <td>AllPub</td>\n",
       "      <td>...</td>\n",
       "      <td>0</td>\n",
       "      <td>NaN</td>\n",
       "      <td>NaN</td>\n",
       "      <td>NaN</td>\n",
       "      <td>0</td>\n",
       "      <td>2</td>\n",
       "      <td>2008</td>\n",
       "      <td>WD</td>\n",
       "      <td>Normal</td>\n",
       "      <td>208500</td>\n",
       "    </tr>\n",
       "    <tr>\n",
       "      <th>1</th>\n",
       "      <td>2</td>\n",
       "      <td>20</td>\n",
       "      <td>RL</td>\n",
       "      <td>80.0</td>\n",
       "      <td>9600</td>\n",
       "      <td>Pave</td>\n",
       "      <td>NaN</td>\n",
       "      <td>Reg</td>\n",
       "      <td>Lvl</td>\n",
       "      <td>AllPub</td>\n",
       "      <td>...</td>\n",
       "      <td>0</td>\n",
       "      <td>NaN</td>\n",
       "      <td>NaN</td>\n",
       "      <td>NaN</td>\n",
       "      <td>0</td>\n",
       "      <td>5</td>\n",
       "      <td>2007</td>\n",
       "      <td>WD</td>\n",
       "      <td>Normal</td>\n",
       "      <td>181500</td>\n",
       "    </tr>\n",
       "    <tr>\n",
       "      <th>2</th>\n",
       "      <td>3</td>\n",
       "      <td>60</td>\n",
       "      <td>RL</td>\n",
       "      <td>68.0</td>\n",
       "      <td>11250</td>\n",
       "      <td>Pave</td>\n",
       "      <td>NaN</td>\n",
       "      <td>IR1</td>\n",
       "      <td>Lvl</td>\n",
       "      <td>AllPub</td>\n",
       "      <td>...</td>\n",
       "      <td>0</td>\n",
       "      <td>NaN</td>\n",
       "      <td>NaN</td>\n",
       "      <td>NaN</td>\n",
       "      <td>0</td>\n",
       "      <td>9</td>\n",
       "      <td>2008</td>\n",
       "      <td>WD</td>\n",
       "      <td>Normal</td>\n",
       "      <td>223500</td>\n",
       "    </tr>\n",
       "    <tr>\n",
       "      <th>3</th>\n",
       "      <td>4</td>\n",
       "      <td>70</td>\n",
       "      <td>RL</td>\n",
       "      <td>60.0</td>\n",
       "      <td>9550</td>\n",
       "      <td>Pave</td>\n",
       "      <td>NaN</td>\n",
       "      <td>IR1</td>\n",
       "      <td>Lvl</td>\n",
       "      <td>AllPub</td>\n",
       "      <td>...</td>\n",
       "      <td>0</td>\n",
       "      <td>NaN</td>\n",
       "      <td>NaN</td>\n",
       "      <td>NaN</td>\n",
       "      <td>0</td>\n",
       "      <td>2</td>\n",
       "      <td>2006</td>\n",
       "      <td>WD</td>\n",
       "      <td>Abnorml</td>\n",
       "      <td>140000</td>\n",
       "    </tr>\n",
       "    <tr>\n",
       "      <th>4</th>\n",
       "      <td>5</td>\n",
       "      <td>60</td>\n",
       "      <td>RL</td>\n",
       "      <td>84.0</td>\n",
       "      <td>14260</td>\n",
       "      <td>Pave</td>\n",
       "      <td>NaN</td>\n",
       "      <td>IR1</td>\n",
       "      <td>Lvl</td>\n",
       "      <td>AllPub</td>\n",
       "      <td>...</td>\n",
       "      <td>0</td>\n",
       "      <td>NaN</td>\n",
       "      <td>NaN</td>\n",
       "      <td>NaN</td>\n",
       "      <td>0</td>\n",
       "      <td>12</td>\n",
       "      <td>2008</td>\n",
       "      <td>WD</td>\n",
       "      <td>Normal</td>\n",
       "      <td>250000</td>\n",
       "    </tr>\n",
       "  </tbody>\n",
       "</table>\n",
       "<p>5 rows × 81 columns</p>\n",
       "</div>"
      ],
      "text/plain": [
       "   Id  MSSubClass MSZoning  LotFrontage  LotArea Street Alley LotShape  \\\n",
       "0   1          60       RL         65.0     8450   Pave   NaN      Reg   \n",
       "1   2          20       RL         80.0     9600   Pave   NaN      Reg   \n",
       "2   3          60       RL         68.0    11250   Pave   NaN      IR1   \n",
       "3   4          70       RL         60.0     9550   Pave   NaN      IR1   \n",
       "4   5          60       RL         84.0    14260   Pave   NaN      IR1   \n",
       "\n",
       "  LandContour Utilities    ...     PoolArea PoolQC Fence MiscFeature MiscVal  \\\n",
       "0         Lvl    AllPub    ...            0    NaN   NaN         NaN       0   \n",
       "1         Lvl    AllPub    ...            0    NaN   NaN         NaN       0   \n",
       "2         Lvl    AllPub    ...            0    NaN   NaN         NaN       0   \n",
       "3         Lvl    AllPub    ...            0    NaN   NaN         NaN       0   \n",
       "4         Lvl    AllPub    ...            0    NaN   NaN         NaN       0   \n",
       "\n",
       "  MoSold YrSold  SaleType  SaleCondition  SalePrice  \n",
       "0      2   2008        WD         Normal     208500  \n",
       "1      5   2007        WD         Normal     181500  \n",
       "2      9   2008        WD         Normal     223500  \n",
       "3      2   2006        WD        Abnorml     140000  \n",
       "4     12   2008        WD         Normal     250000  \n",
       "\n",
       "[5 rows x 81 columns]"
      ]
     },
     "execution_count": 2,
     "metadata": {},
     "output_type": "execute_result"
    }
   ],
   "source": [
    "train = pd.read_csv(\"./train.csv\")\n",
    "test = pd.read_csv(\"./test.csv\")\n",
    "train.head()\n",
    "# test.head()"
   ]
  },
  {
   "cell_type": "code",
   "execution_count": 3,
   "metadata": {
    "collapsed": false
   },
   "outputs": [],
   "source": [
    "# combine the data and take all of the feature. This is for easier feature engineering. \n",
    "all_data = pd.concat((train.iloc[:,1:-1], test.iloc[:,1:-1]))\n",
    "Y = train[\"SalePrice\"]\n",
    "\n",
    "# remember the length of train data\n",
    "trainLen = len(train)"
   ]
  },
  {
   "cell_type": "markdown",
   "metadata": {},
   "source": [
    "Due to previous prediction, we could see that living area and other area infomation is a crucial predictor to final sold price. Insteed of the sold price, price per SF could be a better feature to compare the effect of other features. But first, we need to have some conversions on these continuouse data.  \n",
    "To begin with, we can see that GrLivArea = 1stFlrSF + 2ndFlrSF, TotalBsmtSF = BsmtFinSF1 + BsmtFinSF2 + BsmtUnfSF. So if seems better to reduce the features here."
   ]
  },
  {
   "cell_type": "code",
   "execution_count": 4,
   "metadata": {
    "collapsed": false
   },
   "outputs": [],
   "source": [
    "# There is a na TotalBsmtSF value in the test set for \n",
    "all_data.loc[all_data[\"TotalBsmtSF\"].isnull(),'TotalBsmtSF'] = 0\n",
    "\n",
    "all_data[\"1stFlrSFRatio\"] = all_data[\"1stFlrSF\"] * 1.0 / all_data[\"GrLivArea\"]\n",
    "all_data[\"BsmtUnfSFRatio\"] = all_data[\"BsmtUnfSF\"] * 1.0 / all_data[\"TotalBsmtSF\"]\n",
    "all_data[\"BsmtFinSF1Ratio\"] = all_data[\"BsmtFinSF1\"] * 1.0 / all_data[\"TotalBsmtSF\"]\n",
    "all_data[\"BsmtFinSF2Ratio\"] = all_data[\"BsmtFinSF2\"] * 1.0 / all_data[\"TotalBsmtSF\"]\n",
    "# BsmtFinSF1 & 2 would be latter merged with type"
   ]
  },
  {
   "cell_type": "code",
   "execution_count": 5,
   "metadata": {
    "collapsed": false
   },
   "outputs": [],
   "source": [
    "# Add a variable for total porch Area\n",
    "all_data['TotalPorchSF'] = all_data[['OpenPorchSF', 'EnclosedPorch', '3SsnPorch', 'ScreenPorch']].sum(axis = 1)\n",
    "# Add a variable for total living area\n",
    "all_data['TotalLivArea'] = all_data['GrLivArea'] + all_data['TotalBsmtSF']\n"
   ]
  },
  {
   "cell_type": "code",
   "execution_count": 6,
   "metadata": {
    "collapsed": true
   },
   "outputs": [],
   "source": [
    "# Drop already processed features\n",
    "all_data = all_data.drop([\n",
    "        '1stFlrSF','2ndFlrSF',\n",
    "        'BsmtFinSF1','BsmtFinSF2','BsmtUnfSF',\n",
    "        'OpenPorchSF', 'EnclosedPorch', '3SsnPorch', 'ScreenPorch'\n",
    "], axis=1)"
   ]
  },
  {
   "cell_type": "code",
   "execution_count": 7,
   "metadata": {
    "collapsed": false
   },
   "outputs": [
    {
     "data": {
      "text/plain": [
       "(12, 16)"
      ]
     },
     "execution_count": 7,
     "metadata": {},
     "output_type": "execute_result"
    }
   ],
   "source": [
    "continuous_feats = pd.Index([name for name in all_data.columns if \"Area\" in name or \"SF\" in name] + ['LotFrontage', 'MiscVal'])\n",
    "area_feats = pd.Index([name for name in continuous_feats if 'Ratio' not in name])\n",
    "len(area_feats), len(continuous_feats)"
   ]
  },
  {
   "cell_type": "code",
   "execution_count": 8,
   "metadata": {
    "collapsed": false
   },
   "outputs": [],
   "source": [
    "# matplotlib.rcParams['figure.figsize'] = (12.0, 18.0)\n",
    "\n",
    "# # Non zeor non null histogram\n",
    "# for i in range(len(area_feats)):\n",
    "#     plt.subplot(4,3, i + 1)\n",
    "#     plt.hist(all_data[area_feats[i]].loc[all_data[area_feats[i]] > 0], bins=20)\n",
    "#     plt.title(area_feats[i])"
   ]
  },
  {
   "cell_type": "markdown",
   "metadata": {},
   "source": [
    "Many of these values are skewed. Let's convert them (apart from the ratio features)."
   ]
  },
  {
   "cell_type": "code",
   "execution_count": 9,
   "metadata": {
    "collapsed": false
   },
   "outputs": [
    {
     "data": {
      "text/plain": [
       "Index([u'GrLivArea', u'LotArea', u'LowQualFinSF', u'MasVnrArea',\n",
       "       u'TotalBsmtSF', u'WoodDeckSF', u'TotalPorchSF', u'TotalLivArea',\n",
       "       u'LotFrontage', u'MiscVal'],\n",
       "      dtype='object')"
      ]
     },
     "execution_count": 9,
     "metadata": {},
     "output_type": "execute_result"
    }
   ],
   "source": [
    "skewed_feats = all_data[area_feats].apply(lambda x: skew(x[x > 0]))\n",
    "skewed_feats = skewed_feats[skewed_feats > 0.9].index\n",
    "skewed_feats"
   ]
  },
  {
   "cell_type": "code",
   "execution_count": 10,
   "metadata": {
    "collapsed": false
   },
   "outputs": [],
   "source": [
    "# Seems fine, let's convert. But before converting them that's make a feature for price per SF LivArea\n",
    "\n",
    "YPerSF = Y / all_data['TotalLivArea'][:trainLen]\n",
    "Y = np.log1p(Y)\n",
    "YPerSF = np.log1p(YPerSF)\n",
    "all_data[skewed_feats] = np.log1p(all_data[skewed_feats])"
   ]
  },
  {
   "cell_type": "code",
   "execution_count": 11,
   "metadata": {
    "collapsed": false
   },
   "outputs": [],
   "source": [
    "# # Not let's check the scatter of these values to price\n",
    "# matplotlib.rcParams['figure.figsize'] = (12.0, 18.0)\n",
    "\n",
    "# # Non zeor non null histogram\n",
    "# for i in range(len(continuous_feats)):\n",
    "#     plt.subplot(4,4, i + 1)\n",
    "#     plt.scatter(y = Y, x = all_data[continuous_feats[i]][:trainLen])\n",
    "#     plt.title(continuous_feats[i])"
   ]
  },
  {
   "cell_type": "markdown",
   "metadata": {},
   "source": [
    "We can see that TotalLivingArea is Stronging correlated to price.\n",
    "\n",
    "According to hint, there're some outliers. Let's check the distribution of total living area for both train and test set."
   ]
  },
  {
   "cell_type": "code",
   "execution_count": 12,
   "metadata": {
    "collapsed": false
   },
   "outputs": [],
   "source": [
    "# matplotlib.rcParams['figure.figsize'] = (12.0, 6.0)\n",
    "# plt.subplot(121)\n",
    "# all_data[:trainLen]['TotalLivArea'].hist(bins = 20)\n",
    "# plt.title('Train set total living area hist')\n",
    "# plt.subplot(122)\n",
    "# all_data[trainLen:]['TotalLivArea'].hist(bins = 20)\n",
    "# plt.title('Test set total living area hist')"
   ]
  },
  {
   "cell_type": "markdown",
   "metadata": {},
   "source": [
    "It seems that we could ignore data for log1p(TtllivingArea) < 6"
   ]
  },
  {
   "cell_type": "code",
   "execution_count": 13,
   "metadata": {
    "collapsed": false
   },
   "outputs": [
    {
     "data": {
      "text/plain": [
       "Int64Index([533], dtype='int64')"
      ]
     },
     "execution_count": 13,
     "metadata": {},
     "output_type": "execute_result"
    }
   ],
   "source": [
    "all_data.index[all_data['TotalLivArea'] <= 6]"
   ]
  },
  {
   "cell_type": "code",
   "execution_count": 14,
   "metadata": {
    "collapsed": false
   },
   "outputs": [],
   "source": [
    "# Latter\n",
    "# all_data[:trainLen] = all_data[:trainLen].drop([533], axis = 0).shape\n",
    "# all_data[:trainLen].shape"
   ]
  },
  {
   "cell_type": "markdown",
   "metadata": {},
   "source": [
    "Basically that's all for continuous data. Now that's convert Ordinal ones."
   ]
  },
  {
   "cell_type": "code",
   "execution_count": 15,
   "metadata": {
    "collapsed": false
   },
   "outputs": [],
   "source": [
    "# LotShape\n",
    "all_data['LotShape'] = all_data['LotShape'].replace(['IR3','IR2','IR1' ,'Reg'], [1,2,3,4])\n",
    "all_data['LandContour'] = all_data['LandContour'].replace(['Low', 'HLS', 'Bnk','Lvl'], [1,2,3,4])\n",
    "all_data['Utilities'] = all_data['Utilities'].replace(['ELO','NoSeWa','NoSewr','AllPub'], [1,2,3,4])\n",
    "all_data['LandSlope'] = all_data['LandSlope'].replace(['Sev' , 'Mod', 'Gtl'], [1,2,3])\n",
    "all_data['ExterQual'] = all_data['ExterQual'].replace(['Po', 'Fa', 'TA', 'Gd', 'Ex'], [1,2,3,4,5])\n",
    "all_data['ExterCond'] = all_data['ExterCond'].replace(['Po', 'Fa', 'TA', 'Gd', 'Ex'], [1,2,3,4,5])\n",
    "all_data['BsmtQual'] = all_data['BsmtQual'].replace(['Po', 'Fa', 'TA', 'Gd', 'Ex'], [1,2,3,4,5])\n",
    "all_data['BsmtCond'] = all_data['BsmtCond'].replace(['Po', 'Fa', 'TA', 'Gd', 'Ex'], [1,2,3,4,5])\n",
    "all_data['BsmtExposure'] = all_data['BsmtExposure'].replace(['No', 'Mn', 'Av', 'Gd'], [1,2,3,4])\n",
    "all_data['BsmtFinType1'] = all_data['BsmtFinType1'].replace(['Unf', 'LwQ', 'Rec', 'BLQ', 'ALQ', 'GLQ'], [1,2,3,4,5,6])\n",
    "all_data['BsmtFinType2'] = all_data['BsmtFinType2'].replace(['Unf', 'LwQ', 'Rec', 'BLQ', 'ALQ', 'GLQ'], [1,2,3,4,5,6])\n",
    "all_data['HeatingQC'] = all_data['HeatingQC'].replace(['Po', 'Fa', 'TA', 'Gd', 'Ex'], [1,2,3,4,5])\n",
    "all_data['KitchenQual'] = all_data['KitchenQual'].replace(['Po', 'Fa', 'TA', 'Gd', 'Ex'], [1,2,3,4,5])\n",
    "all_data['Functional'] = all_data['Functional'].replace(['Sal','Sev','Maj2','Maj1','Mod','Min2','Min1','Typ'], [\n",
    "        1,2,3,4,5,6,7,8])\n",
    "all_data['FireplaceQu'] = all_data['FireplaceQu'].replace(['Po', 'Fa', 'TA', 'Gd', 'Ex'], [1,2,3,4,5])\n",
    "all_data['GarageFinish'] = all_data['GarageFinish'].replace(['Unf', 'RFn', 'Fin'], [1,2,3])\n",
    "all_data['GarageQual'] = all_data['GarageQual'].replace(['Po', 'Fa', 'TA', 'Gd', 'Ex'], [1,2,3,4,5])\n",
    "all_data['GarageCond'] = all_data['GarageCond'].replace(['Po', 'Fa', 'TA', 'Gd', 'Ex'], [1,2,3,4,5])\n",
    "all_data['PoolQC'] = all_data['PoolQC'].replace(['Fa', 'TA', 'Gd', 'Ex'], [1,2,3,4])\n",
    "all_data['Fence'] = all_data['Fence'].replace(['MnWw', 'GdWo', 'MnPrv', 'GdPrv'], [1,2,3,4])"
   ]
  },
  {
   "cell_type": "code",
   "execution_count": 16,
   "metadata": {
    "collapsed": false
   },
   "outputs": [
    {
     "data": {
      "text/plain": [
       "22"
      ]
     },
     "execution_count": 16,
     "metadata": {},
     "output_type": "execute_result"
    }
   ],
   "source": [
    "# Ordinal check\n",
    "ord_feats = pd.Index(['LotShape','LandContour','Utilities','LandSlope',\n",
    "                      'OverallQual','OverallCond','ExterQual','ExterCond',\n",
    "                      'BsmtQual','BsmtCond','BsmtExposure','BsmtFinType1',\n",
    "                      'BsmtFinType2','HeatingQC','KitchenQual','Functional',\n",
    "                      'FireplaceQu','GarageFinish','GarageQual','GarageCond',\n",
    "                      'PoolQC','Fence'])\n",
    "all_data[ord_feats] = all_data[ord_feats].fillna(0)\n",
    "len(ord_feats)"
   ]
  },
  {
   "cell_type": "code",
   "execution_count": 17,
   "metadata": {
    "collapsed": false
   },
   "outputs": [],
   "source": [
    "# # Not let's check the boxplot of these values to price per sf\n",
    "# matplotlib.rcParams['figure.figsize'] = (12.0, 24.0)\n",
    "\n",
    "# # Non zeor non null histogram\n",
    "# for i in range(len(ord_feats)):\n",
    "#     plt.subplot(6,4, i + 1)\n",
    "#     sns.boxplot(y = YPerSF, x = all_data[:trainLen][ord_feats[i]])"
   ]
  },
  {
   "cell_type": "markdown",
   "metadata": {},
   "source": [
    "Generally, these ordinal data are correlated to price per SF, but not all of them are strictly as so.\n",
    "Further more, sometimes na data does not seems to be worse.\n",
    "\n",
    "We'll jsut try to see how these works first.\n",
    "\n",
    "Now let's try to handle the discrete data."
   ]
  },
  {
   "cell_type": "code",
   "execution_count": 18,
   "metadata": {
    "collapsed": false
   },
   "outputs": [],
   "source": [
    "# Let's add time interval in year between build and sold time.\n",
    "all_data['BltYears'] = all_data['YrSold'] -  all_data['YearBuilt']\n",
    "all_data['RemYears'] = all_data['YrSold'] -  all_data['YearRemodAdd']\n",
    "all_data['GaBltyears'] = all_data['YrSold'] -  all_data['GarageYrBlt']\n",
    "all_data = all_data.drop(['YearBuilt','YearRemodAdd','GarageYrBlt'], axis = 1)"
   ]
  },
  {
   "cell_type": "code",
   "execution_count": 19,
   "metadata": {
    "collapsed": false
   },
   "outputs": [],
   "source": [
    "# MoSold seems more like a categorical data, let's check the distribution\n",
    "# sns.boxplot(y = Y, x = all_data[:trainLen]['MoSold'])\n",
    "all_data['MoSold'] = all_data['MoSold'].astype('category')"
   ]
  },
  {
   "cell_type": "code",
   "execution_count": 20,
   "metadata": {
    "collapsed": true
   },
   "outputs": [],
   "source": [
    "all_data['CentralAir'] = all_data['CentralAir'].replace(['N','Y'], [0,1])"
   ]
  },
  {
   "cell_type": "markdown",
   "metadata": {},
   "source": [
    "Finally let's fill in na data and one-hot encoding nomincal ones"
   ]
  },
  {
   "cell_type": "code",
   "execution_count": 21,
   "metadata": {
    "collapsed": false
   },
   "outputs": [
    {
     "name": "stdout",
     "output_type": "stream",
     "text": [
      "                 nullNums DataType\n",
      "LotFrontage           486  float64\n",
      "BsmtFinSF1Ratio        79  float64\n",
      "BsmtUnfSFRatio         79  float64\n",
      "MasVnrArea             23  float64\n",
      "BsmtFinSF2Ratio        79  float64\n",
      "GarageCars              1  float64\n",
      "GaBltyears            159  float64\n",
      "BsmtHalfBath            2  float64\n",
      "BsmtFullBath            2  float64\n",
      "GarageArea              1  float64\n",
      "Exterior2nd             1   object\n",
      "GarageType            157   object\n",
      "Exterior1st             1   object\n",
      "MSZoning                4   object\n",
      "Electrical              1   object\n",
      "MasVnrType             24   object\n",
      "MiscFeature          2814   object\n",
      "SaleCondition        1459   object\n",
      "SaleType                1   object\n",
      "Alley                2721   object\n"
     ]
    }
   ],
   "source": [
    "# check na value count\n",
    "nullCnt = pd.DataFrame({'nullNums' : all_data.isnull().sum()})\n",
    "nullCnt['DataType'] = all_data[nullCnt.index].dtypes\n",
    "print nullCnt[nullCnt['nullNums'] > 0].sort_values(by = 'DataType')"
   ]
  },
  {
   "cell_type": "markdown",
   "metadata": {},
   "source": [
    "Based on previous data cleaning we know that we should fill in LatFrontage data.  \n",
    "For GaBltyears, we will just set them to 999"
   ]
  },
  {
   "cell_type": "code",
   "execution_count": 22,
   "metadata": {
    "collapsed": true
   },
   "outputs": [],
   "source": [
    "from sklearn.linear_model import LinearRegression\n",
    "reg = LinearRegression()\n",
    "reg.fit(all_data.loc[all_data['LotFrontage'].notnull(), ['LotArea']], all_data.loc[all_data['LotFrontage'].notnull(), ['LotFrontage']])\n",
    "all_data.loc[all_data['LotFrontage'].isnull(), ['LotFrontage']] = reg.predict(all_data.loc[all_data['LotFrontage'].isnull(), ['LotArea']])"
   ]
  },
  {
   "cell_type": "code",
   "execution_count": 23,
   "metadata": {
    "collapsed": false
   },
   "outputs": [],
   "source": [
    "all_data.loc[all_data['GaBltyears'].isnull(), 'GaBltyears'] = 999\n",
    "# Fill na with 0\n",
    "all_data[all_data.columns[all_data.dtypes == 'float64']] = all_data[all_data.columns[all_data.dtypes == 'float64']].fillna(0)"
   ]
  },
  {
   "cell_type": "code",
   "execution_count": 24,
   "metadata": {
    "collapsed": false
   },
   "outputs": [],
   "source": [
    "# There're several pairs of feature that should be merged when one-hot encoded\n",
    "\n",
    "# Deal with Exterior\n",
    "for name in all_data[\"Exterior1st\"].dropna().unique():\n",
    "    all_data[name] = 1 * ((all_data[\"Exterior1st\"] == name) | (all_data[\"Exterior2nd\"] == name))\n",
    "\n",
    "# Deal with Condition\n",
    "for name in all_data[\"Condition1\"].dropna().unique():\n",
    "    all_data[name] = 1 * ((all_data[\"Condition1\"] == name) | (all_data[\"Condition2\"] == name))"
   ]
  },
  {
   "cell_type": "code",
   "execution_count": 25,
   "metadata": {
    "collapsed": true
   },
   "outputs": [],
   "source": [
    "# Drop those features that we have converted already\n",
    "\n",
    "all_data = all_data.drop(['Exterior1st','Exterior2nd'], axis=1)\n",
    "all_data = all_data.drop(['Condition1','Condition2'], axis=1)"
   ]
  },
  {
   "cell_type": "code",
   "execution_count": 26,
   "metadata": {
    "collapsed": false
   },
   "outputs": [
    {
     "data": {
      "text/plain": [
       "(2919, 204)"
      ]
     },
     "execution_count": 26,
     "metadata": {},
     "output_type": "execute_result"
    }
   ],
   "source": [
    "# one-hot encode category data\n",
    "all_data = pd.get_dummies(all_data)\n",
    "all_data.shape\n",
    "# all_data.head()"
   ]
  },
  {
   "cell_type": "code",
   "execution_count": 59,
   "metadata": {
    "collapsed": false
   },
   "outputs": [],
   "source": [
    "X_train = all_data[:trainLen]\n",
    "X_test  = all_data[trainLen:]"
   ]
  },
  {
   "cell_type": "markdown",
   "metadata": {},
   "source": [
    "## Model\n",
    "\n",
    "### Regularized model\n",
    "Same as before try both ridge and lasso"
   ]
  },
  {
   "cell_type": "code",
   "execution_count": 28,
   "metadata": {
    "collapsed": true
   },
   "outputs": [],
   "source": [
    "from sklearn.linear_model import Ridge, Lasso\n",
    "from sklearn.model_selection import cross_val_score, GridSearchCV\n",
    "from sklearn import model_selection, metrics   #Additional scklearn functions"
   ]
  },
  {
   "cell_type": "code",
   "execution_count": 29,
   "metadata": {
    "collapsed": false
   },
   "outputs": [
    {
     "data": {
      "text/plain": [
       "([(0.12657768119904939, {'alpha': 3.0}),\n",
       "  (0.12642190979310594, {'alpha': 3.5}),\n",
       "  (0.12630676846364214, {'alpha': 4.0}),\n",
       "  (0.12622258909601383, {'alpha': 4.5}),\n",
       "  (0.12616274352176607, {'alpha': 5.0}),\n",
       "  (0.12612248203865153, {'alpha': 5.5}),\n",
       "  (0.12609827995585635, {'alpha': 6.0}),\n",
       "  (0.12608744648946568, {'alpha': 6.5}),\n",
       "  (0.12608787878460054, {'alpha': 7.0}),\n",
       "  (0.12609790080266184, {'alpha': 7.5}),\n",
       "  (0.12611615415481803, {'alpha': 8.0}),\n",
       "  (0.12614152197116285, {'alpha': 8.5}),\n",
       "  (0.12617307447276982, {'alpha': 9.0}),\n",
       "  (0.12621002920600088, {'alpha': 9.5})],\n",
       " {'alpha': 6.5},\n",
       " 0.12608744648946568)"
      ]
     },
     "execution_count": 29,
     "metadata": {},
     "output_type": "execute_result"
    }
   ],
   "source": [
    "# Search or the best result for ridge\n",
    "\n",
    "ridge_param_test = {\n",
    "#  'alpha':[0.05, 0.1, 0.3, 1, 3, 5, 10, 15, 30, 50, 75]\n",
    "    'alpha' : np.arange(3,10,0.5)\n",
    "}\n",
    "\n",
    "ridge_search = GridSearchCV(\n",
    "    estimator = Ridge(),\n",
    "    param_grid = ridge_param_test, \n",
    "    scoring='neg_mean_squared_error',\n",
    "    n_jobs=1,\n",
    "    iid=False, \n",
    "    cv=5\n",
    ")\n",
    "ridge_search.fit(X_train,Y)\n",
    "zip(np.sqrt(-ridge_search.cv_results_['mean_test_score']),ridge_search.cv_results_['params']), ridge_search.best_params_,np.sqrt(- ridge_search.best_score_)"
   ]
  },
  {
   "cell_type": "code",
   "execution_count": 30,
   "metadata": {
    "collapsed": false
   },
   "outputs": [
    {
     "data": {
      "text/plain": [
       "([(0.12280076130076141, {'alpha': 0.00020000000000000001}),\n",
       "  (0.12235461683864593, {'alpha': 0.00025000000000000001}),\n",
       "  (0.12210850529578546, {'alpha': 0.00030000000000000003}),\n",
       "  (0.12201581462729716, {'alpha': 0.00035}),\n",
       "  (0.12207437181538619, {'alpha': 0.00039999999999999996}),\n",
       "  (0.12215098774943567, {'alpha': 0.00044999999999999999}),\n",
       "  (0.12228167684602211, {'alpha': 0.00050000000000000001}),\n",
       "  (0.12244576631742551, {'alpha': 0.00054999999999999992}),\n",
       "  (0.12265640700537676, {'alpha': 0.00059999999999999995}),\n",
       "  (0.12290130355329881, {'alpha': 0.00064999999999999997})],\n",
       " {'alpha': 0.00035},\n",
       " 0.12201581462729716)"
      ]
     },
     "execution_count": 30,
     "metadata": {},
     "output_type": "execute_result"
    }
   ],
   "source": [
    "lasso_param_test = {\n",
    "#     'alpha':[0.0001,0.0005,0.001,0.005,0.01,0.05,0.1,0.5,1,3]\n",
    "    'alpha': np.arange(0.0002,0.0007,0.00005)\n",
    "}\n",
    "\n",
    "lasso_search = GridSearchCV(\n",
    "    estimator = Lasso(),\n",
    "    param_grid = lasso_param_test, \n",
    "    scoring='neg_mean_squared_error',\n",
    "    n_jobs=1,\n",
    "    iid=False, \n",
    "    cv=5\n",
    ")\n",
    "lasso_search.fit(X_train,Y)\n",
    "zip(np.sqrt(-lasso_search.cv_results_['mean_test_score']),lasso_search.cv_results_['params']), lasso_search.best_params_,np.sqrt(- lasso_search.best_score_)"
   ]
  },
  {
   "cell_type": "markdown",
   "metadata": {},
   "source": [
    "As before LASSO works. Better. Let's take a look at the top features first."
   ]
  },
  {
   "cell_type": "code",
   "execution_count": 31,
   "metadata": {
    "collapsed": false
   },
   "outputs": [
    {
     "data": {
      "text/plain": [
       "Lasso(alpha=0.00035, copy_X=True, fit_intercept=True, max_iter=1000,\n",
       "   normalize=False, positive=False, precompute=False, random_state=None,\n",
       "   selection='cyclic', tol=0.0001, warm_start=False)"
      ]
     },
     "execution_count": 31,
     "metadata": {},
     "output_type": "execute_result"
    }
   ],
   "source": [
    "model_lasso = Lasso(alpha = 0.00035)\n",
    "model_lasso.fit(X_train, Y)"
   ]
  },
  {
   "cell_type": "code",
   "execution_count": 32,
   "metadata": {
    "collapsed": false
   },
   "outputs": [],
   "source": [
    "lasso_coef = pd.Series(model_lasso.coef_, index = X_train.columns)"
   ]
  },
  {
   "cell_type": "code",
   "execution_count": 33,
   "metadata": {
    "collapsed": false
   },
   "outputs": [
    {
     "data": {
      "text/plain": [
       "<matplotlib.axes._subplots.AxesSubplot at 0x112a861d0>"
      ]
     },
     "execution_count": 33,
     "metadata": {},
     "output_type": "execute_result"
    },
    {
     "data": {
      "image/png": "[encoded data removed]",
      "text/plain": [
       "<matplotlib.figure.Figure at 0x112a86850>"
      ]
     },
     "metadata": {
      "image/png": {
       "height": 588,
       "width": 582
      }
     },
     "output_type": "display_data"
    }
   ],
   "source": [
    "lasso_top30_feats = abs(lasso_coef).sort_values().tail(30).index\n",
    "matplotlib.rcParams['figure.figsize'] = (8.0, 10.0)\n",
    "lasso_coef[lasso_top30_feats].sort_values().plot(kind = \"barh\")"
   ]
  },
  {
   "cell_type": "markdown",
   "metadata": {},
   "source": [
    "What if we feed none zero Laso features into Ridge?"
   ]
  },
  {
   "cell_type": "code",
   "execution_count": 34,
   "metadata": {
    "collapsed": false
   },
   "outputs": [
    {
     "data": {
      "text/plain": [
       "([(0.12076920893311258, {'alpha': 0.5}),\n",
       "  (0.12074258917229241, {'alpha': 0.59999999999999998}),\n",
       "  (0.12072227399145859, {'alpha': 0.69999999999999996}),\n",
       "  (0.12070653947596985, {'alpha': 0.79999999999999993}),\n",
       "  (0.12069427871702409, {'alpha': 0.89999999999999991}),\n",
       "  (0.12068475853705078, {'alpha': 0.99999999999999989}),\n",
       "  (0.12067747839065973, {'alpha': 1.0999999999999999}),\n",
       "  (0.12067208615672945, {'alpha': 1.1999999999999997}),\n",
       "  (0.12066832660418816, {'alpha': 1.2999999999999998}),\n",
       "  (0.12066600913922024, {'alpha': 1.3999999999999999}),\n",
       "  (0.12066498720704621, {'alpha': 1.4999999999999998}),\n",
       "  (0.12066514489044788, {'alpha': 1.5999999999999996}),\n",
       "  (0.12066638803850266, {'alpha': 1.6999999999999997}),\n",
       "  (0.12066863829708771, {'alpha': 1.7999999999999998}),\n",
       "  (0.12067182902793575, {'alpha': 1.8999999999999997})],\n",
       " {'alpha': 1.4999999999999998},\n",
       " 0.12066498720704621)"
      ]
     },
     "execution_count": 34,
     "metadata": {},
     "output_type": "execute_result"
    }
   ],
   "source": [
    "lasso_nonzero_coef = lasso_coef[abs(lasso_coef) > 0].index\n",
    "# Search or the best result for ridge\n",
    "\n",
    "ridge_param_test = {\n",
    "#  'alpha':[0.05, 0.1, 0.3, 1, 3, 5, 10, 15, 30, 50, 75]\n",
    "    'alpha' : np.arange(0.5,2,0.1)\n",
    "}\n",
    "\n",
    "ridge_search = GridSearchCV(\n",
    "    estimator = Ridge(),\n",
    "    param_grid = ridge_param_test, \n",
    "    scoring='neg_mean_squared_error',\n",
    "    n_jobs=1,\n",
    "    iid=False, \n",
    "    cv=5\n",
    ")\n",
    "ridge_search.fit(X_train[lasso_nonzero_coef],Y)\n",
    "zip(np.sqrt(-ridge_search.cv_results_['mean_test_score']),ridge_search.cv_results_['params']), ridge_search.best_params_,np.sqrt(- ridge_search.best_score_)"
   ]
  },
  {
   "cell_type": "markdown",
   "metadata": {},
   "source": [
    "Wow!! Ridge is becoming so much better!!!\n",
    "It seems that we just need less feats!!"
   ]
  },
  {
   "cell_type": "code",
   "execution_count": 35,
   "metadata": {
    "collapsed": false
   },
   "outputs": [],
   "source": [
    "model_ridge = Ridge(alpha = 1.5)\n",
    "model_ridge.fit(X_train[lasso_nonzero_coef], Y)\n",
    "ridge_coef = pd.Series(model_ridge.coef_, index = lasso_nonzero_coef)"
   ]
  },
  {
   "cell_type": "markdown",
   "metadata": {},
   "source": [
    "### KNN regressor"
   ]
  },
  {
   "cell_type": "code",
   "execution_count": 36,
   "metadata": {
    "collapsed": true
   },
   "outputs": [],
   "source": [
    "from sklearn.neighbors.regression import KNeighborsRegressor"
   ]
  },
  {
   "cell_type": "code",
   "execution_count": 37,
   "metadata": {
    "collapsed": false
   },
   "outputs": [
    {
     "data": {
      "text/plain": [
       "([(0.18311567551028529, {'n_neighbors': 3}),\n",
       "  (0.17862462451160246, {'n_neighbors': 6}),\n",
       "  (0.17827959138515895, {'n_neighbors': 9}),\n",
       "  (0.1785643288919217, {'n_neighbors': 12}),\n",
       "  (0.18132583066601382, {'n_neighbors': 15}),\n",
       "  (0.18231339535695559, {'n_neighbors': 18}),\n",
       "  (0.18420088326624084, {'n_neighbors': 21})],\n",
       " {'n_neighbors': 9},\n",
       " 0.17827959138515895)"
      ]
     },
     "execution_count": 37,
     "metadata": {},
     "output_type": "execute_result"
    }
   ],
   "source": [
    "# # Search or the best result for knn\n",
    "\n",
    "# knn_param_test = {\n",
    "#     'n_neighbors' : range(3,22,3)\n",
    "# }\n",
    "\n",
    "# knn_search = GridSearchCV(\n",
    "#     estimator = KNeighborsRegressor(\n",
    "#         n_jobs = 4\n",
    "#     ),\n",
    "#     param_grid = knn_param_test, \n",
    "#     scoring='neg_mean_squared_error',\n",
    "#     n_jobs=1,\n",
    "#     iid=False, \n",
    "#     cv=5\n",
    "# )\n",
    "# knn_search.fit(X_train[lasso_top30_feats],Y)\n",
    "# zip(np.sqrt(-knn_search.cv_results_['mean_test_score']),knn_search.cv_results_['params']), knn_search.best_params_,np.sqrt(-knn_search.best_score_)"
   ]
  },
  {
   "cell_type": "markdown",
   "metadata": {},
   "source": [
    "So now we know that for knn less feats seems work better. Let's try two things.  \n",
    " * Find the best numbers of feat for the regressor\n",
    " * Try to change weight\n",
    " * Try to change feature scale"
   ]
  },
  {
   "cell_type": "code",
   "execution_count": 38,
   "metadata": {
    "collapsed": false
   },
   "outputs": [
    {
     "name": "stdout",
     "output_type": "stream",
     "text": [
      "46 0.171275057035\n",
      "50 0.166891198644\n",
      "54 0.167509699897\n",
      "58 0.168843938849\n",
      "62 0.168199950918\n",
      "66 0.169760571112\n",
      "70 0.166909888055\n",
      "74 0.16614671656\n",
      "78 0.168809022205\n",
      "82 0.169541101\n",
      "86 0.177920814609\n"
     ]
    }
   ],
   "source": [
    "# from sklearn.model_selection import cross_val_score\n",
    "# # First let's see best numbers of feats without weight setting\n",
    "# lasso_feats_weight = abs(lasso_coef).sort_values()\n",
    "# # ridge_feats_weight = abs(ridge_coef).sort_values()\n",
    "\n",
    "# # for i in range(20,61,10):\n",
    "# for i in range(46,87,4):\n",
    "#     topi_score = cross_val_score(\n",
    "#         estimator = KNeighborsRegressor(\n",
    "#             n_jobs = 4,\n",
    "#             n_neighbors = 9\n",
    "#         ),\n",
    "#         X = X_train[lasso_feats_weight.tail(i).index],\n",
    "#         y = Y,\n",
    "#         scoring='neg_mean_squared_error',\n",
    "#         n_jobs=1,\n",
    "#         cv = 5,\n",
    "#     )\n",
    "#     print i, np.sqrt(-topi_score).mean()"
   ]
  },
  {
   "cell_type": "markdown",
   "metadata": {},
   "source": [
    "Around 50 or 74 neighbors seem to be the best choice.\n",
    "Next let's try to set weight inverse to distance "
   ]
  },
  {
   "cell_type": "code",
   "execution_count": 39,
   "metadata": {
    "collapsed": false
   },
   "outputs": [
    {
     "name": "stdout",
     "output_type": "stream",
     "text": [
      "46 0.169334277407\n",
      "50 0.165272533722\n",
      "54 0.165831058481\n",
      "58 0.166937551855\n",
      "62 0.166548750938\n",
      "66 0.168060604161\n",
      "70 0.165257093845\n",
      "74 0.164314638161\n",
      "78 0.167160348518\n",
      "82 0.167876425211\n",
      "86 0.175956052431\n"
     ]
    }
   ],
   "source": [
    "# # for i in range(20,61,10):\n",
    "# for i in range(46,87,4):\n",
    "#     topi_score = cross_val_score(\n",
    "#         estimator = KNeighborsRegressor(\n",
    "#             n_jobs = 4,\n",
    "#             n_neighbors = 9,\n",
    "#             weights = 'distance'\n",
    "#         ),\n",
    "#         X = X_train[lasso_feats_weight.tail(i).index],\n",
    "#         y = Y,\n",
    "#         scoring='neg_mean_squared_error',\n",
    "#         n_jobs=1,\n",
    "#         cv = 5,\n",
    "#     )\n",
    "#     print i, np.sqrt(-topi_score).mean()"
   ]
  },
  {
   "cell_type": "markdown",
   "metadata": {},
   "source": [
    "Seems slightly better than uniform weight. Now lets try to change scale"
   ]
  },
  {
   "cell_type": "code",
   "execution_count": 40,
   "metadata": {
    "collapsed": false
   },
   "outputs": [
    {
     "name": "stdout",
     "output_type": "stream",
     "text": [
      "60 0.137058866559\n",
      "62 0.136865316738\n",
      "64 0.136283422266\n",
      "66 0.13632769921\n",
      "68 0.136566638772\n",
      "70 0.13652616774\n",
      "72 0.13643237454\n",
      "74 0.136091622057\n"
     ]
    }
   ],
   "source": [
    "# lasso_feats_rescale = abs((X_train[lasso_coef[lasso_coef != 0].index] * lasso_coef[lasso_coef[lasso_coef != 0].index]).mean()).sort_values()\n",
    "\n",
    "# # ridge_feats_rescale = abs((X_train[ridge_feats_weight.index] * ridge_coef[ridge_feats_weight.index]).mean()).sort_values()\n",
    "\n",
    "# # for i in range(10,81,5):\n",
    "# for i in range(60,75,2):\n",
    "#     topi_score = cross_val_score(\n",
    "#         estimator = KNeighborsRegressor(\n",
    "#             n_jobs = 4,\n",
    "#             n_neighbors = 9,\n",
    "#             weights = 'distance'\n",
    "#         ),\n",
    "#         X = X_train[lasso_feats_rescale.tail(i).index] * lasso_feats_weight[lasso_feats_rescale.tail(i).index],\n",
    "# #         X = X_train[ridge_feats_rescale.tail(i).index] * ridge_feats_weight[ridge_feats_rescale.tail(i).index],\n",
    "#         y = Y,\n",
    "#         scoring='neg_mean_squared_error',\n",
    "#         n_jobs=1,\n",
    "#         cv = 5,\n",
    "#     )\n",
    "#     print i, np.sqrt(-topi_score).mean()"
   ]
  },
  {
   "cell_type": "markdown",
   "metadata": {},
   "source": [
    "The best performance shows when we rescale all the features and pick the top 64 features."
   ]
  },
  {
   "cell_type": "markdown",
   "metadata": {},
   "source": [
    "### RandomForest Again"
   ]
  },
  {
   "cell_type": "code",
   "execution_count": 42,
   "metadata": {
    "collapsed": true
   },
   "outputs": [],
   "source": [
    "from sklearn.ensemble import RandomForestRegressor"
   ]
  },
  {
   "cell_type": "code",
   "execution_count": 41,
   "metadata": {
    "collapsed": false
   },
   "outputs": [
    {
     "data": {
      "text/plain": [
       "([(0.13573681937254126, {'n_estimators': 50}),\n",
       "  (0.13543759768325256, {'n_estimators': 60}),\n",
       "  (0.13531414751082679, {'n_estimators': 70}),\n",
       "  (0.13512718918539923, {'n_estimators': 80}),\n",
       "  (0.13505655729208368, {'n_estimators': 90}),\n",
       "  (0.13490702931777893, {'n_estimators': 100})],\n",
       " {'n_estimators': 100},\n",
       " 0.13490702931777893)"
      ]
     },
     "execution_count": 41,
     "metadata": {},
     "output_type": "execute_result"
    }
   ],
   "source": [
    "\n",
    "# # There were some trials before this. So please ignore the specific range here.\n",
    "# rf_param_test = {\n",
    "#     \"n_estimators\"  : range(50,101,10)\n",
    "# }\n",
    "# rf_search = GridSearchCV(\n",
    "#     estimator = RandomForestRegressor(\n",
    "#         n_estimators = 30, \n",
    "#         random_state = 100,\n",
    "#         max_features = 22,\n",
    "#         warm_start = True,\n",
    "#         n_jobs = 4        \n",
    "#     ),\n",
    "#     param_grid = rf_param_test,\n",
    "#     scoring = 'neg_mean_squared_error',\n",
    "#     n_jobs = 1,\n",
    "#     iid = False,\n",
    "#     cv = 5\n",
    "# )\n",
    "# rf_search.fit(X_train[lasso_nonzero_coef],Y)\n",
    "# zip(np.sqrt(-rf_search.cv_results_['mean_test_score']),rf_search.cv_results_['params']), rf_search.best_params_,np.sqrt(-rf_search.best_score_)"
   ]
  },
  {
   "cell_type": "code",
   "execution_count": 42,
   "metadata": {
    "collapsed": false
   },
   "outputs": [
    {
     "name": "stdout",
     "output_type": "stream",
     "text": [
      "0.134034785611\n"
     ]
    }
   ],
   "source": [
    "rf_score = cross_val_score(\n",
    "    estimator = RandomForestRegressor(\n",
    "        n_estimators = 300, \n",
    "        random_state = 100,\n",
    "        max_features = 22,\n",
    "        n_jobs = 4\n",
    "    ),\n",
    "    X = X_train[lasso_nonzero_coef],\n",
    "    y = Y,\n",
    "    scoring='neg_mean_squared_error',\n",
    "    n_jobs=1,\n",
    "    cv = 5\n",
    ")\n",
    "print np.sqrt(-rf_score).mean()"
   ]
  },
  {
   "cell_type": "markdown",
   "metadata": {},
   "source": [
    "### Xgboost"
   ]
  },
  {
   "cell_type": "code",
   "execution_count": 41,
   "metadata": {
    "collapsed": false
   },
   "outputs": [],
   "source": [
    "import xgboost as xgb\n",
    "from xgboost.sklearn import XGBRegressor"
   ]
  },
  {
   "cell_type": "code",
   "execution_count": 44,
   "metadata": {
    "collapsed": false
   },
   "outputs": [],
   "source": [
    "dtrain = xgb.DMatrix(X_train, label = Y)\n",
    "dtest = xgb.DMatrix(X_test)"
   ]
  },
  {
   "cell_type": "code",
   "execution_count": 63,
   "metadata": {
    "collapsed": false
   },
   "outputs": [
    {
     "data": {
      "text/plain": [
       "([(0.12532580265812596, {'reg_lambda': 0.69999999999999996}),\n",
       "  (0.12312722778277221, {'reg_lambda': 0.72999999999999998}),\n",
       "  (0.12446991610933382, {'reg_lambda': 0.76000000000000001}),\n",
       "  (0.12548089462252068, {'reg_lambda': 0.79000000000000004}),\n",
       "  (0.12573365614325474, {'reg_lambda': 0.82000000000000006}),\n",
       "  (0.12398830990854401, {'reg_lambda': 0.85000000000000009}),\n",
       "  (0.1223787084716296, {'reg_lambda': 0.88000000000000012}),\n",
       "  (0.12431148698803733, {'reg_lambda': 0.91000000000000014}),\n",
       "  (0.12455279658153419, {'reg_lambda': 0.94000000000000017}),\n",
       "  (0.12552869171897438, {'reg_lambda': 0.9700000000000002}),\n",
       "  (0.1220337294557553, {'reg_lambda': 1.0000000000000002}),\n",
       "  (0.12320254356658709, {'reg_lambda': 1.0300000000000002}),\n",
       "  (0.12217051530402659, {'reg_lambda': 1.0600000000000003}),\n",
       "  (0.12363436437349506, {'reg_lambda': 1.0900000000000003})],\n",
       " {'reg_lambda': 1.0000000000000002},\n",
       " 0.1220337294557553)"
      ]
     },
     "execution_count": 63,
     "metadata": {},
     "output_type": "execute_result"
    }
   ],
   "source": [
    "# # All tuning would be done within this cell\n",
    "# xgb_param_test = {\n",
    "# #     'max_depth':range(3,8,1),\n",
    "# #     'min_child_weight':range(1,4,1)\n",
    "# #     'gamma' : np.arange(0.003, 0.01, 0.0005)\n",
    "# #     'subsample': np.arange(0.56, 0.61, 0.01),\n",
    "# #     'colsample_bytree': np.arange(0.62, 0.67, 0.01)\n",
    "# #     'reg_alpha' : np.arange(7e-6,9e-6,3e-7) # 8.2e-6\n",
    "# #     'reg_lambda' : np.arange(0.7,1.1,0.03)\n",
    "# }\n",
    "# xgb_search = GridSearchCV(\n",
    "#     estimator = XGBRegressor(\n",
    "#         learning_rate =0.1,\n",
    "#         n_estimators=140,\n",
    "#         max_depth=4,\n",
    "#         min_child_weight=1,\n",
    "#         gamma=0.005,\n",
    "#         subsample=0.57,\n",
    "#         colsample_bytree=0.66,\n",
    "#         objective= 'reg:linear',\n",
    "#         nthread=4,\n",
    "#         scale_pos_weight=1,\n",
    "#         reg_alpha = 8.2e-6,\n",
    "#         seed=100\n",
    "#     ),\n",
    "#     param_grid = xgb_param_test,\n",
    "#     scoring = 'neg_mean_squared_error',\n",
    "#     n_jobs = 1,\n",
    "#     iid = False,\n",
    "#     cv = 5\n",
    "# )\n",
    "# xgb_search.fit(X_train, Y)\n",
    "# zip(np.sqrt(-xgb_search.cv_results_['mean_test_score']),xgb_search.cv_results_['params']), xgb_search.best_params_,np.sqrt(- xgb_search.best_score_)"
   ]
  },
  {
   "cell_type": "code",
   "execution_count": 64,
   "metadata": {
    "collapsed": false
   },
   "outputs": [
    {
     "name": "stdout",
     "output_type": "stream",
     "text": [
      "0.118522609571\n"
     ]
    }
   ],
   "source": [
    "xgb1_score = cross_val_score(\n",
    "    estimator = XGBRegressor(\n",
    "        learning_rate =0.01,\n",
    "        n_estimators=5000,\n",
    "        max_depth=4,\n",
    "        min_child_weight=1,\n",
    "        gamma=0.005,\n",
    "        subsample=0.57,\n",
    "        colsample_bytree=0.66,\n",
    "        objective='reg:linear',\n",
    "        nthread=4,\n",
    "        scale_pos_weight=1,\n",
    "        reg_alpha = 8.2e-6,\n",
    "        seed=100\n",
    "    ),\n",
    "    X = X_train,\n",
    "    y = Y,\n",
    "    scoring='neg_mean_squared_error',\n",
    "    n_jobs=1,\n",
    "    cv = 5\n",
    ")\n",
    "print np.sqrt(-xgb1_score).mean()"
   ]
  },
  {
   "cell_type": "code",
   "execution_count": 74,
   "metadata": {
    "collapsed": false
   },
   "outputs": [
    {
     "data": {
      "text/plain": [
       "([(0.12178402370237028, {'gamma': 0.01}),\n",
       "  (0.12181462655521832, {'gamma': 0.02}),\n",
       "  (0.12151945665438448, {'gamma': 0.029999999999999999}),\n",
       "  (0.12188023154930866, {'gamma': 0.040000000000000001}),\n",
       "  (0.12284715110398453, {'gamma': 0.050000000000000003}),\n",
       "  (0.12343920626049965, {'gamma': 0.060000000000000005})],\n",
       " {'gamma': 0.029999999999999999},\n",
       " 0.12151945665438448)"
      ]
     },
     "execution_count": 74,
     "metadata": {},
     "output_type": "execute_result"
    }
   ],
   "source": [
    "# # All tuning would be done within this cell\n",
    "# xgb_param_test = {\n",
    "# #     'max_depth':range(3,8,1),\n",
    "# #     'min_child_weight':range(1,4,1)\n",
    "#     'gamma' : np.arange(0.01, 0.07, 0.01)\n",
    "# #     'subsample': np.arange(0.7, 0.9, 0.03),\n",
    "# #     'colsample_bytree': np.arange(0.5, 0.7, 0.03)\n",
    "# #     'reg_alpha' : [1e-7,5e-7,1e-6,5e-6,1e-5,5e-5,1e-4,5e-4,1e-3]  #1e-6\n",
    "# #     'reg_lambda' : [0.01, 0.05, 0.1, 0.5, 1, 3, 5]\n",
    "# }\n",
    "# xgb_search = GridSearchCV(\n",
    "#     estimator = XGBRegressor(\n",
    "#         learning_rate =0.1,\n",
    "#         n_estimators=140,\n",
    "#         max_depth=5,\n",
    "#         min_child_weight=1,\n",
    "#         gamma=0.03,\n",
    "#         subsample=0.82,\n",
    "#         colsample_bytree=0.53,\n",
    "#         objective= 'reg:linear',\n",
    "#         nthread=4,\n",
    "#         scale_pos_weight=1,\n",
    "#         reg_alpha = 1e-6,\n",
    "#         seed=100\n",
    "#     ),\n",
    "#     param_grid = xgb_param_test,\n",
    "#     scoring = 'neg_mean_squared_error',\n",
    "#     n_jobs = 1,\n",
    "#     iid = False,\n",
    "#     cv = 5\n",
    "# )\n",
    "# xgb_search.fit(X_train[lasso_nonzero_coef], Y)\n",
    "# zip(np.sqrt(-xgb_search.cv_results_['mean_test_score']),xgb_search.cv_results_['params']), xgb_search.best_params_,np.sqrt(- xgb_search.best_score_)"
   ]
  },
  {
   "cell_type": "code",
   "execution_count": 78,
   "metadata": {
    "collapsed": false
   },
   "outputs": [
    {
     "name": "stdout",
     "output_type": "stream",
     "text": [
      "0.118524630892\n"
     ]
    }
   ],
   "source": [
    "xgb2_score = cross_val_score(\n",
    "    estimator = XGBRegressor(\n",
    "        learning_rate =0.01,\n",
    "        n_estimators=5000,\n",
    "        max_depth=5,\n",
    "        min_child_weight=1,\n",
    "        gamma=0.03,\n",
    "        subsample=0.82,\n",
    "        colsample_bytree=0.53,\n",
    "        objective= 'reg:linear',\n",
    "        nthread=4,\n",
    "        scale_pos_weight=1,\n",
    "        reg_alpha = 1e-6,\n",
    "        seed=100\n",
    "    ),\n",
    "    X = X_train[lasso_nonzero_coef],\n",
    "    y = Y,\n",
    "    scoring='neg_mean_squared_error',\n",
    "    n_jobs=1,\n",
    "    cv = 5\n",
    ")\n",
    "print np.sqrt(-xgb2_score).mean()"
   ]
  },
  {
   "cell_type": "markdown",
   "metadata": {},
   "source": [
    "### Model stacking"
   ]
  },
  {
   "cell_type": "code",
   "execution_count": 43,
   "metadata": {
    "collapsed": true
   },
   "outputs": [],
   "source": [
    "from sklearn.model_selection import KFold"
   ]
  },
  {
   "cell_type": "code",
   "execution_count": 66,
   "metadata": {
    "collapsed": false
   },
   "outputs": [
    {
     "data": {
      "text/plain": [
       "['KNNPred', 'RFPred', 'RidgePred', 'XGBPred']"
      ]
     },
     "execution_count": 66,
     "metadata": {},
     "output_type": "execute_result"
    }
   ],
   "source": [
    "# Add fields into all_data in advance\n",
    "X_train = pd.concat((X_train, pd.DataFrame(columns = ['RidgePred', 'XGBPred', 'KNNPred', 'RFPred'])))"
   ]
  },
  {
   "cell_type": "code",
   "execution_count": 67,
   "metadata": {
    "collapsed": true
   },
   "outputs": [],
   "source": [
    "# model_ridge & use lasso_coef none zero features\n",
    "model_knn = KNeighborsRegressor(  # use ridge top 64 weighted features\n",
    "    n_jobs = 4,\n",
    "    n_neighbors = 9,\n",
    "    weights = 'distance'\n",
    ")\n",
    "model_rf = RandomForestRegressor( #use lasso_coef none zero features\n",
    "    n_estimators = 300, \n",
    "    random_state = 100,\n",
    "    max_features = 22,\n",
    "    n_jobs = 4\n",
    ")\n",
    "model_xgb = XGBRegressor( # use all features\n",
    "    learning_rate =0.01,\n",
    "    n_estimators=5000,\n",
    "    max_depth=4,\n",
    "    min_child_weight=1,\n",
    "    gamma=0.005,\n",
    "    subsample=0.57,\n",
    "    colsample_bytree=0.66,\n",
    "    objective='reg:linear',\n",
    "    nthread=4,\n",
    "    scale_pos_weight=1,\n",
    "    reg_alpha = 8.2e-6,\n",
    "    seed=100\n",
    ")"
   ]
  },
  {
   "cell_type": "code",
   "execution_count": 70,
   "metadata": {
    "collapsed": false
   },
   "outputs": [],
   "source": [
    "kf = KFold(n_splits = 5)\n",
    "for train_index, test_index in kf.split(X_train):\n",
    "    model_ridge.fit(X_train.loc[train_index,lasso_nonzero_coef], Y.loc[train_index])\n",
    "    model_knn.fit(X_train.loc[train_index,lasso_feats_rescale.tail(64).index] * lasso_feats_weight[lasso_feats_rescale.tail(64).index], Y.loc[train_index])\n",
    "    model_rf.fit(X_train.loc[train_index,lasso_nonzero_coef], Y.loc[train_index])\n",
    "    model_xgb.fit(X_train.loc[train_index,lasso_nonzero_coef], Y.loc[train_index])\n",
    "    X_train.loc[test_index,'RidgePred'] = model_ridge.predict(X_train.loc[test_index,lasso_nonzero_coef])\n",
    "    X_train.loc[test_index,'XGBPred']   = model_knn.predict(X_train.loc[test_index,lasso_feats_rescale.tail(64).index] * lasso_feats_weight[lasso_feats_rescale.tail(64).index])\n",
    "    X_train.loc[test_index,'KNNPred']   = model_rf.predict(X_train.loc[test_index,lasso_nonzero_coef])\n",
    "    X_train.loc[test_index,'RFPred']    = model_xgb.predict(X_train.loc[test_index,lasso_nonzero_coef])"
   ]
  },
  {
   "cell_type": "code",
   "execution_count": 71,
   "metadata": {
    "collapsed": false
   },
   "outputs": [
    {
     "data": {
      "text/html": [
       "<div>\n",
       "<table border=\"1\" class=\"dataframe\">\n",
       "  <thead>\n",
       "    <tr style=\"text-align: right;\">\n",
       "      <th></th>\n",
       "      <th>1stFlrSFRatio</th>\n",
       "      <th>Alley_Grvl</th>\n",
       "      <th>Alley_Pave</th>\n",
       "      <th>Artery</th>\n",
       "      <th>AsbShng</th>\n",
       "      <th>AsphShn</th>\n",
       "      <th>BedroomAbvGr</th>\n",
       "      <th>BldgType_1Fam</th>\n",
       "      <th>BldgType_2fmCon</th>\n",
       "      <th>BldgType_Duplex</th>\n",
       "      <th>...</th>\n",
       "      <th>TotalBsmtSF</th>\n",
       "      <th>TotalLivArea</th>\n",
       "      <th>TotalPorchSF</th>\n",
       "      <th>Utilities</th>\n",
       "      <th>VinylSd</th>\n",
       "      <th>Wd Sdng</th>\n",
       "      <th>WdShing</th>\n",
       "      <th>WoodDeckSF</th>\n",
       "      <th>XGBPred</th>\n",
       "      <th>YrSold</th>\n",
       "    </tr>\n",
       "  </thead>\n",
       "  <tbody>\n",
       "    <tr>\n",
       "      <th>1455</th>\n",
       "      <td>0.578628</td>\n",
       "      <td>0.0</td>\n",
       "      <td>0.0</td>\n",
       "      <td>0.0</td>\n",
       "      <td>0.0</td>\n",
       "      <td>0.0</td>\n",
       "      <td>3.0</td>\n",
       "      <td>1.0</td>\n",
       "      <td>0.0</td>\n",
       "      <td>0.0</td>\n",
       "      <td>...</td>\n",
       "      <td>6.860664</td>\n",
       "      <td>7.863651</td>\n",
       "      <td>3.713572</td>\n",
       "      <td>4.0</td>\n",
       "      <td>1.0</td>\n",
       "      <td>0.0</td>\n",
       "      <td>0.0</td>\n",
       "      <td>0.000000</td>\n",
       "      <td>12.0779</td>\n",
       "      <td>2007.0</td>\n",
       "    </tr>\n",
       "    <tr>\n",
       "      <th>1456</th>\n",
       "      <td>1.000000</td>\n",
       "      <td>0.0</td>\n",
       "      <td>0.0</td>\n",
       "      <td>0.0</td>\n",
       "      <td>0.0</td>\n",
       "      <td>0.0</td>\n",
       "      <td>3.0</td>\n",
       "      <td>1.0</td>\n",
       "      <td>0.0</td>\n",
       "      <td>0.0</td>\n",
       "      <td>...</td>\n",
       "      <td>7.341484</td>\n",
       "      <td>8.193124</td>\n",
       "      <td>0.000000</td>\n",
       "      <td>4.0</td>\n",
       "      <td>0.0</td>\n",
       "      <td>0.0</td>\n",
       "      <td>0.0</td>\n",
       "      <td>5.857933</td>\n",
       "      <td>12.2228</td>\n",
       "      <td>2010.0</td>\n",
       "    </tr>\n",
       "    <tr>\n",
       "      <th>1457</th>\n",
       "      <td>0.507692</td>\n",
       "      <td>0.0</td>\n",
       "      <td>0.0</td>\n",
       "      <td>0.0</td>\n",
       "      <td>0.0</td>\n",
       "      <td>0.0</td>\n",
       "      <td>4.0</td>\n",
       "      <td>1.0</td>\n",
       "      <td>0.0</td>\n",
       "      <td>0.0</td>\n",
       "      <td>...</td>\n",
       "      <td>7.050123</td>\n",
       "      <td>8.158516</td>\n",
       "      <td>4.110874</td>\n",
       "      <td>4.0</td>\n",
       "      <td>0.0</td>\n",
       "      <td>0.0</td>\n",
       "      <td>0.0</td>\n",
       "      <td>0.000000</td>\n",
       "      <td>12.4393</td>\n",
       "      <td>2010.0</td>\n",
       "    </tr>\n",
       "    <tr>\n",
       "      <th>1458</th>\n",
       "      <td>1.000000</td>\n",
       "      <td>0.0</td>\n",
       "      <td>0.0</td>\n",
       "      <td>0.0</td>\n",
       "      <td>0.0</td>\n",
       "      <td>0.0</td>\n",
       "      <td>2.0</td>\n",
       "      <td>1.0</td>\n",
       "      <td>0.0</td>\n",
       "      <td>0.0</td>\n",
       "      <td>...</td>\n",
       "      <td>6.983790</td>\n",
       "      <td>7.676474</td>\n",
       "      <td>4.727388</td>\n",
       "      <td>4.0</td>\n",
       "      <td>0.0</td>\n",
       "      <td>0.0</td>\n",
       "      <td>0.0</td>\n",
       "      <td>5.905362</td>\n",
       "      <td>11.8308</td>\n",
       "      <td>2010.0</td>\n",
       "    </tr>\n",
       "    <tr>\n",
       "      <th>1459</th>\n",
       "      <td>1.000000</td>\n",
       "      <td>0.0</td>\n",
       "      <td>0.0</td>\n",
       "      <td>0.0</td>\n",
       "      <td>0.0</td>\n",
       "      <td>0.0</td>\n",
       "      <td>3.0</td>\n",
       "      <td>1.0</td>\n",
       "      <td>0.0</td>\n",
       "      <td>0.0</td>\n",
       "      <td>...</td>\n",
       "      <td>7.136483</td>\n",
       "      <td>7.829233</td>\n",
       "      <td>4.234107</td>\n",
       "      <td>4.0</td>\n",
       "      <td>0.0</td>\n",
       "      <td>0.0</td>\n",
       "      <td>0.0</td>\n",
       "      <td>6.602588</td>\n",
       "      <td>11.8692</td>\n",
       "      <td>2008.0</td>\n",
       "    </tr>\n",
       "  </tbody>\n",
       "</table>\n",
       "<p>5 rows × 208 columns</p>\n",
       "</div>"
      ],
      "text/plain": [
       "      1stFlrSFRatio  Alley_Grvl  Alley_Pave  Artery  AsbShng  AsphShn  \\\n",
       "1455       0.578628         0.0         0.0     0.0      0.0      0.0   \n",
       "1456       1.000000         0.0         0.0     0.0      0.0      0.0   \n",
       "1457       0.507692         0.0         0.0     0.0      0.0      0.0   \n",
       "1458       1.000000         0.0         0.0     0.0      0.0      0.0   \n",
       "1459       1.000000         0.0         0.0     0.0      0.0      0.0   \n",
       "\n",
       "      BedroomAbvGr  BldgType_1Fam  BldgType_2fmCon  BldgType_Duplex   ...    \\\n",
       "1455           3.0            1.0              0.0              0.0   ...     \n",
       "1456           3.0            1.0              0.0              0.0   ...     \n",
       "1457           4.0            1.0              0.0              0.0   ...     \n",
       "1458           2.0            1.0              0.0              0.0   ...     \n",
       "1459           3.0            1.0              0.0              0.0   ...     \n",
       "\n",
       "      TotalBsmtSF  TotalLivArea  TotalPorchSF  Utilities  VinylSd  Wd Sdng  \\\n",
       "1455     6.860664      7.863651      3.713572        4.0      1.0      0.0   \n",
       "1456     7.341484      8.193124      0.000000        4.0      0.0      0.0   \n",
       "1457     7.050123      8.158516      4.110874        4.0      0.0      0.0   \n",
       "1458     6.983790      7.676474      4.727388        4.0      0.0      0.0   \n",
       "1459     7.136483      7.829233      4.234107        4.0      0.0      0.0   \n",
       "\n",
       "      WdShing  WoodDeckSF  XGBPred  YrSold  \n",
       "1455      0.0    0.000000  12.0779  2007.0  \n",
       "1456      0.0    5.857933  12.2228  2010.0  \n",
       "1457      0.0    0.000000  12.4393  2010.0  \n",
       "1458      0.0    5.905362  11.8308  2010.0  \n",
       "1459      0.0    6.602588  11.8692  2008.0  \n",
       "\n",
       "[5 rows x 208 columns]"
      ]
     },
     "execution_count": 71,
     "metadata": {},
     "output_type": "execute_result"
    }
   ],
   "source": [
    "X_train.tail()"
   ]
  },
  {
   "cell_type": "code",
   "execution_count": 73,
   "metadata": {
    "collapsed": false
   },
   "outputs": [],
   "source": [
    "X_test = pd.concat((X_test, pd.DataFrame(columns = ['RidgePred', 'XGBPred', 'KNNPred', 'RFPred'])))\n",
    "model_ridge.fit(X_train[lasso_nonzero_coef], Y)\n",
    "model_knn.fit(X_train[lasso_feats_rescale.tail(64).index] * lasso_feats_weight[lasso_feats_rescale.tail(64).index], Y)\n",
    "model_rf.fit(X_train[lasso_nonzero_coef], Y)\n",
    "model_xgb.fit(X_train[lasso_nonzero_coef], Y)\n",
    "X_test.loc[:,'RidgePred'] = model_ridge.predict(X_test[lasso_nonzero_coef])\n",
    "X_test.loc[:,'XGBPred'] = model_knn.predict(X_test[lasso_feats_rescale.tail(64).index] * lasso_feats_weight[lasso_feats_rescale.tail(64).index])\n",
    "X_test.loc[:,'KNNPred'] = model_rf.predict(X_test[lasso_nonzero_coef])\n",
    "X_test.loc[:,'RFPred'] = model_xgb.predict(X_test[lasso_nonzero_coef])"
   ]
  },
  {
   "cell_type": "code",
   "execution_count": 76,
   "metadata": {
    "collapsed": false
   },
   "outputs": [],
   "source": [
    "temp_train = X_train.loc[:,['RidgePred', 'XGBPred', 'KNNPred', 'RFPred']]\n",
    "temp_train.loc[:,'Id'] = train.Id\n",
    "temp_test = X_test.loc[:,['RidgePred', 'XGBPred', 'KNNPred', 'RFPred']]\n",
    "temp_test.loc[:,'Id'] = test.Id"
   ]
  },
  {
   "cell_type": "code",
   "execution_count": 77,
   "metadata": {
    "collapsed": false
   },
   "outputs": [],
   "source": [
    "temp_train.to_csv(\"temp_train.csv\", index = False)\n",
    "temp_test.to_csv(\"temp_test.csv\", index = False)"
   ]
  },
  {
   "cell_type": "code",
   "execution_count": null,
   "metadata": {
    "collapsed": true
   },
   "outputs": [],
   "source": []
  }
 ],
 "metadata": {
  "anaconda-cloud": {},
  "kernelspec": {
   "display_name": "Python 2",
   "language": "python",
   "name": "python2"
  },
  "language_info": {
   "codemirror_mode": {
    "name": "ipython",
    "version": 2
   },
   "file_extension": ".py",
   "mimetype": "text/x-python",
   "name": "python",
   "nbconvert_exporter": "python",
   "pygments_lexer": "ipython2",
   "version": "2.7.11"
  }
 },
 "nbformat": 4,
 "nbformat_minor": 0
}
