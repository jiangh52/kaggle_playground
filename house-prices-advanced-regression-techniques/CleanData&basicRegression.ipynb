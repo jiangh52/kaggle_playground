{
 "cells": [
  {
   "cell_type": "markdown",
   "metadata": {},
   "source": [
    "Author:  Hao Jiang\n",
    "## Goal for this notebook\n",
    "Based on version1 data cleaning. This notebook tries to;\n",
    " * Further explore the data\n",
    " * Try some feature engineering\n",
    "And the basic idea here's to make the model simple and try to reduce numbers of feats"
   ]
  },
  {
   "cell_type": "code",
   "execution_count": 1,
   "metadata": {
    "collapsed": true
   },
   "outputs": [],
   "source": [
    "import pandas as pd\n",
    "import numpy as np\n",
    "import seaborn as sns\n",
    "import matplotlib\n",
    "import matplotlib.pyplot as plt\n",
    "import sklearn\n",
    "\n",
    "from scipy.stats import skew\n",
    "from scipy.stats.stats import pearsonr\n",
    "\n",
    "%config InlineBackend.figure_format = 'retina' #set 'png' here when working on notebook\n",
    "%matplotlib inline"
   ]
  },
  {
   "cell_type": "code",
   "execution_count": 2,
   "metadata": {
    "collapsed": false
   },
   "outputs": [
    {
     "data": {
      "text/html": [
       "<div>\n",
       "<table border=\"1\" class=\"dataframe\">\n",
       "  <thead>\n",
       "    <tr style=\"text-align: right;\">\n",
       "      <th></th>\n",
       "      <th>Id</th>\n",
       "      <th>MSSubClass</th>\n",
       "      <th>MSZoning</th>\n",
       "      <th>LotFrontage</th>\n",
       "      <th>LotArea</th>\n",
       "      <th>Street</th>\n",
       "      <th>Alley</th>\n",
       "      <th>LotShape</th>\n",
       "      <th>LandContour</th>\n",
       "      <th>Utilities</th>\n",
       "      <th>...</th>\n",
       "      <th>PoolArea</th>\n",
       "      <th>PoolQC</th>\n",
       "      <th>Fence</th>\n",
       "      <th>MiscFeature</th>\n",
       "      <th>MiscVal</th>\n",
       "      <th>MoSold</th>\n",
       "      <th>YrSold</th>\n",
       "      <th>SaleType</th>\n",
       "      <th>SaleCondition</th>\n",
       "      <th>SalePrice</th>\n",
       "    </tr>\n",
       "  </thead>\n",
       "  <tbody>\n",
       "    <tr>\n",
       "      <th>0</th>\n",
       "      <td>1</td>\n",
       "      <td>60</td>\n",
       "      <td>RL</td>\n",
       "      <td>65.0</td>\n",
       "      <td>8450</td>\n",
       "      <td>Pave</td>\n",
       "      <td>NaN</td>\n",
       "      <td>Reg</td>\n",
       "      <td>Lvl</td>\n",
       "      <td>AllPub</td>\n",
       "      <td>...</td>\n",
       "      <td>0</td>\n",
       "      <td>NaN</td>\n",
       "      <td>NaN</td>\n",
       "      <td>NaN</td>\n",
       "      <td>0</td>\n",
       "      <td>2</td>\n",
       "      <td>2008</td>\n",
       "      <td>WD</td>\n",
       "      <td>Normal</td>\n",
       "      <td>208500</td>\n",
       "    </tr>\n",
       "    <tr>\n",
       "      <th>1</th>\n",
       "      <td>2</td>\n",
       "      <td>20</td>\n",
       "      <td>RL</td>\n",
       "      <td>80.0</td>\n",
       "      <td>9600</td>\n",
       "      <td>Pave</td>\n",
       "      <td>NaN</td>\n",
       "      <td>Reg</td>\n",
       "      <td>Lvl</td>\n",
       "      <td>AllPub</td>\n",
       "      <td>...</td>\n",
       "      <td>0</td>\n",
       "      <td>NaN</td>\n",
       "      <td>NaN</td>\n",
       "      <td>NaN</td>\n",
       "      <td>0</td>\n",
       "      <td>5</td>\n",
       "      <td>2007</td>\n",
       "      <td>WD</td>\n",
       "      <td>Normal</td>\n",
       "      <td>181500</td>\n",
       "    </tr>\n",
       "    <tr>\n",
       "      <th>2</th>\n",
       "      <td>3</td>\n",
       "      <td>60</td>\n",
       "      <td>RL</td>\n",
       "      <td>68.0</td>\n",
       "      <td>11250</td>\n",
       "      <td>Pave</td>\n",
       "      <td>NaN</td>\n",
       "      <td>IR1</td>\n",
       "      <td>Lvl</td>\n",
       "      <td>AllPub</td>\n",
       "      <td>...</td>\n",
       "      <td>0</td>\n",
       "      <td>NaN</td>\n",
       "      <td>NaN</td>\n",
       "      <td>NaN</td>\n",
       "      <td>0</td>\n",
       "      <td>9</td>\n",
       "      <td>2008</td>\n",
       "      <td>WD</td>\n",
       "      <td>Normal</td>\n",
       "      <td>223500</td>\n",
       "    </tr>\n",
       "    <tr>\n",
       "      <th>3</th>\n",
       "      <td>4</td>\n",
       "      <td>70</td>\n",
       "      <td>RL</td>\n",
       "      <td>60.0</td>\n",
       "      <td>9550</td>\n",
       "      <td>Pave</td>\n",
       "      <td>NaN</td>\n",
       "      <td>IR1</td>\n",
       "      <td>Lvl</td>\n",
       "      <td>AllPub</td>\n",
       "      <td>...</td>\n",
       "      <td>0</td>\n",
       "      <td>NaN</td>\n",
       "      <td>NaN</td>\n",
       "      <td>NaN</td>\n",
       "      <td>0</td>\n",
       "      <td>2</td>\n",
       "      <td>2006</td>\n",
       "      <td>WD</td>\n",
       "      <td>Abnorml</td>\n",
       "      <td>140000</td>\n",
       "    </tr>\n",
       "    <tr>\n",
       "      <th>4</th>\n",
       "      <td>5</td>\n",
       "      <td>60</td>\n",
       "      <td>RL</td>\n",
       "      <td>84.0</td>\n",
       "      <td>14260</td>\n",
       "      <td>Pave</td>\n",
       "      <td>NaN</td>\n",
       "      <td>IR1</td>\n",
       "      <td>Lvl</td>\n",
       "      <td>AllPub</td>\n",
       "      <td>...</td>\n",
       "      <td>0</td>\n",
       "      <td>NaN</td>\n",
       "      <td>NaN</td>\n",
       "      <td>NaN</td>\n",
       "      <td>0</td>\n",
       "      <td>12</td>\n",
       "      <td>2008</td>\n",
       "      <td>WD</td>\n",
       "      <td>Normal</td>\n",
       "      <td>250000</td>\n",
       "    </tr>\n",
       "  </tbody>\n",
       "</table>\n",
       "<p>5 rows × 81 columns</p>\n",
       "</div>"
      ],
      "text/plain": [
       "   Id  MSSubClass MSZoning  LotFrontage  LotArea Street Alley LotShape  \\\n",
       "0   1          60       RL         65.0     8450   Pave   NaN      Reg   \n",
       "1   2          20       RL         80.0     9600   Pave   NaN      Reg   \n",
       "2   3          60       RL         68.0    11250   Pave   NaN      IR1   \n",
       "3   4          70       RL         60.0     9550   Pave   NaN      IR1   \n",
       "4   5          60       RL         84.0    14260   Pave   NaN      IR1   \n",
       "\n",
       "  LandContour Utilities    ...     PoolArea PoolQC Fence MiscFeature MiscVal  \\\n",
       "0         Lvl    AllPub    ...            0    NaN   NaN         NaN       0   \n",
       "1         Lvl    AllPub    ...            0    NaN   NaN         NaN       0   \n",
       "2         Lvl    AllPub    ...            0    NaN   NaN         NaN       0   \n",
       "3         Lvl    AllPub    ...            0    NaN   NaN         NaN       0   \n",
       "4         Lvl    AllPub    ...            0    NaN   NaN         NaN       0   \n",
       "\n",
       "  MoSold YrSold  SaleType  SaleCondition  SalePrice  \n",
       "0      2   2008        WD         Normal     208500  \n",
       "1      5   2007        WD         Normal     181500  \n",
       "2      9   2008        WD         Normal     223500  \n",
       "3      2   2006        WD        Abnorml     140000  \n",
       "4     12   2008        WD         Normal     250000  \n",
       "\n",
       "[5 rows x 81 columns]"
      ]
     },
     "execution_count": 2,
     "metadata": {},
     "output_type": "execute_result"
    }
   ],
   "source": [
    "train = pd.read_csv(\"./train.csv\")\n",
    "test = pd.read_csv(\"./test.csv\")\n",
    "# train.shape\n",
    "train.head()"
   ]
  },
  {
   "cell_type": "code",
   "execution_count": 3,
   "metadata": {
    "collapsed": false
   },
   "outputs": [],
   "source": [
    "# combine the data and take all of the feature. This is for easier feature engineering. \n",
    "all_data = pd.concat((train.iloc[:,1:-1], test.iloc[:,1:]))\n",
    "y = np.log1p(train[\"SalePrice\"])\n",
    "y2 = np.log1p(train[\"SalePrice\"] - train[\"MiscVal\"])\n",
    "\n",
    "# remember the length of train data\n",
    "trainLen = len(train)"
   ]
  },
  {
   "cell_type": "markdown",
   "metadata": {},
   "source": [
    "## Continous data wrangling\n",
    "\n",
    "Due to previous prediction, we could see that living area and other area infomation is a crucial predictor to final sold price. Insteed of the sold price, price per SF could be a better feature to compare the effect of other features. But first, we need to have some conversions on these continuouse data.  \n",
    "To begin with, we can see that GrLivArea = 1stFlrSF + 2ndFlrSF, TotalBsmtSF = BsmtFinSF1 + BsmtFinSF2 + BsmtUnfSF. So if seems better to reduce the features here."
   ]
  },
  {
   "cell_type": "code",
   "execution_count": 4,
   "metadata": {
    "collapsed": false
   },
   "outputs": [],
   "source": [
    "# There is a na TotalBsmtSF value in the test set for \n",
    "all_data.loc[:,'TotalBsmtSF'] = all_data['TotalBsmtSF'].fillna(0)\n",
    "\n",
    "all_data.loc[:,'TotalLivArea'] = all_data.loc[:,'GrLivArea'] + all_data.loc[:,'TotalBsmtSF']\n",
    "all_data['TotalPorchSF'] = all_data[['OpenPorchSF', 'EnclosedPorch', '3SsnPorch', 'ScreenPorch']].sum(axis = 1)\n",
    "YPerSF = np.log1p((train[\"SalePrice\"] - train[\"MiscVal\"]) / all_data[:trainLen]['TotalLivArea'])"
   ]
  },
  {
   "cell_type": "code",
   "execution_count": 5,
   "metadata": {
    "collapsed": false
   },
   "outputs": [
    {
     "data": {
      "text/plain": [
       "19"
      ]
     },
     "execution_count": 5,
     "metadata": {},
     "output_type": "execute_result"
    }
   ],
   "source": [
    "continuous_feats = pd.Index([name for name in all_data.columns if \"Area\" in name or \"SF\" in name or 'Porch' in name])\n",
    "all_data.loc[:, continuous_feats] = np.log1p(all_data[continuous_feats])\n",
    "len(continuous_feats)"
   ]
  },
  {
   "cell_type": "code",
   "execution_count": 6,
   "metadata": {
    "collapsed": false
   },
   "outputs": [],
   "source": [
    "matplotlib.rcParams['figure.figsize'] = (12.0, 18.0)\n",
    "\n",
    "# Non zeor non null histogram\n",
    "# for i in range(len(continuous_feats)):\n",
    "#     plt.subplot(np.ceil(np.sqrt(len(continuous_feats))),np.floor(np.sqrt(len(continuous_feats))), i + 1)\n",
    "#     temp_val = np.log1p(all_data[:trainLen][continuous_feats[i]])\n",
    "#     plt.scatter(x = temp_val[temp_val > 0], y = y2[temp_val > 0],s = 10)\n",
    "#     plt.title(continuous_feats[i])"
   ]
  },
  {
   "cell_type": "markdown",
   "metadata": {},
   "source": [
    "That's check the relationship between continuous value and SalePrice\n",
    "* The followering are strongly correlated:\n",
    " * 1stFlrSF, 2ndFlrSF, BsmtFinSF1, BsmtFinSF2, GrLivArea, GarageArea, TotalBsmtSF, TotalLivArea\n",
    "* The followering are kinda correlated:\n",
    " * LotArea, MasVnr\n",
    "* Several has too little samples and are difficult to decide\n",
    " * 3SsnPorch, LowQualFinSF, PoolArea\n",
    "* The rest and kinda none-related ones\n",
    " * BsmtFinSF2, BsmtUnfSF, OpenPorchSF, ScreenPorch, WoodDeckSF, TotalPorchSF\n",
    "\n",
    "So what we will do here now is to drop those few sample features and seemly non-correlated features.  \n",
    "For the correlated ones we are still gonna drop some like 1stFlrSF because it is strongly correlated to TotalLivArea.\n",
    "BsmtFinSF1 seems to has to different group, which might due to large BsmtFinSF2 area. So will just ignore that."
   ]
  },
  {
   "cell_type": "markdown",
   "metadata": {},
   "source": [
    "## Discrete Data"
   ]
  },
  {
   "cell_type": "code",
   "execution_count": 7,
   "metadata": {
    "collapsed": false
   },
   "outputs": [],
   "source": [
    "YrFeats = ['YearBuilt', 'YearRemodAdd', 'GarageYrBlt','MoSold', 'YrSold']\n",
    "\n",
    "matplotlib.rcParams['figure.figsize'] = (16.0,12.0)\n",
    "# for i in range(len(YrFeats)):\n",
    "#     plt.subplot(3,2, i + 1)\n",
    "#     temp_val = all_data[:trainLen][YrFeats[i]]\n",
    "#     plt.scatter(x = temp_val[temp_val > 0], y = YPerSF[temp_val > 0],s = 10)\n",
    "#     plt.title(YrFeats[i])"
   ]
  },
  {
   "cell_type": "markdown",
   "metadata": {},
   "source": [
    "No much difference between Price per SF on YearSold, so we will just leave the Year data as they are and drop year.\n",
    "As for month, we might expect some seasonal difference here."
   ]
  },
  {
   "cell_type": "code",
   "execution_count": 8,
   "metadata": {
    "collapsed": false
   },
   "outputs": [],
   "source": [
    "# SeasonalFeat = ['Heating', 'HeatingQC', 'FireplaceQu', 'Fireplaces', 'CentralAir', 'PoolQC', '3SsnPorch', 'ScreenPorch']\n",
    "SeasonalFeat = ['Heating', 'HeatingQC', 'FireplaceQu', 'Fireplaces', 'CentralAir', 'PoolQC']\n",
    "matplotlib.rcParams['figure.figsize'] = (18.0,18.0)\n",
    "# for i in range(len(SeasonalFeat)):\n",
    "#     plt.subplot(3,2,i + 1)\n",
    "#     sns.boxplot(x = all_data[:trainLen]['MoSold'], y = YPerSF,hue = all_data[:trainLen][SeasonalFeat[i]])\n",
    "#     plt.title(SeasonalFeat[i])"
   ]
  },
  {
   "cell_type": "markdown",
   "metadata": {},
   "source": [
    "Not much correlation between Month and price, so we'll just ignore MoSold"
   ]
  },
  {
   "cell_type": "code",
   "execution_count": 9,
   "metadata": {
    "collapsed": false
   },
   "outputs": [],
   "source": [
    "# Discrete\n",
    "discreteFeats = ['BsmtFullBath','BsmtHalfBath','FullBath','HalfBath',\n",
    "                 'BedroomAbvGr','KitchenAbvGr','TotRmsAbvGrd','Fireplaces','GarageCars']\n",
    "matplotlib.rcParams['figure.figsize'] = (18.0,15.0)\n",
    "# for i in range(len(discreteFeats)):\n",
    "#     plt.subplot(3,3,i + 1)\n",
    "#     sns.boxplot(x = all_data[:trainLen][discreteFeats[i]], y = YPerSF)"
   ]
  },
  {
   "cell_type": "markdown",
   "metadata": {},
   "source": [
    "Several features does not seems to matter:\n",
    " * BsmtFullBath, BsmtHalfBath, TotRmsAbvGrid\n",
    "\n",
    "We will simply leave the others as they are, but we do want to add several feats to describe the non-linear party."
   ]
  },
  {
   "cell_type": "code",
   "execution_count": 10,
   "metadata": {
    "collapsed": true
   },
   "outputs": [],
   "source": [
    "all_data['HasMultiHalfBath'] = all_data['HalfBath'] > 1\n",
    "all_data['Morethan2Fireplace'] = all_data['Fireplaces'] > 2\n",
    "all_data['Morethan3Cars'] = all_data['GarageCars'] > 3"
   ]
  },
  {
   "cell_type": "markdown",
   "metadata": {},
   "source": [
    "## Ordinal data\n",
    "Basically that's all for continuous data. Now that's convert Ordinal ones."
   ]
  },
  {
   "cell_type": "code",
   "execution_count": 11,
   "metadata": {
    "collapsed": false
   },
   "outputs": [],
   "source": [
    "# LotShape\n",
    "all_data['LotShape'] = all_data['LotShape'].replace(['IR3','IR2','IR1' ,'Reg'], [1,2,3,4])\n",
    "all_data['LandContour'] = all_data['LandContour'].replace(['Low', 'HLS', 'Bnk','Lvl'], [1,2,3,4])\n",
    "all_data['Utilities'] = all_data['Utilities'].replace(['ELO','NoSeWa','NoSewr','AllPub'], [1,2,3,4])\n",
    "all_data['LandSlope'] = all_data['LandSlope'].replace(['Sev' , 'Mod', 'Gtl'], [1,2,3])\n",
    "all_data['ExterQual'] = all_data['ExterQual'].replace(['Po', 'Fa', 'TA', 'Gd', 'Ex'], [1,2,3,4,5])\n",
    "all_data['ExterCond'] = all_data['ExterCond'].replace(['Po', 'Fa', 'TA', 'Gd', 'Ex'], [1,2,3,4,5])\n",
    "all_data['BsmtQual'] = all_data['BsmtQual'].replace(['Po', 'Fa', 'TA', 'Gd', 'Ex'], [1,2,3,4,5])\n",
    "all_data['BsmtCond'] = all_data['BsmtCond'].replace(['Po', 'Fa', 'TA', 'Gd', 'Ex'], [1,2,3,4,5])\n",
    "all_data['BsmtExposure'] = all_data['BsmtExposure'].replace(['No', 'Mn', 'Av', 'Gd'], [1,2,3,4])\n",
    "all_data['BsmtFinType1'] = all_data['BsmtFinType1'].replace(['Unf', 'LwQ', 'Rec', 'BLQ', 'ALQ', 'GLQ'], [1,2,3,4,5,6])\n",
    "all_data['BsmtFinType2'] = all_data['BsmtFinType2'].replace(['Unf', 'LwQ', 'Rec', 'BLQ', 'ALQ', 'GLQ'], [1,2,3,4,5,6])\n",
    "all_data['HeatingQC'] = all_data['HeatingQC'].replace(['Po', 'Fa', 'TA', 'Gd', 'Ex'], [1,2,3,4,5])\n",
    "all_data['KitchenQual'] = all_data['KitchenQual'].replace(['Po', 'Fa', 'TA', 'Gd', 'Ex'], [1,2,3,4,5])\n",
    "all_data['Functional'] = all_data['Functional'].replace(['Sal','Sev','Maj2','Maj1','Mod','Min2','Min1','Typ'], [\n",
    "        1,2,3,4,5,6,7,8])\n",
    "all_data['FireplaceQu'] = all_data['FireplaceQu'].replace(['Po', 'Fa', 'TA', 'Gd', 'Ex'], [1,2,3,4,5])\n",
    "all_data['GarageFinish'] = all_data['GarageFinish'].replace(['Unf', 'RFn', 'Fin'], [1,2,3])\n",
    "all_data['GarageQual'] = all_data['GarageQual'].replace(['Po', 'Fa', 'TA', 'Gd', 'Ex'], [1,2,3,4,5])\n",
    "all_data['GarageCond'] = all_data['GarageCond'].replace(['Po', 'Fa', 'TA', 'Gd', 'Ex'], [1,2,3,4,5])\n",
    "all_data['PoolQC'] = all_data['PoolQC'].replace(['Fa', 'TA', 'Gd', 'Ex'], [1,2,3,4])\n",
    "all_data['Fence'] = all_data['Fence'].replace(['MnWw', 'GdWo', 'MnPrv', 'GdPrv'], [1,2,3,4])\n",
    "all_data['CentralAir'] = all_data['CentralAir'].replace(['N', 'Y'], [0,1])"
   ]
  },
  {
   "cell_type": "code",
   "execution_count": 12,
   "metadata": {
    "collapsed": false
   },
   "outputs": [],
   "source": [
    "# Ordinal check\n",
    "ord_feats = pd.Index(['LotShape','LandContour','Utilities','LandSlope',\n",
    "                      'OverallQual','OverallCond','ExterQual','ExterCond',\n",
    "                      'BsmtQual','BsmtCond','BsmtExposure','BsmtFinType1',\n",
    "                      'BsmtFinType2','HeatingQC','KitchenQual','Functional',\n",
    "                      'FireplaceQu','GarageFinish','GarageQual','GarageCond',\n",
    "                      'PoolQC','Fence', 'CentralAir'])\n",
    "all_data.loc[:,ord_feats] = all_data[ord_feats].fillna(0)"
   ]
  },
  {
   "cell_type": "code",
   "execution_count": 13,
   "metadata": {
    "collapsed": false
   },
   "outputs": [],
   "source": [
    "# Not let's check the boxplot of these values to price per sf\n",
    "matplotlib.rcParams['figure.figsize'] = (12.0, 24.0)\n",
    "\n",
    "# Non zeor non null histogram\n",
    "# for i in range(len(ord_feats)):\n",
    "#     plt.subplot(6,4, i + 1)\n",
    "#     sns.boxplot(y = YPerSF, x = all_data[:trainLen][ord_feats[i]])"
   ]
  },
  {
   "cell_type": "markdown",
   "metadata": {
    "collapsed": false
   },
   "source": [
    "Feats to ignore:\n",
    " * LandSlope\n",
    " * BsmtFinType1 & 2 (due to difficulties of inperpretation)  \n",
    " * LandContour (due to difficulties of inperpretation)  \n",
    " * Fence (does not seems to have big difference)\n",
    " \n",
    "Most of the other's would be referenced and added some extra feats"
   ]
  },
  {
   "cell_type": "code",
   "execution_count": 14,
   "metadata": {
    "collapsed": false
   },
   "outputs": [],
   "source": [
    "all_data['LotShape-IR3'] = (all_data['LotShape'] == 1) * 1\n",
    "all_data['LowOverAllQual'] = (all_data['OverallQual'] < 4) * 1\n",
    "all_data['AvgOverAllCond'] = (all_data['OverallCond'] == 5) * 1\n",
    "all_data['TypExterCond'] = (all_data['ExterCond'] == 3) * 1"
   ]
  },
  {
   "cell_type": "markdown",
   "metadata": {},
   "source": [
    "## Nominal data\n",
    "\n",
    "Finally let's fill in na data and one-hot encoding nomincal ones"
   ]
  },
  {
   "cell_type": "code",
   "execution_count": 15,
   "metadata": {
    "collapsed": false
   },
   "outputs": [
    {
     "data": {
      "text/plain": [
       "24"
      ]
     },
     "execution_count": 15,
     "metadata": {},
     "output_type": "execute_result"
    }
   ],
   "source": [
    "NomFeats = ['MSZoning','Street','Alley','Neighborhood','Condition1','Condition2',\n",
    "            'BldgType','HouseStyle','MSSubClass','RoofStyle','RoofMatl','Exterior1st',\n",
    "            'Exterior2nd','Foundation','Heating','Electrical','Functional','GarageType',\n",
    "            'PavedDrive','MiscFeature','SaleType','LotConfig','MasVnrType','SaleCondition']\n",
    "len(NomFeats)"
   ]
  },
  {
   "cell_type": "code",
   "execution_count": 16,
   "metadata": {
    "collapsed": false
   },
   "outputs": [],
   "source": [
    "# Deal with Exterior\n",
    "for name in all_data[\"Exterior1st\"].dropna().unique():\n",
    "    all_data['Exterior-' + name] = 1 * ((all_data[\"Exterior1st\"] == name) | (all_data[\"Exterior2nd\"] == name))\n",
    "\n",
    "# Deal with Condition\n",
    "for name in all_data[\"Condition1\"].dropna().unique():\n",
    "    all_data['Condition-' + name] = 1 * ((all_data[\"Condition1\"] == name) | (all_data[\"Condition2\"] == name))"
   ]
  },
  {
   "cell_type": "code",
   "execution_count": 17,
   "metadata": {
    "collapsed": true
   },
   "outputs": [],
   "source": [
    "all_data.loc[:,'MSSubClass'] = all_data.loc[:,'MSSubClass'].astype('category')"
   ]
  },
  {
   "cell_type": "code",
   "execution_count": 18,
   "metadata": {
    "collapsed": false
   },
   "outputs": [],
   "source": [
    "# Not let's check the boxplot of these values to price per sf\n",
    "matplotlib.rcParams['figure.figsize'] = (12.0, 24.0)\n",
    "\n",
    "# Non zeor non null histogram\n",
    "# for i in range(len(NomFeats)):\n",
    "#     plt.subplot(6,4, i + 1)\n",
    "#     sns.boxplot(y = YPerSF, x = all_data[:trainLen][NomFeats[i]])"
   ]
  },
  {
   "cell_type": "code",
   "execution_count": 19,
   "metadata": {
    "collapsed": false
   },
   "outputs": [],
   "source": [
    "all_data = pd.get_dummies(all_data)"
   ]
  },
  {
   "cell_type": "code",
   "execution_count": 20,
   "metadata": {
    "collapsed": false
   },
   "outputs": [
    {
     "name": "stdout",
     "output_type": "stream",
     "text": [
      "              nullNums DataType\n",
      "LotFrontage        486  float64\n",
      "MasVnrArea          23  float64\n",
      "BsmtFinSF1           1  float64\n",
      "BsmtFinSF2           1  float64\n",
      "BsmtUnfSF            1  float64\n",
      "BsmtFullBath         2  float64\n",
      "BsmtHalfBath         2  float64\n",
      "GarageYrBlt        159  float64\n",
      "GarageCars           1  float64\n",
      "GarageArea           1  float64\n"
     ]
    }
   ],
   "source": [
    "# check na value count\n",
    "nullCnt = pd.DataFrame({'nullNums' : all_data.isnull().sum()})\n",
    "nullCnt['DataType'] = all_data[nullCnt.index].dtypes\n",
    "print nullCnt[nullCnt['nullNums'] > 0].sort_values(by = 'DataType')"
   ]
  },
  {
   "cell_type": "markdown",
   "metadata": {},
   "source": [
    "Based on previous data cleaning we know that we should fill in LatFrontage data.  \n",
    "For GaBltyears, we will just set them to 999"
   ]
  },
  {
   "cell_type": "code",
   "execution_count": 21,
   "metadata": {
    "collapsed": false
   },
   "outputs": [],
   "source": [
    "all_data.loc[all_data['GarageYrBlt'].isnull(), 'GarageYrBlt'] = all_data['GarageYrBlt'].min()\n",
    "all_data = all_data.fillna(0)"
   ]
  },
  {
   "cell_type": "code",
   "execution_count": 22,
   "metadata": {
    "collapsed": false
   },
   "outputs": [],
   "source": [
    "# Drop features\n",
    "# Continous ones\n",
    "# all_data = all_data.drop(['TotalBsmtSF', 'BsmtFinSF1','BsmtFinSF2', 'BsmtUnfSF', 'OpenPorchSF', 'WoodDeckSF', \n",
    "#                           'TotalPorchSF', 'EnclosedPorch', '3SsnPorch', 'ScreenPorch', \n",
    "#                           'LowQualFinSF', 'PoolArea', 'GrLivArea','1stFlrSF', '2ndFlrSF', \n",
    "#                           'LotFrontage', 'MiscVal', 'LotFrontage'], axis = 1)\n",
    "# # Discrete ones\n",
    "# all_data = all_data.drop(['MoSold', 'BsmtFullBath', 'BsmtHalfBath', 'TotRmsAbvGrd'], axis = 1)\n",
    "# # Ordinal ones\n",
    "# all_data = all_data.drop(['LandSlope', 'BsmtFinType1', 'BsmtFinType2', 'LandContour', 'Fence'], axis = 1)\n"
   ]
  },
  {
   "cell_type": "code",
   "execution_count": 23,
   "metadata": {
    "collapsed": false
   },
   "outputs": [],
   "source": [
    "# from sklearn.feature_selection import VarianceThreshold\n",
    "# sel = VarianceThreshold(threshold=(.95 * (1 - .95)))\n",
    "# # all_data = sel.fit_transform(all_data)\n",
    "# sel.fit(all_data)\n",
    "# all_data = pd.DataFrame(data = sel.transform(all_data), columns = all_data.columns[sel.get_support()])"
   ]
  },
  {
   "cell_type": "code",
   "execution_count": 24,
   "metadata": {
    "collapsed": false
   },
   "outputs": [
    {
     "data": {
      "text/html": [
       "<div>\n",
       "<table border=\"1\" class=\"dataframe\">\n",
       "  <thead>\n",
       "    <tr style=\"text-align: right;\">\n",
       "      <th></th>\n",
       "      <th>LotFrontage</th>\n",
       "      <th>LotArea</th>\n",
       "      <th>LotShape</th>\n",
       "      <th>LandContour</th>\n",
       "      <th>Utilities</th>\n",
       "      <th>LandSlope</th>\n",
       "      <th>OverallQual</th>\n",
       "      <th>OverallCond</th>\n",
       "      <th>YearBuilt</th>\n",
       "      <th>YearRemodAdd</th>\n",
       "      <th>...</th>\n",
       "      <th>SaleType_ConLw</th>\n",
       "      <th>SaleType_New</th>\n",
       "      <th>SaleType_Oth</th>\n",
       "      <th>SaleType_WD</th>\n",
       "      <th>SaleCondition_Abnorml</th>\n",
       "      <th>SaleCondition_AdjLand</th>\n",
       "      <th>SaleCondition_Alloca</th>\n",
       "      <th>SaleCondition_Family</th>\n",
       "      <th>SaleCondition_Normal</th>\n",
       "      <th>SaleCondition_Partial</th>\n",
       "    </tr>\n",
       "  </thead>\n",
       "  <tbody>\n",
       "    <tr>\n",
       "      <th>0</th>\n",
       "      <td>65.0</td>\n",
       "      <td>9.042040</td>\n",
       "      <td>4</td>\n",
       "      <td>4</td>\n",
       "      <td>4.0</td>\n",
       "      <td>3</td>\n",
       "      <td>7</td>\n",
       "      <td>5</td>\n",
       "      <td>2003</td>\n",
       "      <td>2003</td>\n",
       "      <td>...</td>\n",
       "      <td>0</td>\n",
       "      <td>0</td>\n",
       "      <td>0</td>\n",
       "      <td>1</td>\n",
       "      <td>0</td>\n",
       "      <td>0</td>\n",
       "      <td>0</td>\n",
       "      <td>0</td>\n",
       "      <td>1</td>\n",
       "      <td>0</td>\n",
       "    </tr>\n",
       "    <tr>\n",
       "      <th>1</th>\n",
       "      <td>80.0</td>\n",
       "      <td>9.169623</td>\n",
       "      <td>4</td>\n",
       "      <td>4</td>\n",
       "      <td>4.0</td>\n",
       "      <td>3</td>\n",
       "      <td>6</td>\n",
       "      <td>8</td>\n",
       "      <td>1976</td>\n",
       "      <td>1976</td>\n",
       "      <td>...</td>\n",
       "      <td>0</td>\n",
       "      <td>0</td>\n",
       "      <td>0</td>\n",
       "      <td>1</td>\n",
       "      <td>0</td>\n",
       "      <td>0</td>\n",
       "      <td>0</td>\n",
       "      <td>0</td>\n",
       "      <td>1</td>\n",
       "      <td>0</td>\n",
       "    </tr>\n",
       "    <tr>\n",
       "      <th>2</th>\n",
       "      <td>68.0</td>\n",
       "      <td>9.328212</td>\n",
       "      <td>3</td>\n",
       "      <td>4</td>\n",
       "      <td>4.0</td>\n",
       "      <td>3</td>\n",
       "      <td>7</td>\n",
       "      <td>5</td>\n",
       "      <td>2001</td>\n",
       "      <td>2002</td>\n",
       "      <td>...</td>\n",
       "      <td>0</td>\n",
       "      <td>0</td>\n",
       "      <td>0</td>\n",
       "      <td>1</td>\n",
       "      <td>0</td>\n",
       "      <td>0</td>\n",
       "      <td>0</td>\n",
       "      <td>0</td>\n",
       "      <td>1</td>\n",
       "      <td>0</td>\n",
       "    </tr>\n",
       "    <tr>\n",
       "      <th>3</th>\n",
       "      <td>60.0</td>\n",
       "      <td>9.164401</td>\n",
       "      <td>3</td>\n",
       "      <td>4</td>\n",
       "      <td>4.0</td>\n",
       "      <td>3</td>\n",
       "      <td>7</td>\n",
       "      <td>5</td>\n",
       "      <td>1915</td>\n",
       "      <td>1970</td>\n",
       "      <td>...</td>\n",
       "      <td>0</td>\n",
       "      <td>0</td>\n",
       "      <td>0</td>\n",
       "      <td>1</td>\n",
       "      <td>1</td>\n",
       "      <td>0</td>\n",
       "      <td>0</td>\n",
       "      <td>0</td>\n",
       "      <td>0</td>\n",
       "      <td>0</td>\n",
       "    </tr>\n",
       "    <tr>\n",
       "      <th>4</th>\n",
       "      <td>84.0</td>\n",
       "      <td>9.565284</td>\n",
       "      <td>3</td>\n",
       "      <td>4</td>\n",
       "      <td>4.0</td>\n",
       "      <td>3</td>\n",
       "      <td>8</td>\n",
       "      <td>5</td>\n",
       "      <td>2000</td>\n",
       "      <td>2000</td>\n",
       "      <td>...</td>\n",
       "      <td>0</td>\n",
       "      <td>0</td>\n",
       "      <td>0</td>\n",
       "      <td>1</td>\n",
       "      <td>0</td>\n",
       "      <td>0</td>\n",
       "      <td>0</td>\n",
       "      <td>0</td>\n",
       "      <td>1</td>\n",
       "      <td>0</td>\n",
       "    </tr>\n",
       "  </tbody>\n",
       "</table>\n",
       "<p>5 rows × 268 columns</p>\n",
       "</div>"
      ],
      "text/plain": [
       "   LotFrontage   LotArea  LotShape  LandContour  Utilities  LandSlope  \\\n",
       "0         65.0  9.042040         4            4        4.0          3   \n",
       "1         80.0  9.169623         4            4        4.0          3   \n",
       "2         68.0  9.328212         3            4        4.0          3   \n",
       "3         60.0  9.164401         3            4        4.0          3   \n",
       "4         84.0  9.565284         3            4        4.0          3   \n",
       "\n",
       "   OverallQual  OverallCond  YearBuilt  YearRemodAdd          ...            \\\n",
       "0            7            5       2003          2003          ...             \n",
       "1            6            8       1976          1976          ...             \n",
       "2            7            5       2001          2002          ...             \n",
       "3            7            5       1915          1970          ...             \n",
       "4            8            5       2000          2000          ...             \n",
       "\n",
       "   SaleType_ConLw  SaleType_New  SaleType_Oth  SaleType_WD  \\\n",
       "0               0             0             0            1   \n",
       "1               0             0             0            1   \n",
       "2               0             0             0            1   \n",
       "3               0             0             0            1   \n",
       "4               0             0             0            1   \n",
       "\n",
       "   SaleCondition_Abnorml  SaleCondition_AdjLand  SaleCondition_Alloca  \\\n",
       "0                      0                      0                     0   \n",
       "1                      0                      0                     0   \n",
       "2                      0                      0                     0   \n",
       "3                      1                      0                     0   \n",
       "4                      0                      0                     0   \n",
       "\n",
       "   SaleCondition_Family  SaleCondition_Normal  SaleCondition_Partial  \n",
       "0                     0                     1                      0  \n",
       "1                     0                     1                      0  \n",
       "2                     0                     1                      0  \n",
       "3                     0                     0                      0  \n",
       "4                     0                     1                      0  \n",
       "\n",
       "[5 rows x 268 columns]"
      ]
     },
     "execution_count": 24,
     "metadata": {},
     "output_type": "execute_result"
    }
   ],
   "source": [
    "# all_data.shape\n",
    "all_data.head()"
   ]
  },
  {
   "cell_type": "code",
   "execution_count": 25,
   "metadata": {
    "collapsed": true
   },
   "outputs": [],
   "source": [
    "X_train = all_data[:trainLen]\n",
    "X_test = all_data[trainLen:]"
   ]
  },
  {
   "cell_type": "markdown",
   "metadata": {},
   "source": [
    "### Basic Regression\n",
    "Try and see Lasso and Ridge. Use all the features to predict log1p(SalePrice) directly."
   ]
  },
  {
   "cell_type": "code",
   "execution_count": 26,
   "metadata": {
    "collapsed": true
   },
   "outputs": [],
   "source": [
    "from sklearn.linear_model import Ridge, Lasso\n",
    "from sklearn.model_selection import cross_val_score, GridSearchCV\n",
    "from sklearn.metrics import mean_squared_error"
   ]
  },
  {
   "cell_type": "code",
   "execution_count": 27,
   "metadata": {
    "collapsed": false
   },
   "outputs": [
    {
     "data": {
      "text/plain": [
       "([(0.14088162313509162, {'alpha': 0.05}),\n",
       "  (0.13950120087683729, {'alpha': 0.1}),\n",
       "  (0.13646730871408527, {'alpha': 0.3}),\n",
       "  (0.13242427910190757, {'alpha': 1}),\n",
       "  (0.12912834206646961, {'alpha': 3}),\n",
       "  (0.12807494668620611, {'alpha': 5}),\n",
       "  (0.12736079161359956, {'alpha': 10}),\n",
       "  (0.12741745926709555, {'alpha': 15}),\n",
       "  (0.12857748306198263, {'alpha': 30}),\n",
       "  (0.13044666750264067, {'alpha': 50}),\n",
       "  (0.1325658723358768, {'alpha': 75})],\n",
       " {'alpha': 10},\n",
       " 0.12736079161359956)"
      ]
     },
     "execution_count": 27,
     "metadata": {},
     "output_type": "execute_result"
    }
   ],
   "source": [
    "# Search or the best result for ridge\n",
    "\n",
    "ridge_param_test = {\n",
    "    'alpha':[0.05, 0.1, 0.3, 1, 3, 5, 10, 15, 30, 50, 75]\n",
    "}\n",
    "\n",
    "ridge_search = GridSearchCV(\n",
    "    estimator = Ridge(),\n",
    "    param_grid = ridge_param_test, \n",
    "    scoring='neg_mean_squared_error',\n",
    "    n_jobs=1,\n",
    "    iid=False, \n",
    "    cv=5\n",
    ")\n",
    "ridge_search.fit(X_train,y)\n",
    "(zip(np.sqrt(-ridge_search.cv_results_['mean_test_score']),ridge_search.cv_results_['params']) ,\n",
    " ridge_search.best_params_, np.sqrt(- ridge_search.best_score_))"
   ]
  },
  {
   "cell_type": "code",
   "execution_count": 28,
   "metadata": {
    "collapsed": false
   },
   "outputs": [
    {
     "data": {
      "text/plain": [
       "([(0.1234656347023905, {'alpha': 0.00029999999999999997}),\n",
       "  (0.12307207847136895, {'alpha': 0.00035}),\n",
       "  (0.12285097981416801, {'alpha': 0.00040000000000000002}),\n",
       "  (0.12267594585922728, {'alpha': 0.00045000000000000004}),\n",
       "  (0.1225484580477444, {'alpha': 0.00050000000000000001}),\n",
       "  (0.12248564752108007, {'alpha': 0.00055000000000000014}),\n",
       "  (0.12250667012076299, {'alpha': 0.00060000000000000006}),\n",
       "  (0.12259459764203114, {'alpha': 0.00065000000000000019}),\n",
       "  (0.12271074020560607, {'alpha': 0.0007000000000000001}),\n",
       "  (0.12286783871335469, {'alpha': 0.00075000000000000023}),\n",
       "  (0.12305640755075976, {'alpha': 0.00080000000000000015}),\n",
       "  (0.12328698468352453, {'alpha': 0.00085000000000000028}),\n",
       "  (0.12350974333958517, {'alpha': 0.00090000000000000019}),\n",
       "  (0.12372960637082267, {'alpha': 0.00095000000000000032}),\n",
       "  (0.12398600541649839, {'alpha': 0.0010000000000000002})],\n",
       " {'alpha': 0.00055000000000000014},\n",
       " 0.12248564752108007)"
      ]
     },
     "execution_count": 28,
     "metadata": {},
     "output_type": "execute_result"
    }
   ],
   "source": [
    "lasso_param_test = {\n",
    "#     'alpha':[0.0001,0.0003,0.0005,0.001,0.005,0.01,0.05]\n",
    "    'alpha':np.arange(0.0003,0.001,0.00005)\n",
    "}\n",
    "\n",
    "lasso_search = GridSearchCV(\n",
    "    estimator = Lasso(),\n",
    "    param_grid = lasso_param_test, \n",
    "    scoring='neg_mean_squared_error',\n",
    "    n_jobs=4,\n",
    "    iid=False, \n",
    "    cv=5\n",
    ")\n",
    "lasso_search.fit(X_train,y)\n",
    "(zip(np.sqrt(-lasso_search.cv_results_['mean_test_score']),lasso_search.cv_results_['params'])\n",
    " ,lasso_search.best_params_, np.sqrt(- lasso_search.best_score_))"
   ]
  },
  {
   "cell_type": "code",
   "execution_count": 29,
   "metadata": {
    "collapsed": false
   },
   "outputs": [
    {
     "data": {
      "text/plain": [
       "Lasso(alpha=0.00055, copy_X=True, fit_intercept=True, max_iter=1000,\n",
       "   normalize=False, positive=False, precompute=False, random_state=None,\n",
       "   selection='cyclic', tol=0.0001, warm_start=False)"
      ]
     },
     "execution_count": 29,
     "metadata": {},
     "output_type": "execute_result"
    }
   ],
   "source": [
    "model_lasso = Lasso(alpha = 0.00055)\n",
    "model_lasso.fit(X_train, y)"
   ]
  },
  {
   "cell_type": "code",
   "execution_count": 30,
   "metadata": {
    "collapsed": false
   },
   "outputs": [
    {
     "data": {
      "text/plain": [
       "(100,)"
      ]
     },
     "execution_count": 30,
     "metadata": {},
     "output_type": "execute_result"
    }
   ],
   "source": [
    "lassoCoef = pd.Series(model_lasso.coef_, index = X_train.columns)\n",
    "nonZeroLasso = lassoCoef[lassoCoef != 0].index\n",
    "nonZeroLasso.shape"
   ]
  },
  {
   "cell_type": "markdown",
   "metadata": {},
   "source": [
    "### KNN regressor"
   ]
  },
  {
   "cell_type": "code",
   "execution_count": 34,
   "metadata": {
    "collapsed": true
   },
   "outputs": [],
   "source": [
    "from sklearn.neighbors.regression import KNeighborsRegressor"
   ]
  },
  {
   "cell_type": "code",
   "execution_count": 65,
   "metadata": {
    "collapsed": false
   },
   "outputs": [
    {
     "data": {
      "text/plain": [
       "([(0.25387808468723133, {'n_neighbors': 3}),\n",
       "  (0.24079872715418701, {'n_neighbors': 6}),\n",
       "  (0.2408778787204939, {'n_neighbors': 9}),\n",
       "  (0.24228179793525739, {'n_neighbors': 12}),\n",
       "  (0.24450235605528742, {'n_neighbors': 15}),\n",
       "  (0.24582112642956, {'n_neighbors': 18}),\n",
       "  (0.24678948167468301, {'n_neighbors': 21})],\n",
       " {'n_neighbors': 6},\n",
       " 0.24079872715418701)"
      ]
     },
     "execution_count": 65,
     "metadata": {},
     "output_type": "execute_result"
    }
   ],
   "source": [
    "# Search or the best result for knn\n",
    "\n",
    "knn_param_test = {\n",
    "#     'n_neighbors' : range(3,22,3)\n",
    "#     'n_neighbors' : range(4,10,1)\n",
    "}\n",
    "\n",
    "knn_search = GridSearchCV(\n",
    "    estimator = KNeighborsRegressor(\n",
    "        n_jobs = 4,\n",
    "        n_neighbors = 7,\n",
    "        weights = 'distance'        \n",
    "    ),\n",
    "    param_grid = knn_param_test, \n",
    "    scoring='neg_mean_squared_error',\n",
    "    n_jobs=1,\n",
    "    iid=False,\n",
    "    cv=5\n",
    ")\n",
    "knn_search.fit(X_train[nonZeroLasso],y)\n",
    "(zip(np.sqrt(-knn_search.cv_results_['mean_test_score']),\n",
    "    knn_search.cv_results_['params']), \n",
    " knn_search.best_params_,np.sqrt(-knn_search.best_score_))"
   ]
  },
  {
   "cell_type": "code",
   "execution_count": 35,
   "metadata": {
    "collapsed": false
   },
   "outputs": [],
   "source": [
    "from sklearn.model_selection import cross_val_score\n",
    "# First let's see best numbers of feats without weight setting\n",
    "\n",
    "lassoFeatsWeight = abs(lassoCoef[lassoCoef != 0]).sort_values()\n",
    "lassoFeatsRescale = abs(X_train[lassoCoef[lassoCoef != 0].index].mean() * lassoCoef[lassoCoef != 0]).sort_values()"
   ]
  },
  {
   "cell_type": "code",
   "execution_count": 68,
   "metadata": {
    "collapsed": false
   },
   "outputs": [
    {
     "name": "stdout",
     "output_type": "stream",
     "text": [
      "46 0.138065664791\n",
      "47 0.138031650951\n",
      "48 0.138082828446\n",
      "49 0.138177399243\n",
      "50 0.136068617496\n",
      "51 0.135576150979\n",
      "52 0.135995450342\n",
      "53 0.135302107387\n",
      "54 0.135611530649\n"
     ]
    }
   ],
   "source": [
    "# for i in range(10,91,10):\n",
    "for i in range(46,55,1):\n",
    "    topi_score = cross_val_score(\n",
    "        estimator = KNeighborsRegressor(\n",
    "            n_jobs = 4,\n",
    "            n_neighbors = 7,\n",
    "            weights = 'distance'        \n",
    "        ),\n",
    "        X = pd.DataFrame(X_train[lassoFeatsRescale.tail(i).index].values * lassoFeatsWeight[lassoFeatsRescale.tail(i).index].values,columns = lassoFeatsRescale.tail(i).index),\n",
    "        y = y,\n",
    "        scoring='neg_mean_squared_error',\n",
    "        n_jobs=1,\n",
    "        cv = 5,\n",
    "    )\n",
    "    print i, np.sqrt(-topi_score).mean()\n"
   ]
  },
  {
   "cell_type": "markdown",
   "metadata": {},
   "source": [
    "Use top 53."
   ]
  },
  {
   "cell_type": "markdown",
   "metadata": {},
   "source": [
    "### RandomForest"
   ]
  },
  {
   "cell_type": "code",
   "execution_count": 36,
   "metadata": {
    "collapsed": true
   },
   "outputs": [],
   "source": [
    "from sklearn.ensemble import RandomForestRegressor"
   ]
  },
  {
   "cell_type": "code",
   "execution_count": 46,
   "metadata": {
    "collapsed": false
   },
   "outputs": [
    {
     "data": {
      "text/plain": [
       "([(0.14137380459878759, {'max_features': 10}),\n",
       "  (0.13832138422884069, {'max_features': 12}),\n",
       "  (0.13842689779356768, {'max_features': 14}),\n",
       "  (0.13928150367919903, {'max_features': 16}),\n",
       "  (0.13770080425727904, {'max_features': 18}),\n",
       "  (0.13753420972936692, {'max_features': 20}),\n",
       "  (0.13696519555973349, {'max_features': 22}),\n",
       "  (0.13860913620463827, {'max_features': 24}),\n",
       "  (0.13659258994088541, {'max_features': 26}),\n",
       "  (0.13833734416533519, {'max_features': 28})],\n",
       " {'max_features': 26},\n",
       " 0.13659258994088541)"
      ]
     },
     "execution_count": 46,
     "metadata": {},
     "output_type": "execute_result"
    }
   ],
   "source": [
    "# There were some trials before this. So please ignore the specific range here.\n",
    "rf_param_test = {\n",
    "#     \"max_features\"  : range(10,101,10)\n",
    "    \"max_features\"  : range(10,30,2)\n",
    "}\n",
    "rf_search = GridSearchCV(\n",
    "    estimator = RandomForestRegressor(\n",
    "        n_estimators = 50, \n",
    "        random_state = 50,\n",
    "        max_features = 20,\n",
    "        warm_start = True,\n",
    "        n_jobs = 4        \n",
    "    ),\n",
    "    param_grid = rf_param_test,\n",
    "    scoring = 'neg_mean_squared_error',\n",
    "    n_jobs = 1,\n",
    "    iid = False,\n",
    "    cv = 5\n",
    ")\n",
    "rf_search.fit(X_train[nonZeroLasso],y)\n",
    "(zip(np.sqrt(-rf_search.cv_results_['mean_test_score']),\n",
    "     rf_search.cv_results_['params']), \n",
    " rf_search.best_params_,np.sqrt(-rf_search.best_score_))"
   ]
  },
  {
   "cell_type": "code",
   "execution_count": 47,
   "metadata": {
    "collapsed": false
   },
   "outputs": [
    {
     "name": "stdout",
     "output_type": "stream",
     "text": [
      "0.135058692699\n"
     ]
    }
   ],
   "source": [
    "rf_score = cross_val_score(\n",
    "    estimator = RandomForestRegressor(\n",
    "        n_estimators = 500, \n",
    "        random_state = 100,\n",
    "        max_features = 20,\n",
    "        n_jobs = 4\n",
    "    ),\n",
    "    X = X_train[nonZeroLasso],\n",
    "    y = y,\n",
    "    scoring='neg_mean_squared_error',\n",
    "    n_jobs=1,\n",
    "    cv = 5\n",
    ")\n",
    "print np.sqrt(-rf_score).mean()"
   ]
  },
  {
   "cell_type": "markdown",
   "metadata": {},
   "source": [
    "### Xgboost"
   ]
  },
  {
   "cell_type": "code",
   "execution_count": 37,
   "metadata": {
    "collapsed": true
   },
   "outputs": [],
   "source": [
    "import xgboost as xgb\n",
    "from xgboost.sklearn import XGBRegressor"
   ]
  },
  {
   "cell_type": "code",
   "execution_count": 38,
   "metadata": {
    "collapsed": false
   },
   "outputs": [
    {
     "ename": "ValueError",
     "evalue": "DataFrame.dtypes for data must be int, float or bool.\nDid not expect the data types in fields HasMultiHalfBath, KNNPred, LassoPred, Morethan2Fireplace, Morethan3Cars, RFPred, XGBPred",
     "output_type": "error",
     "traceback": [
      "\u001b[0;31m---------------------------------------------------------------------------\u001b[0m",
      "\u001b[0;31mValueError\u001b[0m                                Traceback (most recent call last)",
      "\u001b[0;32m<ipython-input-38-2f86ec796960>\u001b[0m in \u001b[0;36m<module>\u001b[0;34m()\u001b[0m\n\u001b[0;32m----> 1\u001b[0;31m \u001b[0mdtrain\u001b[0m \u001b[0;34m=\u001b[0m \u001b[0mxgb\u001b[0m\u001b[0;34m.\u001b[0m\u001b[0mDMatrix\u001b[0m\u001b[0;34m(\u001b[0m\u001b[0mX_train\u001b[0m\u001b[0;34m,\u001b[0m \u001b[0mlabel\u001b[0m \u001b[0;34m=\u001b[0m \u001b[0my\u001b[0m\u001b[0;34m)\u001b[0m\u001b[0;34m\u001b[0m\u001b[0m\n\u001b[0m\u001b[1;32m      2\u001b[0m \u001b[0mdtest\u001b[0m \u001b[0;34m=\u001b[0m \u001b[0mxgb\u001b[0m\u001b[0;34m.\u001b[0m\u001b[0mDMatrix\u001b[0m\u001b[0;34m(\u001b[0m\u001b[0mX_test\u001b[0m\u001b[0;34m)\u001b[0m\u001b[0;34m\u001b[0m\u001b[0m\n",
      "\u001b[0;32m/Users/hao.jiang/anaconda/lib/python2.7/site-packages/xgboost-0.6-py2.7.egg/xgboost/core.pyc\u001b[0m in \u001b[0;36m__init__\u001b[0;34m(self, data, label, missing, weight, silent, feature_names, feature_types)\u001b[0m\n\u001b[1;32m    253\u001b[0m         data, feature_names, feature_types = _maybe_pandas_data(data,\n\u001b[1;32m    254\u001b[0m                                                                 \u001b[0mfeature_names\u001b[0m\u001b[0;34m,\u001b[0m\u001b[0;34m\u001b[0m\u001b[0m\n\u001b[0;32m--> 255\u001b[0;31m                                                                 feature_types)\n\u001b[0m\u001b[1;32m    256\u001b[0m         \u001b[0mlabel\u001b[0m \u001b[0;34m=\u001b[0m \u001b[0m_maybe_pandas_label\u001b[0m\u001b[0;34m(\u001b[0m\u001b[0mlabel\u001b[0m\u001b[0;34m)\u001b[0m\u001b[0;34m\u001b[0m\u001b[0m\n\u001b[1;32m    257\u001b[0m \u001b[0;34m\u001b[0m\u001b[0m\n",
      "\u001b[0;32m/Users/hao.jiang/anaconda/lib/python2.7/site-packages/xgboost-0.6-py2.7.egg/xgboost/core.pyc\u001b[0m in \u001b[0;36m_maybe_pandas_data\u001b[0;34m(data, feature_names, feature_types)\u001b[0m\n\u001b[1;32m    179\u001b[0m         msg = \"\"\"DataFrame.dtypes for data must be int, float or bool.\n\u001b[1;32m    180\u001b[0m Did not expect the data types in fields \"\"\"\n\u001b[0;32m--> 181\u001b[0;31m         \u001b[0;32mraise\u001b[0m \u001b[0mValueError\u001b[0m\u001b[0;34m(\u001b[0m\u001b[0mmsg\u001b[0m \u001b[0;34m+\u001b[0m \u001b[0;34m', '\u001b[0m\u001b[0;34m.\u001b[0m\u001b[0mjoin\u001b[0m\u001b[0;34m(\u001b[0m\u001b[0mbad_fields\u001b[0m\u001b[0;34m)\u001b[0m\u001b[0;34m)\u001b[0m\u001b[0;34m\u001b[0m\u001b[0m\n\u001b[0m\u001b[1;32m    182\u001b[0m \u001b[0;34m\u001b[0m\u001b[0m\n\u001b[1;32m    183\u001b[0m     \u001b[0;32mif\u001b[0m \u001b[0mfeature_names\u001b[0m \u001b[0;32mis\u001b[0m \u001b[0mNone\u001b[0m\u001b[0;34m:\u001b[0m\u001b[0;34m\u001b[0m\u001b[0m\n",
      "\u001b[0;31mValueError\u001b[0m: DataFrame.dtypes for data must be int, float or bool.\nDid not expect the data types in fields HasMultiHalfBath, KNNPred, LassoPred, Morethan2Fireplace, Morethan3Cars, RFPred, XGBPred"
     ]
    }
   ],
   "source": [
    "dtrain = xgb.DMatrix(X_train, label = y)\n",
    "dtest = xgb.DMatrix(X_test)"
   ]
  },
  {
   "cell_type": "code",
   "execution_count": 58,
   "metadata": {
    "collapsed": false
   },
   "outputs": [
    {
     "data": {
      "text/plain": [
       "([(0.1200493418214074, {'reg_alpha': 0.0050000000000000001}),\n",
       "  (0.12000643957779271, {'reg_alpha': 0.0074999999999999997}),\n",
       "  (0.12049858977267638, {'reg_alpha': 0.0099999999999999985}),\n",
       "  (0.11970979284371609, {'reg_alpha': 0.012499999999999999}),\n",
       "  (0.12028586657682794, {'reg_alpha': 0.014999999999999999}),\n",
       "  (0.12165338276519184, {'reg_alpha': 0.017499999999999998}),\n",
       "  (0.12110432468602933, {'reg_alpha': 0.019999999999999997}),\n",
       "  (0.12215944032733815, {'reg_alpha': 0.022499999999999999}),\n",
       "  (0.12211601995173445, {'reg_alpha': 0.024999999999999998}),\n",
       "  (0.12227959062732006, {'reg_alpha': 0.027499999999999997})],\n",
       " {'reg_alpha': 0.012499999999999999},\n",
       " 0.11970979284371609)"
      ]
     },
     "execution_count": 58,
     "metadata": {},
     "output_type": "execute_result"
    }
   ],
   "source": [
    "# All tuning would be done within this cell\n",
    "xgb_param_test = {\n",
    "#     'max_depth':range(3,6,1),\n",
    "#     'min_child_weight':range(1,5,1)\n",
    "#     'gamma' : [0.0005, 0.001, 0.005, 0.01, 0.05, 0.1]\n",
    "#     'gamma' : np.arange(0.007, 0.02, 0.0005)\n",
    "#     'subsample': np.arange(0.4, 0.6, 0.03),\n",
    "#     'colsample_bytree': np.arange(0.2, 0.4, 0.03)\n",
    "#     'reg_alpha' : [1e-6,5e-6,1e-5,5e-5,1e-4,5e-4,1e-3,5e-3,1e-2]\n",
    "    'reg_alpha' : np.arange(0.005,0.03,0.0025) # 8.2e-6\n",
    "#     'reg_lambda' : np.arange(0.7,1.1,0.03)\n",
    "}\n",
    "xgb_search = GridSearchCV(\n",
    "    estimator = XGBRegressor(\n",
    "        learning_rate =0.1,\n",
    "        n_estimators=140,\n",
    "        max_depth=4,\n",
    "        min_child_weight=2,\n",
    "        gamma=0.009,\n",
    "        subsample=0.58,\n",
    "        colsample_bytree=0.38,\n",
    "        objective= 'reg:linear',\n",
    "        nthread=4,\n",
    "        reg_alpha = 0.0125,\n",
    "        seed=100\n",
    "    ),\n",
    "    param_grid = xgb_param_test,\n",
    "    scoring = 'neg_mean_squared_error',\n",
    "    n_jobs = 1,\n",
    "    iid = False,\n",
    "    cv = 5\n",
    ")\n",
    "xgb_search.fit(X_train[nonZeroLasso], y)\n",
    "(zip(np.sqrt(-xgb_search.cv_results_['mean_test_score']),xgb_search.cv_results_['params']),\n",
    " xgb_search.best_params_,np.sqrt(- xgb_search.best_score_))"
   ]
  },
  {
   "cell_type": "code",
   "execution_count": 62,
   "metadata": {
    "collapsed": false
   },
   "outputs": [
    {
     "name": "stdout",
     "output_type": "stream",
     "text": [
      "0.114052444224\n"
     ]
    }
   ],
   "source": [
    "xgb_score = cross_val_score(\n",
    "    estimator = XGBRegressor(\n",
    "        learning_rate =0.01,\n",
    "        n_estimators=5000,\n",
    "        max_depth=4,\n",
    "        min_child_weight=2,\n",
    "        gamma=0.009,\n",
    "        subsample=0.58,\n",
    "        colsample_bytree=0.38,\n",
    "        objective= 'reg:linear',\n",
    "        nthread=4,\n",
    "        reg_alpha = 0.0125,\n",
    "        seed=100\n",
    "    ),\n",
    "    X = X_train[nonZeroLasso],\n",
    "    y = y,\n",
    "    scoring='neg_mean_squared_error',\n",
    "    n_jobs=1,\n",
    "    cv = 10\n",
    ")\n",
    "print np.sqrt(-xgb_score).mean()"
   ]
  },
  {
   "cell_type": "markdown",
   "metadata": {},
   "source": [
    "### Model stacking"
   ]
  },
  {
   "cell_type": "code",
   "execution_count": 39,
   "metadata": {
    "collapsed": true
   },
   "outputs": [],
   "source": [
    "from sklearn.model_selection import KFold"
   ]
  },
  {
   "cell_type": "code",
   "execution_count": 40,
   "metadata": {
    "collapsed": true
   },
   "outputs": [],
   "source": [
    "# Add fields into all_data in advance\n",
    "X_train = pd.concat((X_train, pd.DataFrame(columns = ['LassoPred', 'XGBPred', 'KNNPred', 'RFPred'])))"
   ]
  },
  {
   "cell_type": "code",
   "execution_count": 41,
   "metadata": {
    "collapsed": false
   },
   "outputs": [],
   "source": [
    "# model_lasso \n",
    "\n",
    "model_knn = KNeighborsRegressor(  # use ridge top 64 weighted features\n",
    "    n_jobs = 4,\n",
    "    n_neighbors = 7,\n",
    "    weights = 'distance'\n",
    ")\n",
    "model_rf = RandomForestRegressor( #use lasso_coef none zero features\n",
    "    n_estimators = 500, \n",
    "    random_state = 100,\n",
    "    max_features = 20,\n",
    "    n_jobs = 4\n",
    ")\n",
    "model_xgb = XGBRegressor( # use all features\n",
    "    learning_rate =0.01,\n",
    "    n_estimators=5000,\n",
    "    max_depth=4,\n",
    "    min_child_weight=2,\n",
    "    gamma=0.009,\n",
    "    subsample=0.58,\n",
    "    colsample_bytree=0.38,\n",
    "    objective= 'reg:linear',\n",
    "    nthread=4,\n",
    "    reg_alpha = 0.0125,\n",
    "    seed=100\n",
    ")"
   ]
  },
  {
   "cell_type": "code",
   "execution_count": 42,
   "metadata": {
    "collapsed": false
   },
   "outputs": [],
   "source": [
    "kf = KFold(n_splits = 5)\n",
    "knnIndex = lassoFeatsRescale.tail(53).index;\n",
    "for train_index, test_index in kf.split(X_train):\n",
    "    model_lasso.fit(X_train.loc[train_index,nonZeroLasso], y.loc[train_index])\n",
    "    model_knn.fit(pd.DataFrame(X_train[knnIndex].values * lassoFeatsWeight[knnIndex].values,columns = knnIndex).loc[train_index,:], y.loc[train_index])\n",
    "    model_rf.fit(X_train.loc[train_index,nonZeroLasso], y.loc[train_index])\n",
    "    model_xgb.fit(X_train.loc[train_index,nonZeroLasso], y.loc[train_index])\n",
    "    X_train.loc[test_index,'LassoPred'] = model_lasso.predict(X_train.loc[test_index,nonZeroLasso])\n",
    "    X_train.loc[test_index,'XGBPred']   = model_knn.predict(pd.DataFrame(X_train[knnIndex].values * lassoFeatsWeight[knnIndex].values,columns = knnIndex).loc[test_index,:])\n",
    "    X_train.loc[test_index,'KNNPred']   = model_rf.predict(X_train.loc[test_index,nonZeroLasso])\n",
    "    X_train.loc[test_index,'RFPred']    = model_xgb.predict(X_train.loc[test_index,nonZeroLasso])"
   ]
  },
  {
   "cell_type": "code",
   "execution_count": 46,
   "metadata": {
    "collapsed": false
   },
   "outputs": [
    {
     "data": {
      "text/html": [
       "<div>\n",
       "<table border=\"1\" class=\"dataframe\">\n",
       "  <thead>\n",
       "    <tr style=\"text-align: right;\">\n",
       "      <th></th>\n",
       "      <th>LassoPred</th>\n",
       "      <th>XGBPred</th>\n",
       "      <th>KNNPred</th>\n",
       "      <th>RFPred</th>\n",
       "    </tr>\n",
       "  </thead>\n",
       "  <tbody>\n",
       "    <tr>\n",
       "      <th>0</th>\n",
       "      <td>12.2489</td>\n",
       "      <td>12.2693</td>\n",
       "      <td>12.2458</td>\n",
       "      <td>12.2333</td>\n",
       "    </tr>\n",
       "    <tr>\n",
       "      <th>1</th>\n",
       "      <td>12.1839</td>\n",
       "      <td>12.0595</td>\n",
       "      <td>12.0396</td>\n",
       "      <td>12.0675</td>\n",
       "    </tr>\n",
       "    <tr>\n",
       "      <th>2</th>\n",
       "      <td>12.2912</td>\n",
       "      <td>12.266</td>\n",
       "      <td>12.2666</td>\n",
       "      <td>12.2517</td>\n",
       "    </tr>\n",
       "    <tr>\n",
       "      <th>3</th>\n",
       "      <td>12.1032</td>\n",
       "      <td>12.1834</td>\n",
       "      <td>12.0576</td>\n",
       "      <td>12.1157</td>\n",
       "    </tr>\n",
       "    <tr>\n",
       "      <th>4</th>\n",
       "      <td>12.6375</td>\n",
       "      <td>12.6161</td>\n",
       "      <td>12.5286</td>\n",
       "      <td>12.5446</td>\n",
       "    </tr>\n",
       "  </tbody>\n",
       "</table>\n",
       "</div>"
      ],
      "text/plain": [
       "  LassoPred  XGBPred  KNNPred   RFPred\n",
       "0   12.2489  12.2693  12.2458  12.2333\n",
       "1   12.1839  12.0595  12.0396  12.0675\n",
       "2   12.2912   12.266  12.2666  12.2517\n",
       "3   12.1032  12.1834  12.0576  12.1157\n",
       "4   12.6375  12.6161  12.5286  12.5446"
      ]
     },
     "execution_count": 46,
     "metadata": {},
     "output_type": "execute_result"
    }
   ],
   "source": [
    "X_train[['LassoPred', 'XGBPred', 'KNNPred', 'RFPred']].head()"
   ]
  },
  {
   "cell_type": "code",
   "execution_count": 48,
   "metadata": {
    "collapsed": false
   },
   "outputs": [
    {
     "name": "stderr",
     "output_type": "stream",
     "text": [
      "/Users/hao.jiang/anaconda/lib/python2.7/site-packages/pandas/core/indexing.py:297: SettingWithCopyWarning: \n",
      "A value is trying to be set on a copy of a slice from a DataFrame.\n",
      "Try using .loc[row_indexer,col_indexer] = value instead\n",
      "\n",
      "See the caveats in the documentation: http://pandas.pydata.org/pandas-docs/stable/indexing.html#indexing-view-versus-copy\n",
      "  self.obj[key] = _infer_fill_value(value)\n",
      "/Users/hao.jiang/anaconda/lib/python2.7/site-packages/pandas/core/indexing.py:477: SettingWithCopyWarning: \n",
      "A value is trying to be set on a copy of a slice from a DataFrame.\n",
      "Try using .loc[row_indexer,col_indexer] = value instead\n",
      "\n",
      "See the caveats in the documentation: http://pandas.pydata.org/pandas-docs/stable/indexing.html#indexing-view-versus-copy\n",
      "  self.obj[item] = s\n"
     ]
    }
   ],
   "source": [
    "model_lasso.fit(X_train[nonZeroLasso], y)\n",
    "model_knn.fit(pd.DataFrame(X_train[knnIndex].values * lassoFeatsWeight[knnIndex].values,columns = knnIndex), y)\n",
    "model_rf.fit(X_train[nonZeroLasso], y)\n",
    "model_xgb.fit(X_train[nonZeroLasso], y)\n",
    "X_test.loc[:,'LassoPred'] = model_lasso.predict(X_test[nonZeroLasso])\n",
    "X_test.loc[:,'XGBPred']   = model_knn.predict(pd.DataFrame(X_test[knnIndex].values * lassoFeatsWeight[knnIndex].values,columns = knnIndex))\n",
    "X_test.loc[:,'KNNPred']   = model_rf.predict(X_test[nonZeroLasso])\n",
    "X_test.loc[:,'RFPred']    = model_xgb.predict(X_test[nonZeroLasso])"
   ]
  },
  {
   "cell_type": "code",
   "execution_count": 50,
   "metadata": {
    "collapsed": false
   },
   "outputs": [
    {
     "data": {
      "text/html": [
       "<div>\n",
       "<table border=\"1\" class=\"dataframe\">\n",
       "  <thead>\n",
       "    <tr style=\"text-align: right;\">\n",
       "      <th></th>\n",
       "      <th>LassoPred</th>\n",
       "      <th>XGBPred</th>\n",
       "      <th>KNNPred</th>\n",
       "      <th>RFPred</th>\n",
       "    </tr>\n",
       "  </thead>\n",
       "  <tbody>\n",
       "    <tr>\n",
       "      <th>0</th>\n",
       "      <td>11.645086</td>\n",
       "      <td>11.754070</td>\n",
       "      <td>11.729903</td>\n",
       "      <td>11.738897</td>\n",
       "    </tr>\n",
       "    <tr>\n",
       "      <th>1</th>\n",
       "      <td>11.943406</td>\n",
       "      <td>11.961389</td>\n",
       "      <td>11.946146</td>\n",
       "      <td>11.989332</td>\n",
       "    </tr>\n",
       "    <tr>\n",
       "      <th>2</th>\n",
       "      <td>12.099694</td>\n",
       "      <td>12.190695</td>\n",
       "      <td>12.102585</td>\n",
       "      <td>12.155525</td>\n",
       "    </tr>\n",
       "    <tr>\n",
       "      <th>3</th>\n",
       "      <td>12.189622</td>\n",
       "      <td>12.163529</td>\n",
       "      <td>12.118412</td>\n",
       "      <td>12.173773</td>\n",
       "    </tr>\n",
       "    <tr>\n",
       "      <th>4</th>\n",
       "      <td>12.220394</td>\n",
       "      <td>12.178928</td>\n",
       "      <td>12.175428</td>\n",
       "      <td>12.118225</td>\n",
       "    </tr>\n",
       "  </tbody>\n",
       "</table>\n",
       "</div>"
      ],
      "text/plain": [
       "   LassoPred    XGBPred    KNNPred     RFPred\n",
       "0  11.645086  11.754070  11.729903  11.738897\n",
       "1  11.943406  11.961389  11.946146  11.989332\n",
       "2  12.099694  12.190695  12.102585  12.155525\n",
       "3  12.189622  12.163529  12.118412  12.173773\n",
       "4  12.220394  12.178928  12.175428  12.118225"
      ]
     },
     "execution_count": 50,
     "metadata": {},
     "output_type": "execute_result"
    }
   ],
   "source": [
    "X_test[['LassoPred', 'XGBPred', 'KNNPred', 'RFPred']].head()"
   ]
  },
  {
   "cell_type": "code",
   "execution_count": 59,
   "metadata": {
    "collapsed": false
   },
   "outputs": [],
   "source": [
    "temp_train = pd.concat((X_train, pd.DataFrame({'Id' : train.Id, 'SalePrice' : y})),axis=1, join='inner')\n",
    "temp_test = pd.concat((X_test, pd.DataFrame({'Id' : test.Id})),axis=1, join='inner')"
   ]
  },
  {
   "cell_type": "code",
   "execution_count": 62,
   "metadata": {
    "collapsed": false
   },
   "outputs": [
    {
     "data": {
      "text/html": [
       "<div>\n",
       "<table border=\"1\" class=\"dataframe\">\n",
       "  <thead>\n",
       "    <tr style=\"text-align: right;\">\n",
       "      <th></th>\n",
       "      <th>1stFlrSF</th>\n",
       "      <th>2ndFlrSF</th>\n",
       "      <th>3SsnPorch</th>\n",
       "      <th>Alley_Grvl</th>\n",
       "      <th>Alley_Pave</th>\n",
       "      <th>AvgOverAllCond</th>\n",
       "      <th>BedroomAbvGr</th>\n",
       "      <th>BldgType_1Fam</th>\n",
       "      <th>BldgType_2fmCon</th>\n",
       "      <th>BldgType_Duplex</th>\n",
       "      <th>...</th>\n",
       "      <th>TotalPorchSF</th>\n",
       "      <th>TypExterCond</th>\n",
       "      <th>Utilities</th>\n",
       "      <th>WoodDeckSF</th>\n",
       "      <th>XGBPred</th>\n",
       "      <th>YearBuilt</th>\n",
       "      <th>YearRemodAdd</th>\n",
       "      <th>YrSold</th>\n",
       "      <th>Id</th>\n",
       "      <th>SalePrice</th>\n",
       "    </tr>\n",
       "  </thead>\n",
       "  <tbody>\n",
       "    <tr>\n",
       "      <th>1455</th>\n",
       "      <td>6.860664</td>\n",
       "      <td>6.543912</td>\n",
       "      <td>0.0</td>\n",
       "      <td>0.0</td>\n",
       "      <td>0.0</td>\n",
       "      <td>1.0</td>\n",
       "      <td>3.0</td>\n",
       "      <td>1.0</td>\n",
       "      <td>0.0</td>\n",
       "      <td>0.0</td>\n",
       "      <td>...</td>\n",
       "      <td>3.713572</td>\n",
       "      <td>1.0</td>\n",
       "      <td>4.0</td>\n",
       "      <td>0.000000</td>\n",
       "      <td>12.0695</td>\n",
       "      <td>1999.0</td>\n",
       "      <td>2000.0</td>\n",
       "      <td>2007.0</td>\n",
       "      <td>1456</td>\n",
       "      <td>12.072547</td>\n",
       "    </tr>\n",
       "    <tr>\n",
       "      <th>1456</th>\n",
       "      <td>7.637234</td>\n",
       "      <td>0.000000</td>\n",
       "      <td>0.0</td>\n",
       "      <td>0.0</td>\n",
       "      <td>0.0</td>\n",
       "      <td>0.0</td>\n",
       "      <td>3.0</td>\n",
       "      <td>1.0</td>\n",
       "      <td>0.0</td>\n",
       "      <td>0.0</td>\n",
       "      <td>...</td>\n",
       "      <td>0.000000</td>\n",
       "      <td>1.0</td>\n",
       "      <td>4.0</td>\n",
       "      <td>5.857933</td>\n",
       "      <td>12.2143</td>\n",
       "      <td>1978.0</td>\n",
       "      <td>1988.0</td>\n",
       "      <td>2010.0</td>\n",
       "      <td>1457</td>\n",
       "      <td>12.254868</td>\n",
       "    </tr>\n",
       "    <tr>\n",
       "      <th>1457</th>\n",
       "      <td>7.080868</td>\n",
       "      <td>7.050123</td>\n",
       "      <td>0.0</td>\n",
       "      <td>0.0</td>\n",
       "      <td>0.0</td>\n",
       "      <td>0.0</td>\n",
       "      <td>4.0</td>\n",
       "      <td>1.0</td>\n",
       "      <td>0.0</td>\n",
       "      <td>0.0</td>\n",
       "      <td>...</td>\n",
       "      <td>4.110874</td>\n",
       "      <td>0.0</td>\n",
       "      <td>4.0</td>\n",
       "      <td>0.000000</td>\n",
       "      <td>12.4967</td>\n",
       "      <td>1941.0</td>\n",
       "      <td>2006.0</td>\n",
       "      <td>2010.0</td>\n",
       "      <td>1458</td>\n",
       "      <td>12.493133</td>\n",
       "    </tr>\n",
       "    <tr>\n",
       "      <th>1458</th>\n",
       "      <td>6.983790</td>\n",
       "      <td>0.000000</td>\n",
       "      <td>0.0</td>\n",
       "      <td>0.0</td>\n",
       "      <td>0.0</td>\n",
       "      <td>0.0</td>\n",
       "      <td>2.0</td>\n",
       "      <td>1.0</td>\n",
       "      <td>0.0</td>\n",
       "      <td>0.0</td>\n",
       "      <td>...</td>\n",
       "      <td>4.727388</td>\n",
       "      <td>1.0</td>\n",
       "      <td>4.0</td>\n",
       "      <td>5.905362</td>\n",
       "      <td>11.8221</td>\n",
       "      <td>1950.0</td>\n",
       "      <td>1996.0</td>\n",
       "      <td>2010.0</td>\n",
       "      <td>1459</td>\n",
       "      <td>11.864469</td>\n",
       "    </tr>\n",
       "    <tr>\n",
       "      <th>1459</th>\n",
       "      <td>7.136483</td>\n",
       "      <td>0.000000</td>\n",
       "      <td>0.0</td>\n",
       "      <td>0.0</td>\n",
       "      <td>0.0</td>\n",
       "      <td>0.0</td>\n",
       "      <td>3.0</td>\n",
       "      <td>1.0</td>\n",
       "      <td>0.0</td>\n",
       "      <td>0.0</td>\n",
       "      <td>...</td>\n",
       "      <td>4.234107</td>\n",
       "      <td>1.0</td>\n",
       "      <td>4.0</td>\n",
       "      <td>6.602588</td>\n",
       "      <td>11.8377</td>\n",
       "      <td>1965.0</td>\n",
       "      <td>1965.0</td>\n",
       "      <td>2008.0</td>\n",
       "      <td>1460</td>\n",
       "      <td>11.901590</td>\n",
       "    </tr>\n",
       "  </tbody>\n",
       "</table>\n",
       "<p>5 rows × 274 columns</p>\n",
       "</div>"
      ],
      "text/plain": [
       "      1stFlrSF  2ndFlrSF  3SsnPorch  Alley_Grvl  Alley_Pave  AvgOverAllCond  \\\n",
       "1455  6.860664  6.543912        0.0         0.0         0.0             1.0   \n",
       "1456  7.637234  0.000000        0.0         0.0         0.0             0.0   \n",
       "1457  7.080868  7.050123        0.0         0.0         0.0             0.0   \n",
       "1458  6.983790  0.000000        0.0         0.0         0.0             0.0   \n",
       "1459  7.136483  0.000000        0.0         0.0         0.0             0.0   \n",
       "\n",
       "      BedroomAbvGr  BldgType_1Fam  BldgType_2fmCon  BldgType_Duplex  \\\n",
       "1455           3.0            1.0              0.0              0.0   \n",
       "1456           3.0            1.0              0.0              0.0   \n",
       "1457           4.0            1.0              0.0              0.0   \n",
       "1458           2.0            1.0              0.0              0.0   \n",
       "1459           3.0            1.0              0.0              0.0   \n",
       "\n",
       "        ...      TotalPorchSF  TypExterCond  Utilities  WoodDeckSF  XGBPred  \\\n",
       "1455    ...          3.713572           1.0        4.0    0.000000  12.0695   \n",
       "1456    ...          0.000000           1.0        4.0    5.857933  12.2143   \n",
       "1457    ...          4.110874           0.0        4.0    0.000000  12.4967   \n",
       "1458    ...          4.727388           1.0        4.0    5.905362  11.8221   \n",
       "1459    ...          4.234107           1.0        4.0    6.602588  11.8377   \n",
       "\n",
       "      YearBuilt  YearRemodAdd  YrSold    Id  SalePrice  \n",
       "1455     1999.0        2000.0  2007.0  1456  12.072547  \n",
       "1456     1978.0        1988.0  2010.0  1457  12.254868  \n",
       "1457     1941.0        2006.0  2010.0  1458  12.493133  \n",
       "1458     1950.0        1996.0  2010.0  1459  11.864469  \n",
       "1459     1965.0        1965.0  2008.0  1460  11.901590  \n",
       "\n",
       "[5 rows x 274 columns]"
      ]
     },
     "execution_count": 62,
     "metadata": {},
     "output_type": "execute_result"
    }
   ],
   "source": [
    "temp_train.tail()"
   ]
  },
  {
   "cell_type": "code",
   "execution_count": 63,
   "metadata": {
    "collapsed": true
   },
   "outputs": [],
   "source": [
    "temp_train.to_csv(\"temp_train.csv\", index = False)\n",
    "temp_test.to_csv(\"temp_test.csv\", index = False)"
   ]
  },
  {
   "cell_type": "code",
   "execution_count": 64,
   "metadata": {
    "collapsed": false
   },
   "outputs": [
    {
     "data": {
      "text/plain": [
       "<matplotlib.axes._subplots.AxesSubplot at 0x11324b6d0>"
      ]
     },
     "execution_count": 64,
     "metadata": {},
     "output_type": "execute_result"
    },
    {
     "data": {
      "image/png": "[encoded data removed]",
      "text/plain": [
       "<matplotlib.figure.Figure at 0x11c900890>"
      ]
     },
     "metadata": {
      "image/png": {
       "height": 588,
       "width": 574
      }
     },
     "output_type": "display_data"
    }
   ],
   "source": [
    "matplotlib.rcParams['figure.figsize'] = (8.0, 10.0)\n",
    "lassoFeatsRescale.tail(50).sort_values().plot(kind = \"barh\")"
   ]
  },
  {
   "cell_type": "markdown",
   "metadata": {},
   "source": [
    "### Predict"
   ]
  },
  {
   "cell_type": "code",
   "execution_count": 85,
   "metadata": {
    "collapsed": false
   },
   "outputs": [],
   "source": [
    "newTrain = X_train[nonZeroLasso]\n",
    "predType = X_train[['LassoPred', 'XGBPred', 'KNNPred', 'RFPred']].subtract(y, axis = 0).idxmin(axis = 1)"
   ]
  },
  {
   "cell_type": "code",
   "execution_count": 86,
   "metadata": {
    "collapsed": false
   },
   "outputs": [
    {
     "data": {
      "text/html": [
       "<div>\n",
       "<table border=\"1\" class=\"dataframe\">\n",
       "  <thead>\n",
       "    <tr style=\"text-align: right;\">\n",
       "      <th></th>\n",
       "      <th>LotFrontage</th>\n",
       "      <th>LotArea</th>\n",
       "      <th>LotShape</th>\n",
       "      <th>LandContour</th>\n",
       "      <th>OverallQual</th>\n",
       "      <th>OverallCond</th>\n",
       "      <th>YearBuilt</th>\n",
       "      <th>YearRemodAdd</th>\n",
       "      <th>MasVnrArea</th>\n",
       "      <th>ExterQual</th>\n",
       "      <th>...</th>\n",
       "      <th>Heating_GasW</th>\n",
       "      <th>Electrical_SBrkr</th>\n",
       "      <th>GarageType_Detchd</th>\n",
       "      <th>PavedDrive_Y</th>\n",
       "      <th>SaleType_COD</th>\n",
       "      <th>SaleType_New</th>\n",
       "      <th>SaleType_WD</th>\n",
       "      <th>SaleCondition_Abnorml</th>\n",
       "      <th>SaleCondition_Family</th>\n",
       "      <th>SaleCondition_Normal</th>\n",
       "    </tr>\n",
       "  </thead>\n",
       "  <tbody>\n",
       "    <tr>\n",
       "      <th>0</th>\n",
       "      <td>65.0</td>\n",
       "      <td>9.042040</td>\n",
       "      <td>4.0</td>\n",
       "      <td>4.0</td>\n",
       "      <td>7.0</td>\n",
       "      <td>5.0</td>\n",
       "      <td>2003.0</td>\n",
       "      <td>2003.0</td>\n",
       "      <td>5.283204</td>\n",
       "      <td>4.0</td>\n",
       "      <td>...</td>\n",
       "      <td>0.0</td>\n",
       "      <td>1.0</td>\n",
       "      <td>0.0</td>\n",
       "      <td>1.0</td>\n",
       "      <td>0.0</td>\n",
       "      <td>0.0</td>\n",
       "      <td>1.0</td>\n",
       "      <td>0.0</td>\n",
       "      <td>0.0</td>\n",
       "      <td>1.0</td>\n",
       "    </tr>\n",
       "    <tr>\n",
       "      <th>1</th>\n",
       "      <td>80.0</td>\n",
       "      <td>9.169623</td>\n",
       "      <td>4.0</td>\n",
       "      <td>4.0</td>\n",
       "      <td>6.0</td>\n",
       "      <td>8.0</td>\n",
       "      <td>1976.0</td>\n",
       "      <td>1976.0</td>\n",
       "      <td>0.000000</td>\n",
       "      <td>3.0</td>\n",
       "      <td>...</td>\n",
       "      <td>0.0</td>\n",
       "      <td>1.0</td>\n",
       "      <td>0.0</td>\n",
       "      <td>1.0</td>\n",
       "      <td>0.0</td>\n",
       "      <td>0.0</td>\n",
       "      <td>1.0</td>\n",
       "      <td>0.0</td>\n",
       "      <td>0.0</td>\n",
       "      <td>1.0</td>\n",
       "    </tr>\n",
       "    <tr>\n",
       "      <th>2</th>\n",
       "      <td>68.0</td>\n",
       "      <td>9.328212</td>\n",
       "      <td>3.0</td>\n",
       "      <td>4.0</td>\n",
       "      <td>7.0</td>\n",
       "      <td>5.0</td>\n",
       "      <td>2001.0</td>\n",
       "      <td>2002.0</td>\n",
       "      <td>5.093750</td>\n",
       "      <td>4.0</td>\n",
       "      <td>...</td>\n",
       "      <td>0.0</td>\n",
       "      <td>1.0</td>\n",
       "      <td>0.0</td>\n",
       "      <td>1.0</td>\n",
       "      <td>0.0</td>\n",
       "      <td>0.0</td>\n",
       "      <td>1.0</td>\n",
       "      <td>0.0</td>\n",
       "      <td>0.0</td>\n",
       "      <td>1.0</td>\n",
       "    </tr>\n",
       "    <tr>\n",
       "      <th>3</th>\n",
       "      <td>60.0</td>\n",
       "      <td>9.164401</td>\n",
       "      <td>3.0</td>\n",
       "      <td>4.0</td>\n",
       "      <td>7.0</td>\n",
       "      <td>5.0</td>\n",
       "      <td>1915.0</td>\n",
       "      <td>1970.0</td>\n",
       "      <td>0.000000</td>\n",
       "      <td>3.0</td>\n",
       "      <td>...</td>\n",
       "      <td>0.0</td>\n",
       "      <td>1.0</td>\n",
       "      <td>1.0</td>\n",
       "      <td>1.0</td>\n",
       "      <td>0.0</td>\n",
       "      <td>0.0</td>\n",
       "      <td>1.0</td>\n",
       "      <td>1.0</td>\n",
       "      <td>0.0</td>\n",
       "      <td>0.0</td>\n",
       "    </tr>\n",
       "    <tr>\n",
       "      <th>4</th>\n",
       "      <td>84.0</td>\n",
       "      <td>9.565284</td>\n",
       "      <td>3.0</td>\n",
       "      <td>4.0</td>\n",
       "      <td>8.0</td>\n",
       "      <td>5.0</td>\n",
       "      <td>2000.0</td>\n",
       "      <td>2000.0</td>\n",
       "      <td>5.860786</td>\n",
       "      <td>4.0</td>\n",
       "      <td>...</td>\n",
       "      <td>0.0</td>\n",
       "      <td>1.0</td>\n",
       "      <td>0.0</td>\n",
       "      <td>1.0</td>\n",
       "      <td>0.0</td>\n",
       "      <td>0.0</td>\n",
       "      <td>1.0</td>\n",
       "      <td>0.0</td>\n",
       "      <td>0.0</td>\n",
       "      <td>1.0</td>\n",
       "    </tr>\n",
       "  </tbody>\n",
       "</table>\n",
       "<p>5 rows × 100 columns</p>\n",
       "</div>"
      ],
      "text/plain": [
       "   LotFrontage   LotArea  LotShape  LandContour  OverallQual  OverallCond  \\\n",
       "0         65.0  9.042040       4.0          4.0          7.0          5.0   \n",
       "1         80.0  9.169623       4.0          4.0          6.0          8.0   \n",
       "2         68.0  9.328212       3.0          4.0          7.0          5.0   \n",
       "3         60.0  9.164401       3.0          4.0          7.0          5.0   \n",
       "4         84.0  9.565284       3.0          4.0          8.0          5.0   \n",
       "\n",
       "   YearBuilt  YearRemodAdd  MasVnrArea  ExterQual          ...           \\\n",
       "0     2003.0        2003.0    5.283204        4.0          ...            \n",
       "1     1976.0        1976.0    0.000000        3.0          ...            \n",
       "2     2001.0        2002.0    5.093750        4.0          ...            \n",
       "3     1915.0        1970.0    0.000000        3.0          ...            \n",
       "4     2000.0        2000.0    5.860786        4.0          ...            \n",
       "\n",
       "   Heating_GasW  Electrical_SBrkr  GarageType_Detchd  PavedDrive_Y  \\\n",
       "0           0.0               1.0                0.0           1.0   \n",
       "1           0.0               1.0                0.0           1.0   \n",
       "2           0.0               1.0                0.0           1.0   \n",
       "3           0.0               1.0                1.0           1.0   \n",
       "4           0.0               1.0                0.0           1.0   \n",
       "\n",
       "   SaleType_COD  SaleType_New  SaleType_WD  SaleCondition_Abnorml  \\\n",
       "0           0.0           0.0          1.0                    0.0   \n",
       "1           0.0           0.0          1.0                    0.0   \n",
       "2           0.0           0.0          1.0                    0.0   \n",
       "3           0.0           0.0          1.0                    1.0   \n",
       "4           0.0           0.0          1.0                    0.0   \n",
       "\n",
       "   SaleCondition_Family  SaleCondition_Normal  \n",
       "0                   0.0                   1.0  \n",
       "1                   0.0                   1.0  \n",
       "2                   0.0                   1.0  \n",
       "3                   0.0                   0.0  \n",
       "4                   0.0                   1.0  \n",
       "\n",
       "[5 rows x 100 columns]"
      ]
     },
     "execution_count": 86,
     "metadata": {},
     "output_type": "execute_result"
    }
   ],
   "source": [
    "newTrain.head()"
   ]
  },
  {
   "cell_type": "code",
   "execution_count": 80,
   "metadata": {
    "collapsed": true
   },
   "outputs": [],
   "source": [
    "from sklearn.linear_model import LogisticRegression"
   ]
  },
  {
   "cell_type": "code",
   "execution_count": 82,
   "metadata": {
    "collapsed": false
   },
   "outputs": [],
   "source": [
    "logit_model = LogisticRegression(n_jobs = 4)"
   ]
  },
  {
   "cell_type": "code",
   "execution_count": 87,
   "metadata": {
    "collapsed": false
   },
   "outputs": [
    {
     "data": {
      "text/plain": [
       "LogisticRegression(C=1.0, class_weight=None, dual=False, fit_intercept=True,\n",
       "          intercept_scaling=1, max_iter=100, multi_class='ovr', n_jobs=4,\n",
       "          penalty='l2', random_state=None, solver='liblinear', tol=0.0001,\n",
       "          verbose=0, warm_start=False)"
      ]
     },
     "execution_count": 87,
     "metadata": {},
     "output_type": "execute_result"
    }
   ],
   "source": [
    "logit_model.fit(newTrain, predType)"
   ]
  },
  {
   "cell_type": "code",
   "execution_count": 88,
   "metadata": {
    "collapsed": true
   },
   "outputs": [],
   "source": [
    "newTest = X_test[nonZeroLasso]"
   ]
  },
  {
   "cell_type": "code",
   "execution_count": 108,
   "metadata": {
    "collapsed": true
   },
   "outputs": [],
   "source": [
    "predTest = pd.Series(logit_model.predict(newTest),index = X_test.index)"
   ]
  },
  {
   "cell_type": "code",
   "execution_count": 118,
   "metadata": {
    "collapsed": false,
    "scrolled": true
   },
   "outputs": [
    {
     "data": {
      "text/html": [
       "<div>\n",
       "<table border=\"1\" class=\"dataframe\">\n",
       "  <thead>\n",
       "    <tr style=\"text-align: right;\">\n",
       "      <th></th>\n",
       "      <th>Id</th>\n",
       "      <th>SalePrice</th>\n",
       "    </tr>\n",
       "  </thead>\n",
       "  <tbody>\n",
       "    <tr>\n",
       "      <th>0</th>\n",
       "      <td>1461</td>\n",
       "      <td>114128.152514</td>\n",
       "    </tr>\n",
       "    <tr>\n",
       "      <th>1</th>\n",
       "      <td>1462</td>\n",
       "      <td>153798.663847</td>\n",
       "    </tr>\n",
       "    <tr>\n",
       "      <th>2</th>\n",
       "      <td>1463</td>\n",
       "      <td>196946.960670</td>\n",
       "    </tr>\n",
       "    <tr>\n",
       "      <th>3</th>\n",
       "      <td>1464</td>\n",
       "      <td>183213.365395</td>\n",
       "    </tr>\n",
       "    <tr>\n",
       "      <th>4</th>\n",
       "      <td>1465</td>\n",
       "      <td>183179.093750</td>\n",
       "    </tr>\n",
       "  </tbody>\n",
       "</table>\n",
       "</div>"
      ],
      "text/plain": [
       "     Id      SalePrice\n",
       "0  1461  114128.152514\n",
       "1  1462  153798.663847\n",
       "2  1463  196946.960670\n",
       "3  1464  183213.365395\n",
       "4  1465  183179.093750"
      ]
     },
     "execution_count": 118,
     "metadata": {},
     "output_type": "execute_result"
    }
   ],
   "source": [
    "predVal = pd.DataFrame({'Id' : test['Id'], 'SalePrice' : [np.expm1(X_test.iloc[x][predTest[x]]) for x in X_test.index]})\n",
    "predVal.head()"
   ]
  },
  {
   "cell_type": "code",
   "execution_count": 119,
   "metadata": {
    "collapsed": true
   },
   "outputs": [],
   "source": [
    "predVal.to_csv('result.csv', index = False)"
   ]
  },
  {
   "cell_type": "code",
   "execution_count": null,
   "metadata": {
    "collapsed": true
   },
   "outputs": [],
   "source": []
  }
 ],
 "metadata": {
  "anaconda-cloud": {},
  "kernelspec": {
   "display_name": "Python 2",
   "language": "python",
   "name": "python2"
  },
  "language_info": {
   "codemirror_mode": {
    "name": "ipython",
    "version": 2
   },
   "file_extension": ".py",
   "mimetype": "text/x-python",
   "name": "python",
   "nbconvert_exporter": "python",
   "pygments_lexer": "ipython2",
   "version": "2.7.11"
  }
 },
 "nbformat": 4,
 "nbformat_minor": 0
}
