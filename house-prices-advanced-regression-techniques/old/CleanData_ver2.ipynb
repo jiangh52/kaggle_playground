{
 "cells": [
  {
   "cell_type": "markdown",
   "metadata": {},
   "source": [
    "Author:  Hao Jiang\n",
    "## Goal for this notebook\n",
    "Based on version1 data cleaning. This notebook tries to;\n",
    " * Further explore the data\n",
    " * Try some feature engineering"
   ]
  },
  {
   "cell_type": "code",
   "execution_count": 1,
   "metadata": {
    "collapsed": true
   },
   "outputs": [],
   "source": [
    "import pandas as pd\n",
    "import numpy as np\n",
    "import seaborn as sns\n",
    "import matplotlib\n",
    "import matplotlib.pyplot as plt\n",
    "import sklearn\n",
    "\n",
    "from scipy.stats import skew\n",
    "from scipy.stats.stats import pearsonr\n",
    "\n",
    "%config InlineBackend.figure_format = 'retina' #set 'png' here when working on notebook\n",
    "%matplotlib inline"
   ]
  },
  {
   "cell_type": "code",
   "execution_count": 2,
   "metadata": {
    "collapsed": false
   },
   "outputs": [
    {
     "data": {
      "text/html": [
       "<div>\n",
       "<table border=\"1\" class=\"dataframe\">\n",
       "  <thead>\n",
       "    <tr style=\"text-align: right;\">\n",
       "      <th></th>\n",
       "      <th>Id</th>\n",
       "      <th>MSSubClass</th>\n",
       "      <th>MSZoning</th>\n",
       "      <th>LotFrontage</th>\n",
       "      <th>LotArea</th>\n",
       "      <th>Street</th>\n",
       "      <th>Alley</th>\n",
       "      <th>LotShape</th>\n",
       "      <th>LandContour</th>\n",
       "      <th>Utilities</th>\n",
       "      <th>...</th>\n",
       "      <th>PoolArea</th>\n",
       "      <th>PoolQC</th>\n",
       "      <th>Fence</th>\n",
       "      <th>MiscFeature</th>\n",
       "      <th>MiscVal</th>\n",
       "      <th>MoSold</th>\n",
       "      <th>YrSold</th>\n",
       "      <th>SaleType</th>\n",
       "      <th>SaleCondition</th>\n",
       "      <th>SalePrice</th>\n",
       "    </tr>\n",
       "  </thead>\n",
       "  <tbody>\n",
       "    <tr>\n",
       "      <th>0</th>\n",
       "      <td>1</td>\n",
       "      <td>60</td>\n",
       "      <td>RL</td>\n",
       "      <td>65.0</td>\n",
       "      <td>8450</td>\n",
       "      <td>Pave</td>\n",
       "      <td>NaN</td>\n",
       "      <td>Reg</td>\n",
       "      <td>Lvl</td>\n",
       "      <td>AllPub</td>\n",
       "      <td>...</td>\n",
       "      <td>0</td>\n",
       "      <td>NaN</td>\n",
       "      <td>NaN</td>\n",
       "      <td>NaN</td>\n",
       "      <td>0</td>\n",
       "      <td>2</td>\n",
       "      <td>2008</td>\n",
       "      <td>WD</td>\n",
       "      <td>Normal</td>\n",
       "      <td>208500</td>\n",
       "    </tr>\n",
       "    <tr>\n",
       "      <th>1</th>\n",
       "      <td>2</td>\n",
       "      <td>20</td>\n",
       "      <td>RL</td>\n",
       "      <td>80.0</td>\n",
       "      <td>9600</td>\n",
       "      <td>Pave</td>\n",
       "      <td>NaN</td>\n",
       "      <td>Reg</td>\n",
       "      <td>Lvl</td>\n",
       "      <td>AllPub</td>\n",
       "      <td>...</td>\n",
       "      <td>0</td>\n",
       "      <td>NaN</td>\n",
       "      <td>NaN</td>\n",
       "      <td>NaN</td>\n",
       "      <td>0</td>\n",
       "      <td>5</td>\n",
       "      <td>2007</td>\n",
       "      <td>WD</td>\n",
       "      <td>Normal</td>\n",
       "      <td>181500</td>\n",
       "    </tr>\n",
       "    <tr>\n",
       "      <th>2</th>\n",
       "      <td>3</td>\n",
       "      <td>60</td>\n",
       "      <td>RL</td>\n",
       "      <td>68.0</td>\n",
       "      <td>11250</td>\n",
       "      <td>Pave</td>\n",
       "      <td>NaN</td>\n",
       "      <td>IR1</td>\n",
       "      <td>Lvl</td>\n",
       "      <td>AllPub</td>\n",
       "      <td>...</td>\n",
       "      <td>0</td>\n",
       "      <td>NaN</td>\n",
       "      <td>NaN</td>\n",
       "      <td>NaN</td>\n",
       "      <td>0</td>\n",
       "      <td>9</td>\n",
       "      <td>2008</td>\n",
       "      <td>WD</td>\n",
       "      <td>Normal</td>\n",
       "      <td>223500</td>\n",
       "    </tr>\n",
       "    <tr>\n",
       "      <th>3</th>\n",
       "      <td>4</td>\n",
       "      <td>70</td>\n",
       "      <td>RL</td>\n",
       "      <td>60.0</td>\n",
       "      <td>9550</td>\n",
       "      <td>Pave</td>\n",
       "      <td>NaN</td>\n",
       "      <td>IR1</td>\n",
       "      <td>Lvl</td>\n",
       "      <td>AllPub</td>\n",
       "      <td>...</td>\n",
       "      <td>0</td>\n",
       "      <td>NaN</td>\n",
       "      <td>NaN</td>\n",
       "      <td>NaN</td>\n",
       "      <td>0</td>\n",
       "      <td>2</td>\n",
       "      <td>2006</td>\n",
       "      <td>WD</td>\n",
       "      <td>Abnorml</td>\n",
       "      <td>140000</td>\n",
       "    </tr>\n",
       "    <tr>\n",
       "      <th>4</th>\n",
       "      <td>5</td>\n",
       "      <td>60</td>\n",
       "      <td>RL</td>\n",
       "      <td>84.0</td>\n",
       "      <td>14260</td>\n",
       "      <td>Pave</td>\n",
       "      <td>NaN</td>\n",
       "      <td>IR1</td>\n",
       "      <td>Lvl</td>\n",
       "      <td>AllPub</td>\n",
       "      <td>...</td>\n",
       "      <td>0</td>\n",
       "      <td>NaN</td>\n",
       "      <td>NaN</td>\n",
       "      <td>NaN</td>\n",
       "      <td>0</td>\n",
       "      <td>12</td>\n",
       "      <td>2008</td>\n",
       "      <td>WD</td>\n",
       "      <td>Normal</td>\n",
       "      <td>250000</td>\n",
       "    </tr>\n",
       "  </tbody>\n",
       "</table>\n",
       "<p>5 rows × 81 columns</p>\n",
       "</div>"
      ],
      "text/plain": [
       "   Id  MSSubClass MSZoning  LotFrontage  LotArea Street Alley LotShape  \\\n",
       "0   1          60       RL         65.0     8450   Pave   NaN      Reg   \n",
       "1   2          20       RL         80.0     9600   Pave   NaN      Reg   \n",
       "2   3          60       RL         68.0    11250   Pave   NaN      IR1   \n",
       "3   4          70       RL         60.0     9550   Pave   NaN      IR1   \n",
       "4   5          60       RL         84.0    14260   Pave   NaN      IR1   \n",
       "\n",
       "  LandContour Utilities    ...     PoolArea PoolQC Fence MiscFeature MiscVal  \\\n",
       "0         Lvl    AllPub    ...            0    NaN   NaN         NaN       0   \n",
       "1         Lvl    AllPub    ...            0    NaN   NaN         NaN       0   \n",
       "2         Lvl    AllPub    ...            0    NaN   NaN         NaN       0   \n",
       "3         Lvl    AllPub    ...            0    NaN   NaN         NaN       0   \n",
       "4         Lvl    AllPub    ...            0    NaN   NaN         NaN       0   \n",
       "\n",
       "  MoSold YrSold  SaleType  SaleCondition  SalePrice  \n",
       "0      2   2008        WD         Normal     208500  \n",
       "1      5   2007        WD         Normal     181500  \n",
       "2      9   2008        WD         Normal     223500  \n",
       "3      2   2006        WD        Abnorml     140000  \n",
       "4     12   2008        WD         Normal     250000  \n",
       "\n",
       "[5 rows x 81 columns]"
      ]
     },
     "execution_count": 2,
     "metadata": {},
     "output_type": "execute_result"
    }
   ],
   "source": [
    "train = pd.read_csv(\"./train.csv\")\n",
    "test = pd.read_csv(\"./test.csv\")\n",
    "train.head()\n",
    "# test.head()"
   ]
  },
  {
   "cell_type": "code",
   "execution_count": 3,
   "metadata": {
    "collapsed": false
   },
   "outputs": [],
   "source": [
    "# combine the data and take all of the feature. This is for easier feature engineering. \n",
    "all_data = pd.concat((train.iloc[:,1:-1], test.iloc[:,1:-1]))\n",
    "Y = train[\"SalePrice\"]\n",
    "\n",
    "# remember the length of train data\n",
    "trainLen = len(train)"
   ]
  },
  {
   "cell_type": "markdown",
   "metadata": {},
   "source": [
    "Due to previous prediction, we could see that living area and other area infomation is a crucial predictor to final sold price. Insteed of the sold price, price per SF could be a better feature to compare the effect of other features. But first, we need to have some conversions on these continuouse data.  \n",
    "To begin with, we can see that GrLivArea = 1stFlrSF + 2ndFlrSF, TotalBsmtSF = BsmtFinSF1 + BsmtFinSF2 + BsmtUnfSF. So if seems better to reduce the features here."
   ]
  },
  {
   "cell_type": "code",
   "execution_count": 4,
   "metadata": {
    "collapsed": false
   },
   "outputs": [],
   "source": [
    "# There is a na TotalBsmtSF value in the test set for \n",
    "all_data.loc[all_data[\"TotalBsmtSF\"].isnull(),'TotalBsmtSF'] = 0\n",
    "\n",
    "all_data[\"1stFlrSFRatio\"] = all_data[\"1stFlrSF\"] * 1.0 / all_data[\"GrLivArea\"]\n",
    "all_data[\"BsmtUnfSFRatio\"] = all_data[\"BsmtUnfSF\"] * 1.0 / all_data[\"TotalBsmtSF\"]\n",
    "all_data[\"BsmtFinSF1Ratio\"] = all_data[\"BsmtFinSF1\"] * 1.0 / all_data[\"TotalBsmtSF\"]\n",
    "all_data[\"BsmtFinSF2Ratio\"] = all_data[\"BsmtFinSF2\"] * 1.0 / all_data[\"TotalBsmtSF\"]\n",
    "# BsmtFinSF1 & 2 would be latter merged with type"
   ]
  },
  {
   "cell_type": "code",
   "execution_count": 5,
   "metadata": {
    "collapsed": false
   },
   "outputs": [],
   "source": [
    "# Add a variable for total porch Area\n",
    "all_data['TotalPorchSF'] = all_data[['OpenPorchSF', 'EnclosedPorch', '3SsnPorch', 'ScreenPorch']].sum(axis = 1)\n",
    "# Add a variable for total living area\n",
    "all_data['TotalLivArea'] = all_data['GrLivArea'] + all_data['TotalBsmtSF']\n"
   ]
  },
  {
   "cell_type": "code",
   "execution_count": 6,
   "metadata": {
    "collapsed": true
   },
   "outputs": [],
   "source": [
    "# Drop already processed features\n",
    "all_data = all_data.drop([\n",
    "        '1stFlrSF','2ndFlrSF',\n",
    "        'BsmtFinSF1','BsmtFinSF2','BsmtUnfSF',\n",
    "        'OpenPorchSF', 'EnclosedPorch', '3SsnPorch', 'ScreenPorch'\n",
    "], axis=1)"
   ]
  },
  {
   "cell_type": "code",
   "execution_count": 7,
   "metadata": {
    "collapsed": false
   },
   "outputs": [
    {
     "data": {
      "text/plain": [
       "(12, 16)"
      ]
     },
     "execution_count": 7,
     "metadata": {},
     "output_type": "execute_result"
    }
   ],
   "source": [
    "continuous_feats = pd.Index([name for name in all_data.columns if \"Area\" in name or \"SF\" in name] + ['LotFrontage', 'MiscVal'])\n",
    "area_feats = pd.Index([name for name in continuous_feats if 'Ratio' not in name])\n",
    "len(area_feats), len(continuous_feats)"
   ]
  },
  {
   "cell_type": "code",
   "execution_count": 8,
   "metadata": {
    "collapsed": false
   },
   "outputs": [],
   "source": [
    "# matplotlib.rcParams['figure.figsize'] = (12.0, 18.0)\n",
    "\n",
    "# # Non zeor non null histogram\n",
    "# for i in range(len(area_feats)):\n",
    "#     plt.subplot(4,3, i + 1)\n",
    "#     plt.hist(all_data[area_feats[i]].loc[all_data[area_feats[i]] > 0], bins=20)\n",
    "#     plt.title(area_feats[i])"
   ]
  },
  {
   "cell_type": "markdown",
   "metadata": {},
   "source": [
    "Many of these values are skewed. Let's convert them (apart from the ratio features)."
   ]
  },
  {
   "cell_type": "code",
   "execution_count": 9,
   "metadata": {
    "collapsed": false
   },
   "outputs": [
    {
     "data": {
      "text/plain": [
       "Index([u'GrLivArea', u'LotArea', u'LowQualFinSF', u'MasVnrArea',\n",
       "       u'TotalBsmtSF', u'WoodDeckSF', u'TotalPorchSF', u'TotalLivArea',\n",
       "       u'LotFrontage', u'MiscVal'],\n",
       "      dtype='object')"
      ]
     },
     "execution_count": 9,
     "metadata": {},
     "output_type": "execute_result"
    }
   ],
   "source": [
    "skewed_feats = all_data[area_feats].apply(lambda x: skew(x[x > 0]))\n",
    "skewed_feats = skewed_feats[skewed_feats > 0.9].index\n",
    "skewed_feats"
   ]
  },
  {
   "cell_type": "code",
   "execution_count": 10,
   "metadata": {
    "collapsed": false
   },
   "outputs": [],
   "source": [
    "# Seems fine, let's convert. But before converting them that's make a feature for price per SF LivArea\n",
    "\n",
    "YPerSF = Y / all_data['TotalLivArea'][:trainLen]\n",
    "Y = np.log1p(Y)\n",
    "YPerSF = np.log1p(YPerSF)\n",
    "all_data[skewed_feats] = np.log1p(all_data[skewed_feats])"
   ]
  },
  {
   "cell_type": "code",
   "execution_count": 11,
   "metadata": {
    "collapsed": false
   },
   "outputs": [],
   "source": [
    "# # Not let's check the scatter of these values to price\n",
    "# matplotlib.rcParams['figure.figsize'] = (12.0, 18.0)\n",
    "\n",
    "# # Non zeor non null histogram\n",
    "# for i in range(len(continuous_feats)):\n",
    "#     plt.subplot(4,4, i + 1)\n",
    "#     plt.scatter(y = Y, x = all_data[continuous_feats[i]][:trainLen])\n",
    "#     plt.title(continuous_feats[i])"
   ]
  },
  {
   "cell_type": "markdown",
   "metadata": {},
   "source": [
    "We can see that TotalLivingArea is Stronging correlated to price.\n",
    "\n",
    "According to hint, there're some outliers. Let's check the distribution of total living area for both train and test set."
   ]
  },
  {
   "cell_type": "code",
   "execution_count": 12,
   "metadata": {
    "collapsed": false
   },
   "outputs": [],
   "source": [
    "# matplotlib.rcParams['figure.figsize'] = (12.0, 6.0)\n",
    "# plt.subplot(121)\n",
    "# all_data[:trainLen]['TotalLivArea'].hist(bins = 20)\n",
    "# plt.title('Train set total living area hist')\n",
    "# plt.subplot(122)\n",
    "# all_data[trainLen:]['TotalLivArea'].hist(bins = 20)\n",
    "# plt.title('Test set total living area hist')"
   ]
  },
  {
   "cell_type": "markdown",
   "metadata": {},
   "source": [
    "It seems that we could ignore data for log1p(TtllivingArea) < 6"
   ]
  },
  {
   "cell_type": "code",
   "execution_count": 13,
   "metadata": {
    "collapsed": false
   },
   "outputs": [
    {
     "data": {
      "text/plain": [
       "Int64Index([533], dtype='int64')"
      ]
     },
     "execution_count": 13,
     "metadata": {},
     "output_type": "execute_result"
    }
   ],
   "source": [
    "all_data.index[all_data['TotalLivArea'] <= 6]"
   ]
  },
  {
   "cell_type": "code",
   "execution_count": 14,
   "metadata": {
    "collapsed": false
   },
   "outputs": [],
   "source": [
    "# Latter\n",
    "# all_data[:trainLen] = all_data[:trainLen].drop([533], axis = 0).shape\n",
    "# all_data[:trainLen].shape"
   ]
  },
  {
   "cell_type": "markdown",
   "metadata": {},
   "source": [
    "Basically that's all for continuous data. Now that's convert Ordinal ones."
   ]
  },
  {
   "cell_type": "code",
   "execution_count": 15,
   "metadata": {
    "collapsed": false
   },
   "outputs": [],
   "source": [
    "# LotShape\n",
    "all_data['LotShape'] = all_data['LotShape'].replace(['IR3','IR2','IR1' ,'Reg'], [1,2,3,4])\n",
    "all_data['LandContour'] = all_data['LandContour'].replace(['Low', 'HLS', 'Bnk','Lvl'], [1,2,3,4])\n",
    "all_data['Utilities'] = all_data['Utilities'].replace(['ELO','NoSeWa','NoSewr','AllPub'], [1,2,3,4])\n",
    "all_data['LandSlope'] = all_data['LandSlope'].replace(['Sev' , 'Mod', 'Gtl'], [1,2,3])\n",
    "all_data['ExterQual'] = all_data['ExterQual'].replace(['Po', 'Fa', 'TA', 'Gd', 'Ex'], [1,2,3,4,5])\n",
    "all_data['ExterCond'] = all_data['ExterCond'].replace(['Po', 'Fa', 'TA', 'Gd', 'Ex'], [1,2,3,4,5])\n",
    "all_data['BsmtQual'] = all_data['BsmtQual'].replace(['Po', 'Fa', 'TA', 'Gd', 'Ex'], [1,2,3,4,5])\n",
    "all_data['BsmtCond'] = all_data['BsmtCond'].replace(['Po', 'Fa', 'TA', 'Gd', 'Ex'], [1,2,3,4,5])\n",
    "all_data['BsmtExposure'] = all_data['BsmtExposure'].replace(['No', 'Mn', 'Av', 'Gd'], [1,2,3,4])\n",
    "all_data['BsmtFinType1'] = all_data['BsmtFinType1'].replace(['Unf', 'LwQ', 'Rec', 'BLQ', 'ALQ', 'GLQ'], [1,2,3,4,5,6])\n",
    "all_data['BsmtFinType2'] = all_data['BsmtFinType2'].replace(['Unf', 'LwQ', 'Rec', 'BLQ', 'ALQ', 'GLQ'], [1,2,3,4,5,6])\n",
    "all_data['HeatingQC'] = all_data['HeatingQC'].replace(['Po', 'Fa', 'TA', 'Gd', 'Ex'], [1,2,3,4,5])\n",
    "all_data['KitchenQual'] = all_data['KitchenQual'].replace(['Po', 'Fa', 'TA', 'Gd', 'Ex'], [1,2,3,4,5])\n",
    "all_data['Functional'] = all_data['Functional'].replace(['Sal','Sev','Maj2','Maj1','Mod','Min2','Min1','Typ'], [\n",
    "        1,2,3,4,5,6,7,8])\n",
    "all_data['FireplaceQu'] = all_data['FireplaceQu'].replace(['Po', 'Fa', 'TA', 'Gd', 'Ex'], [1,2,3,4,5])\n",
    "all_data['GarageFinish'] = all_data['GarageFinish'].replace(['Unf', 'RFn', 'Fin'], [1,2,3])\n",
    "all_data['GarageQual'] = all_data['GarageQual'].replace(['Po', 'Fa', 'TA', 'Gd', 'Ex'], [1,2,3,4,5])\n",
    "all_data['GarageCond'] = all_data['GarageCond'].replace(['Po', 'Fa', 'TA', 'Gd', 'Ex'], [1,2,3,4,5])\n",
    "all_data['PoolQC'] = all_data['PoolQC'].replace(['Fa', 'TA', 'Gd', 'Ex'], [1,2,3,4])\n",
    "all_data['Fence'] = all_data['Fence'].replace(['MnWw', 'GdWo', 'MnPrv', 'GdPrv'], [1,2,3,4])"
   ]
  },
  {
   "cell_type": "code",
   "execution_count": 16,
   "metadata": {
    "collapsed": false
   },
   "outputs": [
    {
     "data": {
      "text/plain": [
       "22"
      ]
     },
     "execution_count": 16,
     "metadata": {},
     "output_type": "execute_result"
    }
   ],
   "source": [
    "# Ordinal check\n",
    "ord_feats = pd.Index(['LotShape','LandContour','Utilities','LandSlope',\n",
    "                      'OverallQual','OverallCond','ExterQual','ExterCond',\n",
    "                      'BsmtQual','BsmtCond','BsmtExposure','BsmtFinType1',\n",
    "                      'BsmtFinType2','HeatingQC','KitchenQual','Functional',\n",
    "                      'FireplaceQu','GarageFinish','GarageQual','GarageCond',\n",
    "                      'PoolQC','Fence'])\n",
    "all_data[ord_feats] = all_data[ord_feats].fillna(0)\n",
    "len(ord_feats)"
   ]
  },
  {
   "cell_type": "code",
   "execution_count": 17,
   "metadata": {
    "collapsed": false
   },
   "outputs": [],
   "source": [
    "# # Not let's check the boxplot of these values to price per sf\n",
    "# matplotlib.rcParams['figure.figsize'] = (12.0, 24.0)\n",
    "\n",
    "# # Non zeor non null histogram\n",
    "# for i in range(len(ord_feats)):\n",
    "#     plt.subplot(6,4, i + 1)\n",
    "#     sns.boxplot(y = YPerSF, x = all_data[:trainLen][ord_feats[i]])"
   ]
  },
  {
   "cell_type": "markdown",
   "metadata": {},
   "source": [
    "Generally, these ordinal data are correlated to price per SF, but not all of them are strictly as so.\n",
    "Further more, sometimes na data does not seems to be worse.\n",
    "\n",
    "We'll jsut try to see how these works first.\n",
    "\n",
    "Now let's try to handle the discrete data."
   ]
  },
  {
   "cell_type": "code",
   "execution_count": 18,
   "metadata": {
    "collapsed": false
   },
   "outputs": [],
   "source": [
    "# Let's add time interval in year between build and sold time.\n",
    "all_data['BltYears'] = all_data['YrSold'] -  all_data['YearBuilt']\n",
    "all_data['RemYears'] = all_data['YrSold'] -  all_data['YearRemodAdd']\n",
    "all_data['GaBltyears'] = all_data['YrSold'] -  all_data['GarageYrBlt']\n",
    "all_data = all_data.drop(['YearBuilt','YearRemodAdd','GarageYrBlt'], axis = 1)"
   ]
  },
  {
   "cell_type": "code",
   "execution_count": 19,
   "metadata": {
    "collapsed": false
   },
   "outputs": [],
   "source": [
    "# MoSold seems more like a categorical data, let's check the distribution\n",
    "# sns.boxplot(y = Y, x = all_data[:trainLen]['MoSold'])\n",
    "all_data['MoSold'] = all_data['MoSold'].astype('category')"
   ]
  },
  {
   "cell_type": "code",
   "execution_count": 20,
   "metadata": {
    "collapsed": true
   },
   "outputs": [],
   "source": [
    "all_data['CentralAir'] = all_data['CentralAir'].replace(['N','Y'], [0,1])"
   ]
  },
  {
   "cell_type": "markdown",
   "metadata": {},
   "source": [
    "Finally let's fill in na data and one-hot encoding nomincal ones"
   ]
  },
  {
   "cell_type": "code",
   "execution_count": 21,
   "metadata": {
    "collapsed": false
   },
   "outputs": [
    {
     "name": "stdout",
     "output_type": "stream",
     "text": [
      "                 nullNums DataType\n",
      "LotFrontage           486  float64\n",
      "BsmtFinSF1Ratio        79  float64\n",
      "BsmtUnfSFRatio         79  float64\n",
      "MasVnrArea             23  float64\n",
      "BsmtFinSF2Ratio        79  float64\n",
      "GarageCars              1  float64\n",
      "GaBltyears            159  float64\n",
      "BsmtHalfBath            2  float64\n",
      "BsmtFullBath            2  float64\n",
      "GarageArea              1  float64\n",
      "Exterior2nd             1   object\n",
      "GarageType            157   object\n",
      "Exterior1st             1   object\n",
      "MSZoning                4   object\n",
      "Electrical              1   object\n",
      "MasVnrType             24   object\n",
      "MiscFeature          2814   object\n",
      "SaleCondition        1459   object\n",
      "SaleType                1   object\n",
      "Alley                2721   object\n"
     ]
    }
   ],
   "source": [
    "# check na value count\n",
    "nullCnt = pd.DataFrame({'nullNums' : all_data.isnull().sum()})\n",
    "nullCnt['DataType'] = all_data[nullCnt.index].dtypes\n",
    "print nullCnt[nullCnt['nullNums'] > 0].sort_values(by = 'DataType')"
   ]
  },
  {
   "cell_type": "markdown",
   "metadata": {},
   "source": [
    "Based on previous data cleaning we know that we should fill in LatFrontage data.  \n",
    "For GaBltyears, we will just set them to 999"
   ]
  },
  {
   "cell_type": "code",
   "execution_count": 22,
   "metadata": {
    "collapsed": true
   },
   "outputs": [],
   "source": [
    "from sklearn.linear_model import LinearRegression\n",
    "reg = LinearRegression()\n",
    "reg.fit(all_data.loc[all_data['LotFrontage'].notnull(), ['LotArea']], all_data.loc[all_data['LotFrontage'].notnull(), ['LotFrontage']])\n",
    "all_data.loc[all_data['LotFrontage'].isnull(), ['LotFrontage']] = reg.predict(all_data.loc[all_data['LotFrontage'].isnull(), ['LotArea']])"
   ]
  },
  {
   "cell_type": "code",
   "execution_count": 23,
   "metadata": {
    "collapsed": false
   },
   "outputs": [],
   "source": [
    "all_data.loc[all_data['GaBltyears'].isnull(), 'GaBltyears'] = 999\n",
    "# Fill na with 0\n",
    "all_data[all_data.columns[all_data.dtypes == 'float64']] = all_data[all_data.columns[all_data.dtypes == 'float64']].fillna(0)"
   ]
  },
  {
   "cell_type": "code",
   "execution_count": 24,
   "metadata": {
    "collapsed": false
   },
   "outputs": [],
   "source": [
    "# There're several pairs of feature that should be merged when one-hot encoded\n",
    "\n",
    "# Deal with Exterior\n",
    "for name in all_data[\"Exterior1st\"].dropna().unique():\n",
    "    all_data[name] = 1 * ((all_data[\"Exterior1st\"] == name) | (all_data[\"Exterior2nd\"] == name))\n",
    "\n",
    "# Deal with Condition\n",
    "for name in all_data[\"Condition1\"].dropna().unique():\n",
    "    all_data[name] = 1 * ((all_data[\"Condition1\"] == name) | (all_data[\"Condition2\"] == name))"
   ]
  },
  {
   "cell_type": "code",
   "execution_count": 25,
   "metadata": {
    "collapsed": true
   },
   "outputs": [],
   "source": [
    "# Drop those features that we have converted already\n",
    "\n",
    "all_data = all_data.drop(['Exterior1st','Exterior2nd'], axis=1)\n",
    "all_data = all_data.drop(['Condition1','Condition2'], axis=1)"
   ]
  },
  {
   "cell_type": "code",
   "execution_count": 26,
   "metadata": {
    "collapsed": false
   },
   "outputs": [
    {
     "data": {
      "text/plain": [
       "(2919, 204)"
      ]
     },
     "execution_count": 26,
     "metadata": {},
     "output_type": "execute_result"
    }
   ],
   "source": [
    "# one-hot encode category data\n",
    "all_data = pd.get_dummies(all_data)\n",
    "all_data.shape\n",
    "# all_data.head()"
   ]
  }
 ],
 "metadata": {
  "anaconda-cloud": {},
  "kernelspec": {
   "display_name": "Python 2",
   "language": "python",
   "name": "python2"
  },
  "language_info": {
   "codemirror_mode": {
    "name": "ipython",
    "version": 2
   },
   "file_extension": ".py",
   "mimetype": "text/x-python",
   "name": "python",
   "nbconvert_exporter": "python",
   "pygments_lexer": "ipython2",
   "version": "2.7.11"
  }
 },
 "nbformat": 4,
 "nbformat_minor": 0
}
