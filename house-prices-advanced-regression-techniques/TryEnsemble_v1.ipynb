{
 "cells": [
  {
   "cell_type": "code",
   "execution_count": 2,
   "metadata": {
    "collapsed": true
   },
   "outputs": [],
   "source": [
    "import pandas as pd\n",
    "import numpy as np\n",
    "import seaborn as sns\n",
    "import matplotlib\n",
    "import matplotlib.pyplot as plt\n",
    "\n",
    "from scipy.stats import skew\n",
    "from scipy.stats.stats import pearsonr\n",
    "\n",
    "%config InlineBackend.figure_format = 'retina' #set 'png' here when working on notebook\n",
    "%matplotlib inline"
   ]
  },
  {
   "cell_type": "code",
   "execution_count": 3,
   "metadata": {
    "collapsed": false
   },
   "outputs": [],
   "source": [
    "train = pd.read_csv(\"./train.csv\")\n",
    "test = pd.read_csv(\"./test.csv\")\n",
    "temp_train = pd.read_csv(\"./temp_train.csv\")\n",
    "temp_test = pd.read_csv(\"./temp_test.csv\")"
   ]
  },
  {
   "cell_type": "code",
   "execution_count": 4,
   "metadata": {
    "collapsed": false
   },
   "outputs": [],
   "source": [
    "predictNames = ['LassoPred', 'XGBPred', 'KNNPred', 'RFPred']\n",
    "checkNames = ['MSSubClass','Functional','MSZoning', 'Neighborhood', 'SaleType', 'SaleCondition', 'SalePrice']\n",
    "new_data = pd.DataFrame()\n",
    "for name in predictNames:\n",
    "    tempFrame = train.loc[:,checkNames]\n",
    "    tempFrame.loc[:,'type'] = name\n",
    "    tempFrame.loc[:,'Pred'] = temp_train.loc[:,name]\n",
    "    new_data = pd.concat((new_data, tempFrame))\n",
    "new_data.loc[:,'SalePrice'] = np.log1p(new_data.loc[:,'SalePrice'])"
   ]
  },
  {
   "cell_type": "code",
   "execution_count": 5,
   "metadata": {
    "collapsed": false
   },
   "outputs": [
    {
     "data": {
      "text/html": [
       "<div>\n",
       "<table border=\"1\" class=\"dataframe\">\n",
       "  <thead>\n",
       "    <tr style=\"text-align: right;\">\n",
       "      <th></th>\n",
       "      <th>MSSubClass</th>\n",
       "      <th>Functional</th>\n",
       "      <th>BldgType</th>\n",
       "      <th>MSZoning</th>\n",
       "      <th>Neighborhood</th>\n",
       "      <th>SaleType</th>\n",
       "      <th>SaleCondition</th>\n",
       "      <th>SalePrice</th>\n",
       "      <th>type</th>\n",
       "      <th>Pred</th>\n",
       "    </tr>\n",
       "  </thead>\n",
       "  <tbody>\n",
       "    <tr>\n",
       "      <th>1455</th>\n",
       "      <td>60</td>\n",
       "      <td>Typ</td>\n",
       "      <td>1Fam</td>\n",
       "      <td>RL</td>\n",
       "      <td>Gilbert</td>\n",
       "      <td>WD</td>\n",
       "      <td>Normal</td>\n",
       "      <td>12.072547</td>\n",
       "      <td>RFPred</td>\n",
       "      <td>12.074455</td>\n",
       "    </tr>\n",
       "    <tr>\n",
       "      <th>1456</th>\n",
       "      <td>20</td>\n",
       "      <td>Min1</td>\n",
       "      <td>1Fam</td>\n",
       "      <td>RL</td>\n",
       "      <td>NWAmes</td>\n",
       "      <td>WD</td>\n",
       "      <td>Normal</td>\n",
       "      <td>12.254868</td>\n",
       "      <td>RFPred</td>\n",
       "      <td>12.216073</td>\n",
       "    </tr>\n",
       "    <tr>\n",
       "      <th>1457</th>\n",
       "      <td>70</td>\n",
       "      <td>Typ</td>\n",
       "      <td>1Fam</td>\n",
       "      <td>RL</td>\n",
       "      <td>Crawfor</td>\n",
       "      <td>WD</td>\n",
       "      <td>Normal</td>\n",
       "      <td>12.493133</td>\n",
       "      <td>RFPred</td>\n",
       "      <td>12.444464</td>\n",
       "    </tr>\n",
       "    <tr>\n",
       "      <th>1458</th>\n",
       "      <td>20</td>\n",
       "      <td>Typ</td>\n",
       "      <td>1Fam</td>\n",
       "      <td>RL</td>\n",
       "      <td>NAmes</td>\n",
       "      <td>WD</td>\n",
       "      <td>Normal</td>\n",
       "      <td>11.864469</td>\n",
       "      <td>RFPred</td>\n",
       "      <td>11.858907</td>\n",
       "    </tr>\n",
       "    <tr>\n",
       "      <th>1459</th>\n",
       "      <td>20</td>\n",
       "      <td>Typ</td>\n",
       "      <td>1Fam</td>\n",
       "      <td>RL</td>\n",
       "      <td>Edwards</td>\n",
       "      <td>WD</td>\n",
       "      <td>Normal</td>\n",
       "      <td>11.901590</td>\n",
       "      <td>RFPred</td>\n",
       "      <td>11.922829</td>\n",
       "    </tr>\n",
       "  </tbody>\n",
       "</table>\n",
       "</div>"
      ],
      "text/plain": [
       "      MSSubClass Functional BldgType MSZoning Neighborhood SaleType  \\\n",
       "1455          60        Typ     1Fam       RL      Gilbert       WD   \n",
       "1456          20       Min1     1Fam       RL       NWAmes       WD   \n",
       "1457          70        Typ     1Fam       RL      Crawfor       WD   \n",
       "1458          20        Typ     1Fam       RL        NAmes       WD   \n",
       "1459          20        Typ     1Fam       RL      Edwards       WD   \n",
       "\n",
       "     SaleCondition  SalePrice    type       Pred  \n",
       "1455        Normal  12.072547  RFPred  12.074455  \n",
       "1456        Normal  12.254868  RFPred  12.216073  \n",
       "1457        Normal  12.493133  RFPred  12.444464  \n",
       "1458        Normal  11.864469  RFPred  11.858907  \n",
       "1459        Normal  11.901590  RFPred  11.922829  "
      ]
     },
     "execution_count": 5,
     "metadata": {},
     "output_type": "execute_result"
    }
   ],
   "source": [
    "new_data.tail()"
   ]
  },
  {
   "cell_type": "code",
   "execution_count": 5,
   "metadata": {
    "collapsed": true
   },
   "outputs": [],
   "source": [
    "new_data.loc[:,'Residule'] = new_data['SalePrice'] - new_data['Pred']"
   ]
  },
  {
   "cell_type": "code",
   "execution_count": 1,
   "metadata": {
    "collapsed": false
   },
   "outputs": [
    {
     "ename": "NameError",
     "evalue": "name 'matplotlib' is not defined",
     "output_type": "error",
     "traceback": [
      "\u001b[0;31m---------------------------------------------------------------------------\u001b[0m",
      "\u001b[0;31mNameError\u001b[0m                                 Traceback (most recent call last)",
      "\u001b[0;32m<ipython-input-1-0f5ba56d595f>\u001b[0m in \u001b[0;36m<module>\u001b[0;34m()\u001b[0m\n\u001b[0;32m----> 1\u001b[0;31m \u001b[0mmatplotlib\u001b[0m\u001b[0;34m.\u001b[0m\u001b[0mrcParams\u001b[0m\u001b[0;34m[\u001b[0m\u001b[0;34m'figure.figsize'\u001b[0m\u001b[0;34m]\u001b[0m \u001b[0;34m=\u001b[0m \u001b[0;34m(\u001b[0m\u001b[0;36m14.0\u001b[0m\u001b[0;34m,\u001b[0m \u001b[0;36m6.0\u001b[0m\u001b[0;34m)\u001b[0m\u001b[0;34m\u001b[0m\u001b[0m\n\u001b[0m\u001b[1;32m      2\u001b[0m \u001b[0msns\u001b[0m\u001b[0;34m.\u001b[0m\u001b[0mboxplot\u001b[0m\u001b[0;34m(\u001b[0m\u001b[0mdata\u001b[0m \u001b[0;34m=\u001b[0m \u001b[0mnew_data\u001b[0m\u001b[0;34m,\u001b[0m \u001b[0my\u001b[0m \u001b[0;34m=\u001b[0m \u001b[0;34m'Residule'\u001b[0m\u001b[0;34m,\u001b[0m \u001b[0mx\u001b[0m \u001b[0;34m=\u001b[0m \u001b[0;34m'MSSubClass'\u001b[0m\u001b[0;34m,\u001b[0m \u001b[0mhue\u001b[0m \u001b[0;34m=\u001b[0m \u001b[0;34m'type'\u001b[0m\u001b[0;34m)\u001b[0m\u001b[0;34m\u001b[0m\u001b[0m\n",
      "\u001b[0;31mNameError\u001b[0m: name 'matplotlib' is not defined"
     ]
    }
   ],
   "source": [
    "matplotlib.rcParams['figure.figsize'] = (14.0, 6.0)\n",
    "sns.boxplot(data = new_data, y = 'Residule', x = 'MSSubClass', hue = 'type')"
   ]
  },
  {
   "cell_type": "code",
   "execution_count": 67,
   "metadata": {
    "collapsed": false
   },
   "outputs": [],
   "source": [
    "# new_train = train[['MSZoning', 'Neighborhood', 'SaleType', 'SaleCondition']]\n",
    "new_train[predictNames] = temp_train[predictNames]\n",
    "Y = np.log1p(train['SalePrice'])"
   ]
  },
  {
   "cell_type": "code",
   "execution_count": 68,
   "metadata": {
    "collapsed": false
   },
   "outputs": [],
   "source": [
    "new_train = pd.get_dummies(new_train)"
   ]
  },
  {
   "cell_type": "code",
   "execution_count": 69,
   "metadata": {
    "collapsed": false
   },
   "outputs": [
    {
     "data": {
      "text/html": [
       "<div>\n",
       "<table border=\"1\" class=\"dataframe\">\n",
       "  <thead>\n",
       "    <tr style=\"text-align: right;\">\n",
       "      <th></th>\n",
       "      <th>RidgePred</th>\n",
       "      <th>XGBPred</th>\n",
       "      <th>KNNPred</th>\n",
       "      <th>RFPred</th>\n",
       "      <th>MSZoning_C (all)</th>\n",
       "      <th>MSZoning_FV</th>\n",
       "      <th>MSZoning_RH</th>\n",
       "      <th>MSZoning_RL</th>\n",
       "      <th>MSZoning_RM</th>\n",
       "      <th>Neighborhood_Blmngtn</th>\n",
       "      <th>...</th>\n",
       "      <th>SaleType_ConLw</th>\n",
       "      <th>SaleType_New</th>\n",
       "      <th>SaleType_Oth</th>\n",
       "      <th>SaleType_WD</th>\n",
       "      <th>SaleCondition_Abnorml</th>\n",
       "      <th>SaleCondition_AdjLand</th>\n",
       "      <th>SaleCondition_Alloca</th>\n",
       "      <th>SaleCondition_Family</th>\n",
       "      <th>SaleCondition_Normal</th>\n",
       "      <th>SaleCondition_Partial</th>\n",
       "    </tr>\n",
       "  </thead>\n",
       "  <tbody>\n",
       "    <tr>\n",
       "      <th>1455</th>\n",
       "      <td>12.078200</td>\n",
       "      <td>12.077914</td>\n",
       "      <td>12.086670</td>\n",
       "      <td>12.087902</td>\n",
       "      <td>0</td>\n",
       "      <td>0</td>\n",
       "      <td>0</td>\n",
       "      <td>1</td>\n",
       "      <td>0</td>\n",
       "      <td>0</td>\n",
       "      <td>...</td>\n",
       "      <td>0</td>\n",
       "      <td>0</td>\n",
       "      <td>0</td>\n",
       "      <td>1</td>\n",
       "      <td>0</td>\n",
       "      <td>0</td>\n",
       "      <td>0</td>\n",
       "      <td>0</td>\n",
       "      <td>1</td>\n",
       "      <td>0</td>\n",
       "    </tr>\n",
       "    <tr>\n",
       "      <th>1456</th>\n",
       "      <td>12.252821</td>\n",
       "      <td>12.222839</td>\n",
       "      <td>12.202478</td>\n",
       "      <td>12.242167</td>\n",
       "      <td>0</td>\n",
       "      <td>0</td>\n",
       "      <td>0</td>\n",
       "      <td>1</td>\n",
       "      <td>0</td>\n",
       "      <td>0</td>\n",
       "      <td>...</td>\n",
       "      <td>0</td>\n",
       "      <td>0</td>\n",
       "      <td>0</td>\n",
       "      <td>1</td>\n",
       "      <td>0</td>\n",
       "      <td>0</td>\n",
       "      <td>0</td>\n",
       "      <td>0</td>\n",
       "      <td>1</td>\n",
       "      <td>0</td>\n",
       "    </tr>\n",
       "    <tr>\n",
       "      <th>1457</th>\n",
       "      <td>12.546716</td>\n",
       "      <td>12.439274</td>\n",
       "      <td>12.387044</td>\n",
       "      <td>12.455193</td>\n",
       "      <td>0</td>\n",
       "      <td>0</td>\n",
       "      <td>0</td>\n",
       "      <td>1</td>\n",
       "      <td>0</td>\n",
       "      <td>0</td>\n",
       "      <td>...</td>\n",
       "      <td>0</td>\n",
       "      <td>0</td>\n",
       "      <td>0</td>\n",
       "      <td>1</td>\n",
       "      <td>0</td>\n",
       "      <td>0</td>\n",
       "      <td>0</td>\n",
       "      <td>0</td>\n",
       "      <td>1</td>\n",
       "      <td>0</td>\n",
       "    </tr>\n",
       "    <tr>\n",
       "      <th>1458</th>\n",
       "      <td>11.902509</td>\n",
       "      <td>11.830789</td>\n",
       "      <td>11.790908</td>\n",
       "      <td>11.820641</td>\n",
       "      <td>0</td>\n",
       "      <td>0</td>\n",
       "      <td>0</td>\n",
       "      <td>1</td>\n",
       "      <td>0</td>\n",
       "      <td>0</td>\n",
       "      <td>...</td>\n",
       "      <td>0</td>\n",
       "      <td>0</td>\n",
       "      <td>0</td>\n",
       "      <td>1</td>\n",
       "      <td>0</td>\n",
       "      <td>0</td>\n",
       "      <td>0</td>\n",
       "      <td>0</td>\n",
       "      <td>1</td>\n",
       "      <td>0</td>\n",
       "    </tr>\n",
       "    <tr>\n",
       "      <th>1459</th>\n",
       "      <td>11.873724</td>\n",
       "      <td>11.869223</td>\n",
       "      <td>11.928491</td>\n",
       "      <td>11.923318</td>\n",
       "      <td>0</td>\n",
       "      <td>0</td>\n",
       "      <td>0</td>\n",
       "      <td>1</td>\n",
       "      <td>0</td>\n",
       "      <td>0</td>\n",
       "      <td>...</td>\n",
       "      <td>0</td>\n",
       "      <td>0</td>\n",
       "      <td>0</td>\n",
       "      <td>1</td>\n",
       "      <td>0</td>\n",
       "      <td>0</td>\n",
       "      <td>0</td>\n",
       "      <td>0</td>\n",
       "      <td>1</td>\n",
       "      <td>0</td>\n",
       "    </tr>\n",
       "  </tbody>\n",
       "</table>\n",
       "<p>5 rows × 49 columns</p>\n",
       "</div>"
      ],
      "text/plain": [
       "      RidgePred    XGBPred    KNNPred     RFPred  MSZoning_C (all)  \\\n",
       "1455  12.078200  12.077914  12.086670  12.087902                 0   \n",
       "1456  12.252821  12.222839  12.202478  12.242167                 0   \n",
       "1457  12.546716  12.439274  12.387044  12.455193                 0   \n",
       "1458  11.902509  11.830789  11.790908  11.820641                 0   \n",
       "1459  11.873724  11.869223  11.928491  11.923318                 0   \n",
       "\n",
       "      MSZoning_FV  MSZoning_RH  MSZoning_RL  MSZoning_RM  \\\n",
       "1455            0            0            1            0   \n",
       "1456            0            0            1            0   \n",
       "1457            0            0            1            0   \n",
       "1458            0            0            1            0   \n",
       "1459            0            0            1            0   \n",
       "\n",
       "      Neighborhood_Blmngtn          ...            SaleType_ConLw  \\\n",
       "1455                     0          ...                         0   \n",
       "1456                     0          ...                         0   \n",
       "1457                     0          ...                         0   \n",
       "1458                     0          ...                         0   \n",
       "1459                     0          ...                         0   \n",
       "\n",
       "      SaleType_New  SaleType_Oth  SaleType_WD  SaleCondition_Abnorml  \\\n",
       "1455             0             0            1                      0   \n",
       "1456             0             0            1                      0   \n",
       "1457             0             0            1                      0   \n",
       "1458             0             0            1                      0   \n",
       "1459             0             0            1                      0   \n",
       "\n",
       "      SaleCondition_AdjLand  SaleCondition_Alloca  SaleCondition_Family  \\\n",
       "1455                      0                     0                     0   \n",
       "1456                      0                     0                     0   \n",
       "1457                      0                     0                     0   \n",
       "1458                      0                     0                     0   \n",
       "1459                      0                     0                     0   \n",
       "\n",
       "      SaleCondition_Normal  SaleCondition_Partial  \n",
       "1455                     1                      0  \n",
       "1456                     1                      0  \n",
       "1457                     1                      0  \n",
       "1458                     1                      0  \n",
       "1459                     1                      0  \n",
       "\n",
       "[5 rows x 49 columns]"
      ]
     },
     "execution_count": 69,
     "metadata": {},
     "output_type": "execute_result"
    }
   ],
   "source": [
    "new_train.tail()"
   ]
  },
  {
   "cell_type": "code",
   "execution_count": 70,
   "metadata": {
    "collapsed": false
   },
   "outputs": [
    {
     "name": "stdout",
     "output_type": "stream",
     "text": [
      "0.12067246988\n"
     ]
    }
   ],
   "source": [
    "from sklearn.linear_model import LinearRegression\n",
    "from sklearn.model_selection import cross_val_score\n",
    "\n",
    "ensemble_score = cross_val_score(\n",
    "    estimator = LinearRegression(),\n",
    "    X = new_train, \n",
    "    y = Y,\n",
    "    n_jobs = 4,\n",
    "    cv = 5,\n",
    "    scoring = 'neg_mean_squared_error'\n",
    ")\n",
    "print np.sqrt(- ensemble_score.mean())"
   ]
  },
  {
   "cell_type": "code",
   "execution_count": 71,
   "metadata": {
    "collapsed": false
   },
   "outputs": [
    {
     "data": {
      "text/plain": [
       "([(0.13070265684348534, {'max_depth': 5, 'min_samples_split': 10}),\n",
       "  (0.12071324006331585, {'max_depth': 5, 'min_samples_split': 20}),\n",
       "  (0.12562822655898942, {'max_depth': 5, 'min_samples_split': 30}),\n",
       "  (0.12969016361648891, {'max_depth': 5, 'min_samples_split': 40}),\n",
       "  (0.12593173103381505, {'max_depth': 5, 'min_samples_split': 50}),\n",
       "  (0.12546990978152006, {'max_depth': 5, 'min_samples_split': 60}),\n",
       "  (0.12528247053851962, {'max_depth': 5, 'min_samples_split': 70}),\n",
       "  (0.1255044336694853, {'max_depth': 5, 'min_samples_split': 80}),\n",
       "  (0.12584672476653413, {'max_depth': 5, 'min_samples_split': 90}),\n",
       "  (0.12624390539455546, {'max_depth': 5, 'min_samples_split': 100}),\n",
       "  (0.14113033765177041, {'max_depth': 7, 'min_samples_split': 10}),\n",
       "  (0.13449638349207363, {'max_depth': 7, 'min_samples_split': 20}),\n",
       "  (0.13418407095345869, {'max_depth': 7, 'min_samples_split': 30}),\n",
       "  (0.13735398308470734, {'max_depth': 7, 'min_samples_split': 40}),\n",
       "  (0.13159871950485974, {'max_depth': 7, 'min_samples_split': 50}),\n",
       "  (0.13031404719717365, {'max_depth': 7, 'min_samples_split': 60}),\n",
       "  (0.12612042735781592, {'max_depth': 7, 'min_samples_split': 70}),\n",
       "  (0.12573055844701017, {'max_depth': 7, 'min_samples_split': 80}),\n",
       "  (0.12581796193734712, {'max_depth': 7, 'min_samples_split': 90}),\n",
       "  (0.12565081318032303, {'max_depth': 7, 'min_samples_split': 100}),\n",
       "  (0.14267746734139961, {'max_depth': 9, 'min_samples_split': 10}),\n",
       "  (0.14211645875693157, {'max_depth': 9, 'min_samples_split': 20}),\n",
       "  (0.1398176528046198, {'max_depth': 9, 'min_samples_split': 30}),\n",
       "  (0.13096924657871778, {'max_depth': 9, 'min_samples_split': 40}),\n",
       "  (0.13188850776185065, {'max_depth': 9, 'min_samples_split': 50}),\n",
       "  (0.13094716701471773, {'max_depth': 9, 'min_samples_split': 60}),\n",
       "  (0.12629262595438004, {'max_depth': 9, 'min_samples_split': 70}),\n",
       "  (0.12592637865614192, {'max_depth': 9, 'min_samples_split': 80}),\n",
       "  (0.12570303647352435, {'max_depth': 9, 'min_samples_split': 90}),\n",
       "  (0.12565081318032298, {'max_depth': 9, 'min_samples_split': 100}),\n",
       "  (0.1448774383403296, {'max_depth': 11, 'min_samples_split': 10}),\n",
       "  (0.14384207735909937, {'max_depth': 11, 'min_samples_split': 20}),\n",
       "  (0.13728805573230718, {'max_depth': 11, 'min_samples_split': 30}),\n",
       "  (0.13217603567609248, {'max_depth': 11, 'min_samples_split': 40}),\n",
       "  (0.13256092133101025, {'max_depth': 11, 'min_samples_split': 50}),\n",
       "  (0.13036942104656973, {'max_depth': 11, 'min_samples_split': 60}),\n",
       "  (0.1262571896415525, {'max_depth': 11, 'min_samples_split': 70}),\n",
       "  (0.12593034024191829, {'max_depth': 11, 'min_samples_split': 80}),\n",
       "  (0.12570303647352432, {'max_depth': 11, 'min_samples_split': 90}),\n",
       "  (0.12565081318032295, {'max_depth': 11, 'min_samples_split': 100}),\n",
       "  (0.14518435747960035, {'max_depth': 13, 'min_samples_split': 10}),\n",
       "  (0.14076570005175171, {'max_depth': 13, 'min_samples_split': 20}),\n",
       "  (0.13660606281032636, {'max_depth': 13, 'min_samples_split': 30}),\n",
       "  (0.13465709703887954, {'max_depth': 13, 'min_samples_split': 40}),\n",
       "  (0.1327275175796242, {'max_depth': 13, 'min_samples_split': 50}),\n",
       "  (0.1304062431686947, {'max_depth': 13, 'min_samples_split': 60}),\n",
       "  (0.1262571896415525, {'max_depth': 13, 'min_samples_split': 70}),\n",
       "  (0.12593034024191826, {'max_depth': 13, 'min_samples_split': 80}),\n",
       "  (0.12570303647352435, {'max_depth': 13, 'min_samples_split': 90}),\n",
       "  (0.12565081318032298, {'max_depth': 13, 'min_samples_split': 100}),\n",
       "  (0.14261516606866553, {'max_depth': 15, 'min_samples_split': 10}),\n",
       "  (0.13952167095375884, {'max_depth': 15, 'min_samples_split': 20}),\n",
       "  (0.13796952040176086, {'max_depth': 15, 'min_samples_split': 30}),\n",
       "  (0.13427362537910573, {'max_depth': 15, 'min_samples_split': 40}),\n",
       "  (0.13235924829438686, {'max_depth': 15, 'min_samples_split': 50}),\n",
       "  (0.13222729055468077, {'max_depth': 15, 'min_samples_split': 60}),\n",
       "  (0.12625718964155236, {'max_depth': 15, 'min_samples_split': 70}),\n",
       "  (0.12593034024191835, {'max_depth': 15, 'min_samples_split': 80}),\n",
       "  (0.12570303647352418, {'max_depth': 15, 'min_samples_split': 90}),\n",
       "  (0.12565081318032309, {'max_depth': 15, 'min_samples_split': 100})],\n",
       " {'max_depth': 5, 'min_samples_split': 20},\n",
       " 0.12071324006331585)"
      ]
     },
     "execution_count": 71,
     "metadata": {},
     "output_type": "execute_result"
    }
   ],
   "source": [
    "from sklearn.tree import DecisionTreeRegressor\n",
    "from sklearn.model_selection import GridSearchCV\n",
    "\n",
    "tree_params = {\n",
    "    'max_depth' : range(5,17,2),\n",
    "    'min_samples_split' : range(10,101,10)\n",
    "}\n",
    "\n",
    "tree_search = GridSearchCV(\n",
    "    estimator = DecisionTreeRegressor(),\n",
    "    param_grid = tree_params,\n",
    "    n_jobs = 4,\n",
    "    cv = 5,\n",
    "    scoring = 'neg_mean_squared_error'\n",
    ")\n",
    "tree_search.fit(X = new_train, y = Y)\n",
    "zip(np.sqrt(-tree_search.cv_results_['mean_test_score']),tree_search.cv_results_['params']), tree_search.best_params_,np.sqrt(- tree_search.best_score_)"
   ]
  },
  {
   "cell_type": "code",
   "execution_count": 72,
   "metadata": {
    "collapsed": false
   },
   "outputs": [
    {
     "data": {
      "text/plain": [
       "([(0.11632936742460573, {'alpha': 0.00050000000000000001}),\n",
       "  (0.11577342213962323, {'alpha': 0.00069999999999999999}),\n",
       "  (0.11536862739563306, {'alpha': 0.00089999999999999998}),\n",
       "  (0.11517224060743156, {'alpha': 0.0010999999999999998}),\n",
       "  (0.11508043665482928, {'alpha': 0.0012999999999999999}),\n",
       "  (0.11502062981172727, {'alpha': 0.0015}),\n",
       "  (0.11497282715048403, {'alpha': 0.0016999999999999999}),\n",
       "  (0.114932241010617, {'alpha': 0.0018999999999999998}),\n",
       "  (0.1149052434465298, {'alpha': 0.0020999999999999999}),\n",
       "  (0.11488248891406969, {'alpha': 0.0023}),\n",
       "  (0.11487543000978938, {'alpha': 0.0025000000000000001}),\n",
       "  (0.11490558579537276, {'alpha': 0.0026999999999999997}),\n",
       "  (0.114944517100107, {'alpha': 0.0028999999999999998}),\n",
       "  (0.11498645035674929, {'alpha': 0.0030999999999999999}),\n",
       "  (0.11503152442128223, {'alpha': 0.0032999999999999995}),\n",
       "  (0.11508012347995163, {'alpha': 0.0034999999999999996}),\n",
       "  (0.11513175933294736, {'alpha': 0.0036999999999999997}),\n",
       "  (0.11518625367882565, {'alpha': 0.0038999999999999998}),\n",
       "  (0.11524396185052224, {'alpha': 0.0040999999999999995}),\n",
       "  (0.11530489220127518, {'alpha': 0.0043}),\n",
       "  (0.11536882059245064, {'alpha': 0.0045000000000000005}),\n",
       "  (0.11543562138355762, {'alpha': 0.0046999999999999993}),\n",
       "  (0.1155056459938066, {'alpha': 0.0048999999999999998})],\n",
       " {'alpha': 0.0025000000000000001},\n",
       " 0.11487543000978938)"
      ]
     },
     "execution_count": 72,
     "metadata": {},
     "output_type": "execute_result"
    }
   ],
   "source": [
    "from sklearn.linear_model import Lasso\n",
    "lasso_param_test = {\n",
    "#     'alpha':[0.0001,0.0005,0.001,0.005,0.01,0.05,0.1,0.5,1,3]\n",
    "    'alpha': np.arange(0.0005,0.005,0.0002)\n",
    "}\n",
    "\n",
    "lasso_search = GridSearchCV(\n",
    "    estimator = Lasso(),\n",
    "    param_grid = lasso_param_test, \n",
    "    scoring='neg_mean_squared_error',\n",
    "    n_jobs=1,\n",
    "    iid=False, \n",
    "    cv=5\n",
    ")\n",
    "lasso_search.fit(new_train,Y)\n",
    "zip(np.sqrt(-lasso_search.cv_results_['mean_test_score']),lasso_search.cv_results_['params']), lasso_search.best_params_,np.sqrt(- lasso_search.best_score_)"
   ]
  },
  {
   "cell_type": "code",
   "execution_count": 73,
   "metadata": {
    "collapsed": false
   },
   "outputs": [],
   "source": [
    "new_test = test[['MSZoning', 'Neighborhood', 'SaleType', 'SaleCondition']]\n",
    "new_test[predictNames] = temp_test[predictNames]\n",
    "new_test = pd.get_dummies(new_test)"
   ]
  },
  {
   "cell_type": "code",
   "execution_count": 74,
   "metadata": {
    "collapsed": false
   },
   "outputs": [],
   "source": [
    "predVal = lasso_model.predict(new_test)\n",
    "result = pd.DataFrame({'Id' : test['Id'], \"SalePrice\" : np.expm1(predVal)})"
   ]
  },
  {
   "cell_type": "code",
   "execution_count": 75,
   "metadata": {
    "collapsed": false
   },
   "outputs": [],
   "source": [
    "result.to_csv('result.csv', index = False)"
   ]
  },
  {
   "cell_type": "code",
   "execution_count": 76,
   "metadata": {
    "collapsed": true
   },
   "outputs": [],
   "source": [
    "from sklearn.metrics import mean_squared_error\n",
    "from sklearn.model_selection import train_test_split\n",
    "X_train_train, X_train_test, Y_train, Y_test = train_test_split(new_train, Y, test_size = 0.3, random_state = 42)\n",
    "\n",
    "def plot_train_cv(start, end, step):\n",
    "    train_train_rmse, train_test_rmse = [], []\n",
    "    for i in (start + step * x for x in range(int((end - start) / step) + 1)):\n",
    "        merged_pred = i * X_train_train['XGBPred'] + (1.0 - i) * X_train_train['RidgePred']\n",
    "        train_train_rmse.append(np.sqrt(mean_squared_error(Y_train, merged_pred)))\n",
    "        merged_pred = i * X_train_test['XGBPred'] + (1.0 - i) * X_train_test['RidgePred']\n",
    "        train_test_rmse.append(np.sqrt(mean_squared_error(Y_test, merged_pred)))\n",
    "    ensemble_rmse = pd.DataFrame(index = [start + step * x for x in range(int((end - start) / step) + 1)], data = {\"TrainRMSE\" : train_train_rmse, \"TestRMSE\" : train_test_rmse})\n",
    "    ensemble_rmse.plot()\n",
    "    print (ensemble_rmse['TestRMSE'].argmin(), ensemble_rmse['TestRMSE'].min())"
   ]
  },
  {
   "cell_type": "code",
   "execution_count": 77,
   "metadata": {
    "collapsed": false
   },
   "outputs": [
    {
     "name": "stdout",
     "output_type": "stream",
     "text": [
      "(0.26000000000000001, 0.10762432991920363)\n"
     ]
    },
    {
     "data": {
      "image/png": "[encoded data removed]",
      "text/plain": [
       "<matplotlib.figure.Figure at 0x11a5f6b90>"
      ]
     },
     "metadata": {
      "image/png": {
       "height": 370,
       "width": 834
      }
     },
     "output_type": "display_data"
    }
   ],
   "source": [
    "plot_train_cv(0, 1, 0.02)"
   ]
  },
  {
   "cell_type": "code",
   "execution_count": 78,
   "metadata": {
    "collapsed": true
   },
   "outputs": [],
   "source": [
    "predVal = 0.26 * temp_test['XGBPred'] + 0.74 * temp_test['RidgePred']\n",
    "result = pd.DataFrame({'Id' : test['Id'], \"SalePrice\" : np.expm1(predVal)})"
   ]
  },
  {
   "cell_type": "code",
   "execution_count": 79,
   "metadata": {
    "collapsed": true
   },
   "outputs": [],
   "source": [
    "result.to_csv('result.csv', index = False)"
   ]
  },
  {
   "cell_type": "code",
   "execution_count": null,
   "metadata": {
    "collapsed": true
   },
   "outputs": [],
   "source": []
  }
 ],
 "metadata": {
  "kernelspec": {
   "display_name": "Python 2",
   "language": "python",
   "name": "python2"
  },
  "language_info": {
   "codemirror_mode": {
    "name": "ipython",
    "version": 2
   },
   "file_extension": ".py",
   "mimetype": "text/x-python",
   "name": "python",
   "nbconvert_exporter": "python",
   "pygments_lexer": "ipython2",
   "version": "2.7.11"
  }
 },
 "nbformat": 4,
 "nbformat_minor": 0
}
